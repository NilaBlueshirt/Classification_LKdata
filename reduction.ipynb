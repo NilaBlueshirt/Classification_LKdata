{
 "cells": [
  {
   "cell_type": "code",
   "execution_count": 1,
   "id": "7a3b9b52-5846-4598-a1cc-858ae6447b1f",
   "metadata": {},
   "outputs": [],
   "source": [
    "from sklearn import preprocessing\n",
    "from sklearn.manifold import TSNE\n",
    "from sklearn.decomposition import PCA\n",
    "import seaborn as sns\n",
    "import numpy as np\n",
    "import pandas as pd\n",
    "import matplotlib.pyplot as plt\n",
    "import plotly.express as px"
   ]
  },
  {
   "cell_type": "markdown",
   "id": "663e4ba1-2008-4353-8a10-5a52883c420f",
   "metadata": {},
   "source": [
    "## Simple PCA"
   ]
  },
  {
   "cell_type": "code",
   "execution_count": 3,
   "id": "cfb5355e-3ca8-4de5-812f-90cda38c12d6",
   "metadata": {},
   "outputs": [
    {
     "data": {
      "application/vnd.plotly.v1+json": {
       "config": {
        "plotlyServerURL": "https://plot.ly"
       },
       "data": [
        {
         "hovertemplate": "color=0<br>PC 1=%{x}<br>PC 2=%{y}<br>PC 3=%{z}<extra></extra>",
         "legendgroup": "0",
         "marker": {
          "color": "#636efa",
          "size": 4,
          "symbol": "circle"
         },
         "mode": "markers",
         "name": "0",
         "scene": "scene",
         "showlegend": true,
         "type": "scatter3d",
         "x": [
          -0.20948896987471097,
          0.11699989740694432,
          0.4624637694138297,
          0.35761984067745045,
          0.10244998544238942,
          -0.02714198421145974,
          -0.06801025114918777,
          0.11527531289786144,
          0.1833449195114089,
          -0.2646481501920112,
          -0.4813829151525662,
          -0.029867433690841477,
          0.1970471597667884,
          0.28613729438967594,
          -0.1388796754795512,
          0.11813813764263334,
          -0.3455186342834315,
          -0.08383139018654724,
          -0.15429290657766515,
          0.4533817531002512,
          -0.16889630309758136,
          -0.17030696014582436,
          0.056655930544691736,
          0.10165451592857744,
          0.38172239181013623,
          0.27510977109217405,
          -0.46157374602430956,
          -0.25409634743957776,
          0.32204688612916155,
          0.4804864633834092,
          -0.35937892452607917,
          -0.11287583747330855,
          -0.39355026450204944,
          0.16024807257344484,
          0.17241630059770105,
          0.3107278515940517,
          0.45759641557858444,
          -0.38924712869015476,
          0.29546992051654225,
          -0.027181356950717744,
          -0.09491508023440623,
          0.43074114549604703,
          0.08663535321334606,
          -0.20229744635950606,
          -0.10061502943180517,
          -0.3493137481255791,
          -0.3731400624102825,
          -0.25270907377080465,
          -0.060094808309910444,
          -0.4205458146115404,
          -0.03173349826927136,
          0.22545107828426292,
          0.21067962628163225,
          -0.36151526794910294,
          0.20890657234596982,
          -0.16680880476588317,
          0.34341316377666564,
          0.18461945381434425,
          -0.027951895436183774,
          -0.2946855883566966,
          -0.06914808101420421,
          -0.3932945790662467,
          0.48641689936803406,
          -0.27366385711956237,
          -0.12612797121437141,
          -0.4053418818337114,
          0.05256004412002662,
          0.10072968398878912
         ],
         "y": [
          -0.2535867040988624,
          -0.09208459611500097,
          -0.1067316340061037,
          -0.12119208545969529,
          0.3140142529804303,
          0.27246889361786764,
          0.2837772133849081,
          0.07585403222148972,
          -0.1490873196801605,
          -0.2687804584500905,
          -0.26820249778092536,
          -0.027000553552150502,
          -0.15848984576603362,
          -0.02818065106063078,
          -0.21015415246910715,
          0.029024026319120082,
          -0.1981539256742436,
          0.005077663707245602,
          -0.22519116144309267,
          -0.11829242500533646,
          -0.2086937996094798,
          0.36551856726162485,
          -0.012593936762691084,
          -0.28655456031865895,
          0.003163337489040767,
          0.16065247277948336,
          0.00016764017845364483,
          0.06133003059502296,
          -0.005864383920666858,
          -0.09538784090078015,
          -0.2414408519878631,
          0.2822682678960505,
          0.30110597811125334,
          -0.08420598921294076,
          0.18005674951033737,
          0.22356333974205633,
          -0.09484860915138589,
          -0.1448834207703159,
          0.16304775435102886,
          -0.046860328596547825,
          -0.205725994572894,
          0.031832126743583246,
          0.40341898194746467,
          0.40605119772282994,
          0.13970808800854229,
          -0.15738360089770914,
          0.3417290746956593,
          0.1647365448994737,
          -0.23025899355072504,
          -0.1833377457083239,
          0.10307453281439244,
          -0.22170744618814944,
          0.16857139752282888,
          -0.08299946589213289,
          0.0731813732893262,
          0.02331213205108309,
          -0.16658941620203654,
          0.2251728061050028,
          -0.21768815042849518,
          -0.011742231842636447,
          0.5119973562416037,
          -0.41333569099554024,
          -0.07469025944722434,
          0.3205336909212548,
          -0.23134632068492914,
          0.025121093154845748,
          -0.2949660507661758,
          0.06428002321241359
         ],
         "z": [
          -0.158806973923702,
          0.21837109963057869,
          0.1774471177520513,
          0.006854214885457013,
          -0.07572686865271588,
          -0.08928386450966144,
          -0.17964798096053014,
          -0.02640675362380086,
          -0.06716398201505562,
          -0.12252047315426687,
          0.3191743954284943,
          -0.012137536045891824,
          -0.18047635327971914,
          0.09416735831325232,
          -0.23565235424922207,
          0.09185194458585591,
          0.31570703150564083,
          0.17784964374651605,
          -0.22287002828097258,
          0.10300122470190913,
          -0.17078949588738151,
          -0.08322690317379733,
          0.2185928618000916,
          -0.32394451969099414,
          0.20678330437755998,
          0.0922438038343966,
          0.2599872345362255,
          0.18914291590934218,
          0.03695450320762327,
          0.10529112741979972,
          0.20558664376587776,
          0.0034258866237575243,
          0.04751584322370688,
          0.23454852628813025,
          0.07706403680428578,
          0.10620230717199554,
          0.1385598813241807,
          0.31446378444781764,
          0.0882379508433247,
          -0.16579115684429235,
          -0.23397886882009278,
          0.15161429187853157,
          -0.008549766470719587,
          -0.037439740626970745,
          -0.1926955713856653,
          -0.05674593807621005,
          -0.020524970344095356,
          -0.11002564903455744,
          -0.29177080071247213,
          0.2945999988561651,
          -0.1387471670348585,
          -0.1537011906609806,
          0.14314333772624316,
          0.3515777403937238,
          -0.04319408254081707,
          0.1315246168273078,
          -0.015135317976749904,
          -0.010710704119874494,
          -0.04085158410284707,
          0.11004499466727906,
          -0.1512539843273639,
          -0.06252200455990935,
          0.1965047955547247,
          -0.23208110496190965,
          -0.3176978503534387,
          0.21945597755319227,
          -0.3451903172992588,
          0.12673591553027602
         ]
        },
        {
         "hovertemplate": "color=1<br>PC 1=%{x}<br>PC 2=%{y}<br>PC 3=%{z}<extra></extra>",
         "legendgroup": "1",
         "marker": {
          "color": "#EF553B",
          "size": 4,
          "symbol": "circle"
         },
         "mode": "markers",
         "name": "1",
         "scene": "scene",
         "showlegend": true,
         "type": "scatter3d",
         "x": [
          -0.23593860077400813,
          -0.19347806683092086,
          0.2884990192421707,
          0.11983052690973375,
          -0.06930762193874719,
          0.3615648881771516,
          0.10068727769968813,
          0.035068634754744185
         ],
         "y": [
          0.6248843647437,
          -0.14644093373431308,
          -0.24861067670960824,
          0.2873070996531444,
          -0.19126512399193044,
          -0.12136594358492057,
          0.24631538785850837,
          -0.23640171474056507
         ],
         "z": [
          -0.23330542252602918,
          0.010952080507852574,
          -0.18023257637393547,
          -0.05030966962223048,
          -0.20533439334176257,
          0.0393611516624567,
          -0.09878900762642996,
          -0.2593066160944402
         ]
        }
       ],
       "layout": {
        "height": 800,
        "legend": {
         "title": {
          "text": "color"
         },
         "tracegroupgap": 0
        },
        "scene": {
         "aspectmode": "auto",
         "aspectratio": {
          "x": 1.0899279943002376,
          "y": 1.1692346764446135,
          "z": 0.784694314071518
         },
         "camera": {
          "center": {
           "x": 0,
           "y": 0,
           "z": 0
          },
          "eye": {
           "x": -0.6589309542994817,
           "y": 2.031193118074877,
           "z": 0.3571617484435219
          },
          "projection": {
           "type": "perspective"
          },
          "up": {
           "x": 0,
           "y": 0,
           "z": 1
          }
         },
         "domain": {
          "x": [
           0,
           1
          ],
          "y": [
           0,
           1
          ]
         },
         "xaxis": {
          "title": {
           "text": "PC 1"
          },
          "type": "linear"
         },
         "yaxis": {
          "title": {
           "text": "PC 2"
          },
          "type": "linear"
         },
         "zaxis": {
          "title": {
           "text": "PC 3"
          },
          "type": "linear"
         }
        },
        "template": {
         "data": {
          "bar": [
           {
            "error_x": {
             "color": "#2a3f5f"
            },
            "error_y": {
             "color": "#2a3f5f"
            },
            "marker": {
             "line": {
              "color": "#E5ECF6",
              "width": 0.5
             },
             "pattern": {
              "fillmode": "overlay",
              "size": 10,
              "solidity": 0.2
             }
            },
            "type": "bar"
           }
          ],
          "barpolar": [
           {
            "marker": {
             "line": {
              "color": "#E5ECF6",
              "width": 0.5
             },
             "pattern": {
              "fillmode": "overlay",
              "size": 10,
              "solidity": 0.2
             }
            },
            "type": "barpolar"
           }
          ],
          "carpet": [
           {
            "aaxis": {
             "endlinecolor": "#2a3f5f",
             "gridcolor": "white",
             "linecolor": "white",
             "minorgridcolor": "white",
             "startlinecolor": "#2a3f5f"
            },
            "baxis": {
             "endlinecolor": "#2a3f5f",
             "gridcolor": "white",
             "linecolor": "white",
             "minorgridcolor": "white",
             "startlinecolor": "#2a3f5f"
            },
            "type": "carpet"
           }
          ],
          "choropleth": [
           {
            "colorbar": {
             "outlinewidth": 0,
             "ticks": ""
            },
            "type": "choropleth"
           }
          ],
          "contour": [
           {
            "colorbar": {
             "outlinewidth": 0,
             "ticks": ""
            },
            "colorscale": [
             [
              0,
              "#0d0887"
             ],
             [
              0.1111111111111111,
              "#46039f"
             ],
             [
              0.2222222222222222,
              "#7201a8"
             ],
             [
              0.3333333333333333,
              "#9c179e"
             ],
             [
              0.4444444444444444,
              "#bd3786"
             ],
             [
              0.5555555555555556,
              "#d8576b"
             ],
             [
              0.6666666666666666,
              "#ed7953"
             ],
             [
              0.7777777777777778,
              "#fb9f3a"
             ],
             [
              0.8888888888888888,
              "#fdca26"
             ],
             [
              1,
              "#f0f921"
             ]
            ],
            "type": "contour"
           }
          ],
          "contourcarpet": [
           {
            "colorbar": {
             "outlinewidth": 0,
             "ticks": ""
            },
            "type": "contourcarpet"
           }
          ],
          "heatmap": [
           {
            "colorbar": {
             "outlinewidth": 0,
             "ticks": ""
            },
            "colorscale": [
             [
              0,
              "#0d0887"
             ],
             [
              0.1111111111111111,
              "#46039f"
             ],
             [
              0.2222222222222222,
              "#7201a8"
             ],
             [
              0.3333333333333333,
              "#9c179e"
             ],
             [
              0.4444444444444444,
              "#bd3786"
             ],
             [
              0.5555555555555556,
              "#d8576b"
             ],
             [
              0.6666666666666666,
              "#ed7953"
             ],
             [
              0.7777777777777778,
              "#fb9f3a"
             ],
             [
              0.8888888888888888,
              "#fdca26"
             ],
             [
              1,
              "#f0f921"
             ]
            ],
            "type": "heatmap"
           }
          ],
          "heatmapgl": [
           {
            "colorbar": {
             "outlinewidth": 0,
             "ticks": ""
            },
            "colorscale": [
             [
              0,
              "#0d0887"
             ],
             [
              0.1111111111111111,
              "#46039f"
             ],
             [
              0.2222222222222222,
              "#7201a8"
             ],
             [
              0.3333333333333333,
              "#9c179e"
             ],
             [
              0.4444444444444444,
              "#bd3786"
             ],
             [
              0.5555555555555556,
              "#d8576b"
             ],
             [
              0.6666666666666666,
              "#ed7953"
             ],
             [
              0.7777777777777778,
              "#fb9f3a"
             ],
             [
              0.8888888888888888,
              "#fdca26"
             ],
             [
              1,
              "#f0f921"
             ]
            ],
            "type": "heatmapgl"
           }
          ],
          "histogram": [
           {
            "marker": {
             "pattern": {
              "fillmode": "overlay",
              "size": 10,
              "solidity": 0.2
             }
            },
            "type": "histogram"
           }
          ],
          "histogram2d": [
           {
            "colorbar": {
             "outlinewidth": 0,
             "ticks": ""
            },
            "colorscale": [
             [
              0,
              "#0d0887"
             ],
             [
              0.1111111111111111,
              "#46039f"
             ],
             [
              0.2222222222222222,
              "#7201a8"
             ],
             [
              0.3333333333333333,
              "#9c179e"
             ],
             [
              0.4444444444444444,
              "#bd3786"
             ],
             [
              0.5555555555555556,
              "#d8576b"
             ],
             [
              0.6666666666666666,
              "#ed7953"
             ],
             [
              0.7777777777777778,
              "#fb9f3a"
             ],
             [
              0.8888888888888888,
              "#fdca26"
             ],
             [
              1,
              "#f0f921"
             ]
            ],
            "type": "histogram2d"
           }
          ],
          "histogram2dcontour": [
           {
            "colorbar": {
             "outlinewidth": 0,
             "ticks": ""
            },
            "colorscale": [
             [
              0,
              "#0d0887"
             ],
             [
              0.1111111111111111,
              "#46039f"
             ],
             [
              0.2222222222222222,
              "#7201a8"
             ],
             [
              0.3333333333333333,
              "#9c179e"
             ],
             [
              0.4444444444444444,
              "#bd3786"
             ],
             [
              0.5555555555555556,
              "#d8576b"
             ],
             [
              0.6666666666666666,
              "#ed7953"
             ],
             [
              0.7777777777777778,
              "#fb9f3a"
             ],
             [
              0.8888888888888888,
              "#fdca26"
             ],
             [
              1,
              "#f0f921"
             ]
            ],
            "type": "histogram2dcontour"
           }
          ],
          "mesh3d": [
           {
            "colorbar": {
             "outlinewidth": 0,
             "ticks": ""
            },
            "type": "mesh3d"
           }
          ],
          "parcoords": [
           {
            "line": {
             "colorbar": {
              "outlinewidth": 0,
              "ticks": ""
             }
            },
            "type": "parcoords"
           }
          ],
          "pie": [
           {
            "automargin": true,
            "type": "pie"
           }
          ],
          "scatter": [
           {
            "fillpattern": {
             "fillmode": "overlay",
             "size": 10,
             "solidity": 0.2
            },
            "type": "scatter"
           }
          ],
          "scatter3d": [
           {
            "line": {
             "colorbar": {
              "outlinewidth": 0,
              "ticks": ""
             }
            },
            "marker": {
             "colorbar": {
              "outlinewidth": 0,
              "ticks": ""
             }
            },
            "type": "scatter3d"
           }
          ],
          "scattercarpet": [
           {
            "marker": {
             "colorbar": {
              "outlinewidth": 0,
              "ticks": ""
             }
            },
            "type": "scattercarpet"
           }
          ],
          "scattergeo": [
           {
            "marker": {
             "colorbar": {
              "outlinewidth": 0,
              "ticks": ""
             }
            },
            "type": "scattergeo"
           }
          ],
          "scattergl": [
           {
            "marker": {
             "colorbar": {
              "outlinewidth": 0,
              "ticks": ""
             }
            },
            "type": "scattergl"
           }
          ],
          "scattermapbox": [
           {
            "marker": {
             "colorbar": {
              "outlinewidth": 0,
              "ticks": ""
             }
            },
            "type": "scattermapbox"
           }
          ],
          "scatterpolar": [
           {
            "marker": {
             "colorbar": {
              "outlinewidth": 0,
              "ticks": ""
             }
            },
            "type": "scatterpolar"
           }
          ],
          "scatterpolargl": [
           {
            "marker": {
             "colorbar": {
              "outlinewidth": 0,
              "ticks": ""
             }
            },
            "type": "scatterpolargl"
           }
          ],
          "scatterternary": [
           {
            "marker": {
             "colorbar": {
              "outlinewidth": 0,
              "ticks": ""
             }
            },
            "type": "scatterternary"
           }
          ],
          "surface": [
           {
            "colorbar": {
             "outlinewidth": 0,
             "ticks": ""
            },
            "colorscale": [
             [
              0,
              "#0d0887"
             ],
             [
              0.1111111111111111,
              "#46039f"
             ],
             [
              0.2222222222222222,
              "#7201a8"
             ],
             [
              0.3333333333333333,
              "#9c179e"
             ],
             [
              0.4444444444444444,
              "#bd3786"
             ],
             [
              0.5555555555555556,
              "#d8576b"
             ],
             [
              0.6666666666666666,
              "#ed7953"
             ],
             [
              0.7777777777777778,
              "#fb9f3a"
             ],
             [
              0.8888888888888888,
              "#fdca26"
             ],
             [
              1,
              "#f0f921"
             ]
            ],
            "type": "surface"
           }
          ],
          "table": [
           {
            "cells": {
             "fill": {
              "color": "#EBF0F8"
             },
             "line": {
              "color": "white"
             }
            },
            "header": {
             "fill": {
              "color": "#C8D4E3"
             },
             "line": {
              "color": "white"
             }
            },
            "type": "table"
           }
          ]
         },
         "layout": {
          "annotationdefaults": {
           "arrowcolor": "#2a3f5f",
           "arrowhead": 0,
           "arrowwidth": 1
          },
          "autotypenumbers": "strict",
          "coloraxis": {
           "colorbar": {
            "outlinewidth": 0,
            "ticks": ""
           }
          },
          "colorscale": {
           "diverging": [
            [
             0,
             "#8e0152"
            ],
            [
             0.1,
             "#c51b7d"
            ],
            [
             0.2,
             "#de77ae"
            ],
            [
             0.3,
             "#f1b6da"
            ],
            [
             0.4,
             "#fde0ef"
            ],
            [
             0.5,
             "#f7f7f7"
            ],
            [
             0.6,
             "#e6f5d0"
            ],
            [
             0.7,
             "#b8e186"
            ],
            [
             0.8,
             "#7fbc41"
            ],
            [
             0.9,
             "#4d9221"
            ],
            [
             1,
             "#276419"
            ]
           ],
           "sequential": [
            [
             0,
             "#0d0887"
            ],
            [
             0.1111111111111111,
             "#46039f"
            ],
            [
             0.2222222222222222,
             "#7201a8"
            ],
            [
             0.3333333333333333,
             "#9c179e"
            ],
            [
             0.4444444444444444,
             "#bd3786"
            ],
            [
             0.5555555555555556,
             "#d8576b"
            ],
            [
             0.6666666666666666,
             "#ed7953"
            ],
            [
             0.7777777777777778,
             "#fb9f3a"
            ],
            [
             0.8888888888888888,
             "#fdca26"
            ],
            [
             1,
             "#f0f921"
            ]
           ],
           "sequentialminus": [
            [
             0,
             "#0d0887"
            ],
            [
             0.1111111111111111,
             "#46039f"
            ],
            [
             0.2222222222222222,
             "#7201a8"
            ],
            [
             0.3333333333333333,
             "#9c179e"
            ],
            [
             0.4444444444444444,
             "#bd3786"
            ],
            [
             0.5555555555555556,
             "#d8576b"
            ],
            [
             0.6666666666666666,
             "#ed7953"
            ],
            [
             0.7777777777777778,
             "#fb9f3a"
            ],
            [
             0.8888888888888888,
             "#fdca26"
            ],
            [
             1,
             "#f0f921"
            ]
           ]
          },
          "colorway": [
           "#636efa",
           "#EF553B",
           "#00cc96",
           "#ab63fa",
           "#FFA15A",
           "#19d3f3",
           "#FF6692",
           "#B6E880",
           "#FF97FF",
           "#FECB52"
          ],
          "font": {
           "color": "#2a3f5f"
          },
          "geo": {
           "bgcolor": "white",
           "lakecolor": "white",
           "landcolor": "#E5ECF6",
           "showlakes": true,
           "showland": true,
           "subunitcolor": "white"
          },
          "hoverlabel": {
           "align": "left"
          },
          "hovermode": "closest",
          "mapbox": {
           "style": "light"
          },
          "paper_bgcolor": "white",
          "plot_bgcolor": "#E5ECF6",
          "polar": {
           "angularaxis": {
            "gridcolor": "white",
            "linecolor": "white",
            "ticks": ""
           },
           "bgcolor": "#E5ECF6",
           "radialaxis": {
            "gridcolor": "white",
            "linecolor": "white",
            "ticks": ""
           }
          },
          "scene": {
           "xaxis": {
            "backgroundcolor": "#E5ECF6",
            "gridcolor": "white",
            "gridwidth": 2,
            "linecolor": "white",
            "showbackground": true,
            "ticks": "",
            "zerolinecolor": "white"
           },
           "yaxis": {
            "backgroundcolor": "#E5ECF6",
            "gridcolor": "white",
            "gridwidth": 2,
            "linecolor": "white",
            "showbackground": true,
            "ticks": "",
            "zerolinecolor": "white"
           },
           "zaxis": {
            "backgroundcolor": "#E5ECF6",
            "gridcolor": "white",
            "gridwidth": 2,
            "linecolor": "white",
            "showbackground": true,
            "ticks": "",
            "zerolinecolor": "white"
           }
          },
          "shapedefaults": {
           "line": {
            "color": "#2a3f5f"
           }
          },
          "ternary": {
           "aaxis": {
            "gridcolor": "white",
            "linecolor": "white",
            "ticks": ""
           },
           "baxis": {
            "gridcolor": "white",
            "linecolor": "white",
            "ticks": ""
           },
           "bgcolor": "#E5ECF6",
           "caxis": {
            "gridcolor": "white",
            "linecolor": "white",
            "ticks": ""
           }
          },
          "title": {
           "x": 0.05
          },
          "xaxis": {
           "automargin": true,
           "gridcolor": "white",
           "linecolor": "white",
           "ticks": "",
           "title": {
            "standoff": 15
           },
           "zerolinecolor": "white",
           "zerolinewidth": 2
          },
          "yaxis": {
           "automargin": true,
           "gridcolor": "white",
           "linecolor": "white",
           "ticks": "",
           "title": {
            "standoff": 15
           },
           "zerolinecolor": "white",
           "zerolinewidth": 2
          }
         }
        },
        "title": {
         "text": "Total Explained Variance: 74.89%"
        },
        "width": 800
       }
      },
      "image/png": "[encoded data removed]",
      "text/html": [
       "<div>                            <div id=\"caf88680-ad36-43e3-a3c1-3460b4ef4250\" class=\"plotly-graph-div\" style=\"height:800px; width:800px;\"></div>            <script type=\"text/javascript\">                require([\"plotly\"], function(Plotly) {                    window.PLOTLYENV=window.PLOTLYENV || {};                                    if (document.getElementById(\"caf88680-ad36-43e3-a3c1-3460b4ef4250\")) {                    Plotly.newPlot(                        \"caf88680-ad36-43e3-a3c1-3460b4ef4250\",                        [{\"hovertemplate\":\"color=0\\u003cbr\\u003ePC 1=%{x}\\u003cbr\\u003ePC 2=%{y}\\u003cbr\\u003ePC 3=%{z}\\u003cextra\\u003e\\u003c\\u002fextra\\u003e\",\"legendgroup\":\"0\",\"marker\":{\"color\":\"#636efa\",\"symbol\":\"circle\",\"size\":4},\"mode\":\"markers\",\"name\":\"0\",\"scene\":\"scene\",\"showlegend\":true,\"x\":[-0.20948896987471097,0.11699989740694432,0.4624637694138297,0.35761984067745045,0.10244998544238942,-0.02714198421145974,-0.06801025114918777,0.11527531289786144,0.1833449195114089,-0.2646481501920112,-0.4813829151525662,-0.029867433690841477,0.1970471597667884,0.28613729438967594,-0.1388796754795512,0.11813813764263334,-0.3455186342834315,-0.08383139018654724,-0.15429290657766515,0.4533817531002512,-0.16889630309758136,-0.17030696014582436,0.056655930544691736,0.10165451592857744,0.38172239181013623,0.27510977109217405,-0.46157374602430956,-0.25409634743957776,0.32204688612916155,0.4804864633834092,-0.35937892452607917,-0.11287583747330855,-0.39355026450204944,0.16024807257344484,0.17241630059770105,0.3107278515940517,0.45759641557858444,-0.38924712869015476,0.29546992051654225,-0.027181356950717744,-0.09491508023440623,0.43074114549604703,0.08663535321334606,-0.20229744635950606,-0.10061502943180517,-0.3493137481255791,-0.3731400624102825,-0.25270907377080465,-0.060094808309910444,-0.4205458146115404,-0.03173349826927136,0.22545107828426292,0.21067962628163225,-0.36151526794910294,0.20890657234596982,-0.16680880476588317,0.34341316377666564,0.18461945381434425,-0.027951895436183774,-0.2946855883566966,-0.06914808101420421,-0.3932945790662467,0.48641689936803406,-0.27366385711956237,-0.12612797121437141,-0.4053418818337114,0.05256004412002662,0.10072968398878912],\"y\":[-0.2535867040988624,-0.09208459611500097,-0.1067316340061037,-0.12119208545969529,0.3140142529804303,0.27246889361786764,0.2837772133849081,0.07585403222148972,-0.1490873196801605,-0.2687804584500905,-0.26820249778092536,-0.027000553552150502,-0.15848984576603362,-0.02818065106063078,-0.21015415246910715,0.029024026319120082,-0.1981539256742436,0.005077663707245602,-0.22519116144309267,-0.11829242500533646,-0.2086937996094798,0.36551856726162485,-0.012593936762691084,-0.28655456031865895,0.003163337489040767,0.16065247277948336,0.00016764017845364483,0.06133003059502296,-0.005864383920666858,-0.09538784090078015,-0.2414408519878631,0.2822682678960505,0.30110597811125334,-0.08420598921294076,0.18005674951033737,0.22356333974205633,-0.09484860915138589,-0.1448834207703159,0.16304775435102886,-0.046860328596547825,-0.205725994572894,0.031832126743583246,0.40341898194746467,0.40605119772282994,0.13970808800854229,-0.15738360089770914,0.3417290746956593,0.1647365448994737,-0.23025899355072504,-0.1833377457083239,0.10307453281439244,-0.22170744618814944,0.16857139752282888,-0.08299946589213289,0.0731813732893262,0.02331213205108309,-0.16658941620203654,0.2251728061050028,-0.21768815042849518,-0.011742231842636447,0.5119973562416037,-0.41333569099554024,-0.07469025944722434,0.3205336909212548,-0.23134632068492914,0.025121093154845748,-0.2949660507661758,0.06428002321241359],\"z\":[-0.158806973923702,0.21837109963057869,0.1774471177520513,0.006854214885457013,-0.07572686865271588,-0.08928386450966144,-0.17964798096053014,-0.02640675362380086,-0.06716398201505562,-0.12252047315426687,0.3191743954284943,-0.012137536045891824,-0.18047635327971914,0.09416735831325232,-0.23565235424922207,0.09185194458585591,0.31570703150564083,0.17784964374651605,-0.22287002828097258,0.10300122470190913,-0.17078949588738151,-0.08322690317379733,0.2185928618000916,-0.32394451969099414,0.20678330437755998,0.0922438038343966,0.2599872345362255,0.18914291590934218,0.03695450320762327,0.10529112741979972,0.20558664376587776,0.0034258866237575243,0.04751584322370688,0.23454852628813025,0.07706403680428578,0.10620230717199554,0.1385598813241807,0.31446378444781764,0.0882379508433247,-0.16579115684429235,-0.23397886882009278,0.15161429187853157,-0.008549766470719587,-0.037439740626970745,-0.1926955713856653,-0.05674593807621005,-0.020524970344095356,-0.11002564903455744,-0.29177080071247213,0.2945999988561651,-0.1387471670348585,-0.1537011906609806,0.14314333772624316,0.3515777403937238,-0.04319408254081707,0.1315246168273078,-0.015135317976749904,-0.010710704119874494,-0.04085158410284707,0.11004499466727906,-0.1512539843273639,-0.06252200455990935,0.1965047955547247,-0.23208110496190965,-0.3176978503534387,0.21945597755319227,-0.3451903172992588,0.12673591553027602],\"type\":\"scatter3d\"},{\"hovertemplate\":\"color=1\\u003cbr\\u003ePC 1=%{x}\\u003cbr\\u003ePC 2=%{y}\\u003cbr\\u003ePC 3=%{z}\\u003cextra\\u003e\\u003c\\u002fextra\\u003e\",\"legendgroup\":\"1\",\"marker\":{\"color\":\"#EF553B\",\"symbol\":\"circle\",\"size\":4},\"mode\":\"markers\",\"name\":\"1\",\"scene\":\"scene\",\"showlegend\":true,\"x\":[-0.23593860077400813,-0.19347806683092086,0.2884990192421707,0.11983052690973375,-0.06930762193874719,0.3615648881771516,0.10068727769968813,0.035068634754744185],\"y\":[0.6248843647437,-0.14644093373431308,-0.24861067670960824,0.2873070996531444,-0.19126512399193044,-0.12136594358492057,0.24631538785850837,-0.23640171474056507],\"z\":[-0.23330542252602918,0.010952080507852574,-0.18023257637393547,-0.05030966962223048,-0.20533439334176257,0.0393611516624567,-0.09878900762642996,-0.2593066160944402],\"type\":\"scatter3d\"}],                        {\"template\":{\"data\":{\"histogram2dcontour\":[{\"type\":\"histogram2dcontour\",\"colorbar\":{\"outlinewidth\":0,\"ticks\":\"\"},\"colorscale\":[[0.0,\"#0d0887\"],[0.1111111111111111,\"#46039f\"],[0.2222222222222222,\"#7201a8\"],[0.3333333333333333,\"#9c179e\"],[0.4444444444444444,\"#bd3786\"],[0.5555555555555556,\"#d8576b\"],[0.6666666666666666,\"#ed7953\"],[0.7777777777777778,\"#fb9f3a\"],[0.8888888888888888,\"#fdca26\"],[1.0,\"#f0f921\"]]}],\"choropleth\":[{\"type\":\"choropleth\",\"colorbar\":{\"outlinewidth\":0,\"ticks\":\"\"}}],\"histogram2d\":[{\"type\":\"histogram2d\",\"colorbar\":{\"outlinewidth\":0,\"ticks\":\"\"},\"colorscale\":[[0.0,\"#0d0887\"],[0.1111111111111111,\"#46039f\"],[0.2222222222222222,\"#7201a8\"],[0.3333333333333333,\"#9c179e\"],[0.4444444444444444,\"#bd3786\"],[0.5555555555555556,\"#d8576b\"],[0.6666666666666666,\"#ed7953\"],[0.7777777777777778,\"#fb9f3a\"],[0.8888888888888888,\"#fdca26\"],[1.0,\"#f0f921\"]]}],\"heatmap\":[{\"type\":\"heatmap\",\"colorbar\":{\"outlinewidth\":0,\"ticks\":\"\"},\"colorscale\":[[0.0,\"#0d0887\"],[0.1111111111111111,\"#46039f\"],[0.2222222222222222,\"#7201a8\"],[0.3333333333333333,\"#9c179e\"],[0.4444444444444444,\"#bd3786\"],[0.5555555555555556,\"#d8576b\"],[0.6666666666666666,\"#ed7953\"],[0.7777777777777778,\"#fb9f3a\"],[0.8888888888888888,\"#fdca26\"],[1.0,\"#f0f921\"]]}],\"heatmapgl\":[{\"type\":\"heatmapgl\",\"colorbar\":{\"outlinewidth\":0,\"ticks\":\"\"},\"colorscale\":[[0.0,\"#0d0887\"],[0.1111111111111111,\"#46039f\"],[0.2222222222222222,\"#7201a8\"],[0.3333333333333333,\"#9c179e\"],[0.4444444444444444,\"#bd3786\"],[0.5555555555555556,\"#d8576b\"],[0.6666666666666666,\"#ed7953\"],[0.7777777777777778,\"#fb9f3a\"],[0.8888888888888888,\"#fdca26\"],[1.0,\"#f0f921\"]]}],\"contourcarpet\":[{\"type\":\"contourcarpet\",\"colorbar\":{\"outlinewidth\":0,\"ticks\":\"\"}}],\"contour\":[{\"type\":\"contour\",\"colorbar\":{\"outlinewidth\":0,\"ticks\":\"\"},\"colorscale\":[[0.0,\"#0d0887\"],[0.1111111111111111,\"#46039f\"],[0.2222222222222222,\"#7201a8\"],[0.3333333333333333,\"#9c179e\"],[0.4444444444444444,\"#bd3786\"],[0.5555555555555556,\"#d8576b\"],[0.6666666666666666,\"#ed7953\"],[0.7777777777777778,\"#fb9f3a\"],[0.8888888888888888,\"#fdca26\"],[1.0,\"#f0f921\"]]}],\"surface\":[{\"type\":\"surface\",\"colorbar\":{\"outlinewidth\":0,\"ticks\":\"\"},\"colorscale\":[[0.0,\"#0d0887\"],[0.1111111111111111,\"#46039f\"],[0.2222222222222222,\"#7201a8\"],[0.3333333333333333,\"#9c179e\"],[0.4444444444444444,\"#bd3786\"],[0.5555555555555556,\"#d8576b\"],[0.6666666666666666,\"#ed7953\"],[0.7777777777777778,\"#fb9f3a\"],[0.8888888888888888,\"#fdca26\"],[1.0,\"#f0f921\"]]}],\"mesh3d\":[{\"type\":\"mesh3d\",\"colorbar\":{\"outlinewidth\":0,\"ticks\":\"\"}}],\"scatter\":[{\"fillpattern\":{\"fillmode\":\"overlay\",\"size\":10,\"solidity\":0.2},\"type\":\"scatter\"}],\"parcoords\":[{\"type\":\"parcoords\",\"line\":{\"colorbar\":{\"outlinewidth\":0,\"ticks\":\"\"}}}],\"scatterpolargl\":[{\"type\":\"scatterpolargl\",\"marker\":{\"colorbar\":{\"outlinewidth\":0,\"ticks\":\"\"}}}],\"bar\":[{\"error_x\":{\"color\":\"#2a3f5f\"},\"error_y\":{\"color\":\"#2a3f5f\"},\"marker\":{\"line\":{\"color\":\"#E5ECF6\",\"width\":0.5},\"pattern\":{\"fillmode\":\"overlay\",\"size\":10,\"solidity\":0.2}},\"type\":\"bar\"}],\"scattergeo\":[{\"type\":\"scattergeo\",\"marker\":{\"colorbar\":{\"outlinewidth\":0,\"ticks\":\"\"}}}],\"scatterpolar\":[{\"type\":\"scatterpolar\",\"marker\":{\"colorbar\":{\"outlinewidth\":0,\"ticks\":\"\"}}}],\"histogram\":[{\"marker\":{\"pattern\":{\"fillmode\":\"overlay\",\"size\":10,\"solidity\":0.2}},\"type\":\"histogram\"}],\"scattergl\":[{\"type\":\"scattergl\",\"marker\":{\"colorbar\":{\"outlinewidth\":0,\"ticks\":\"\"}}}],\"scatter3d\":[{\"type\":\"scatter3d\",\"line\":{\"colorbar\":{\"outlinewidth\":0,\"ticks\":\"\"}},\"marker\":{\"colorbar\":{\"outlinewidth\":0,\"ticks\":\"\"}}}],\"scattermapbox\":[{\"type\":\"scattermapbox\",\"marker\":{\"colorbar\":{\"outlinewidth\":0,\"ticks\":\"\"}}}],\"scatterternary\":[{\"type\":\"scatterternary\",\"marker\":{\"colorbar\":{\"outlinewidth\":0,\"ticks\":\"\"}}}],\"scattercarpet\":[{\"type\":\"scattercarpet\",\"marker\":{\"colorbar\":{\"outlinewidth\":0,\"ticks\":\"\"}}}],\"carpet\":[{\"aaxis\":{\"endlinecolor\":\"#2a3f5f\",\"gridcolor\":\"white\",\"linecolor\":\"white\",\"minorgridcolor\":\"white\",\"startlinecolor\":\"#2a3f5f\"},\"baxis\":{\"endlinecolor\":\"#2a3f5f\",\"gridcolor\":\"white\",\"linecolor\":\"white\",\"minorgridcolor\":\"white\",\"startlinecolor\":\"#2a3f5f\"},\"type\":\"carpet\"}],\"table\":[{\"cells\":{\"fill\":{\"color\":\"#EBF0F8\"},\"line\":{\"color\":\"white\"}},\"header\":{\"fill\":{\"color\":\"#C8D4E3\"},\"line\":{\"color\":\"white\"}},\"type\":\"table\"}],\"barpolar\":[{\"marker\":{\"line\":{\"color\":\"#E5ECF6\",\"width\":0.5},\"pattern\":{\"fillmode\":\"overlay\",\"size\":10,\"solidity\":0.2}},\"type\":\"barpolar\"}],\"pie\":[{\"automargin\":true,\"type\":\"pie\"}]},\"layout\":{\"autotypenumbers\":\"strict\",\"colorway\":[\"#636efa\",\"#EF553B\",\"#00cc96\",\"#ab63fa\",\"#FFA15A\",\"#19d3f3\",\"#FF6692\",\"#B6E880\",\"#FF97FF\",\"#FECB52\"],\"font\":{\"color\":\"#2a3f5f\"},\"hovermode\":\"closest\",\"hoverlabel\":{\"align\":\"left\"},\"paper_bgcolor\":\"white\",\"plot_bgcolor\":\"#E5ECF6\",\"polar\":{\"bgcolor\":\"#E5ECF6\",\"angularaxis\":{\"gridcolor\":\"white\",\"linecolor\":\"white\",\"ticks\":\"\"},\"radialaxis\":{\"gridcolor\":\"white\",\"linecolor\":\"white\",\"ticks\":\"\"}},\"ternary\":{\"bgcolor\":\"#E5ECF6\",\"aaxis\":{\"gridcolor\":\"white\",\"linecolor\":\"white\",\"ticks\":\"\"},\"baxis\":{\"gridcolor\":\"white\",\"linecolor\":\"white\",\"ticks\":\"\"},\"caxis\":{\"gridcolor\":\"white\",\"linecolor\":\"white\",\"ticks\":\"\"}},\"coloraxis\":{\"colorbar\":{\"outlinewidth\":0,\"ticks\":\"\"}},\"colorscale\":{\"sequential\":[[0.0,\"#0d0887\"],[0.1111111111111111,\"#46039f\"],[0.2222222222222222,\"#7201a8\"],[0.3333333333333333,\"#9c179e\"],[0.4444444444444444,\"#bd3786\"],[0.5555555555555556,\"#d8576b\"],[0.6666666666666666,\"#ed7953\"],[0.7777777777777778,\"#fb9f3a\"],[0.8888888888888888,\"#fdca26\"],[1.0,\"#f0f921\"]],\"sequentialminus\":[[0.0,\"#0d0887\"],[0.1111111111111111,\"#46039f\"],[0.2222222222222222,\"#7201a8\"],[0.3333333333333333,\"#9c179e\"],[0.4444444444444444,\"#bd3786\"],[0.5555555555555556,\"#d8576b\"],[0.6666666666666666,\"#ed7953\"],[0.7777777777777778,\"#fb9f3a\"],[0.8888888888888888,\"#fdca26\"],[1.0,\"#f0f921\"]],\"diverging\":[[0,\"#8e0152\"],[0.1,\"#c51b7d\"],[0.2,\"#de77ae\"],[0.3,\"#f1b6da\"],[0.4,\"#fde0ef\"],[0.5,\"#f7f7f7\"],[0.6,\"#e6f5d0\"],[0.7,\"#b8e186\"],[0.8,\"#7fbc41\"],[0.9,\"#4d9221\"],[1,\"#276419\"]]},\"xaxis\":{\"gridcolor\":\"white\",\"linecolor\":\"white\",\"ticks\":\"\",\"title\":{\"standoff\":15},\"zerolinecolor\":\"white\",\"automargin\":true,\"zerolinewidth\":2},\"yaxis\":{\"gridcolor\":\"white\",\"linecolor\":\"white\",\"ticks\":\"\",\"title\":{\"standoff\":15},\"zerolinecolor\":\"white\",\"automargin\":true,\"zerolinewidth\":2},\"scene\":{\"xaxis\":{\"backgroundcolor\":\"#E5ECF6\",\"gridcolor\":\"white\",\"linecolor\":\"white\",\"showbackground\":true,\"ticks\":\"\",\"zerolinecolor\":\"white\",\"gridwidth\":2},\"yaxis\":{\"backgroundcolor\":\"#E5ECF6\",\"gridcolor\":\"white\",\"linecolor\":\"white\",\"showbackground\":true,\"ticks\":\"\",\"zerolinecolor\":\"white\",\"gridwidth\":2},\"zaxis\":{\"backgroundcolor\":\"#E5ECF6\",\"gridcolor\":\"white\",\"linecolor\":\"white\",\"showbackground\":true,\"ticks\":\"\",\"zerolinecolor\":\"white\",\"gridwidth\":2}},\"shapedefaults\":{\"line\":{\"color\":\"#2a3f5f\"}},\"annotationdefaults\":{\"arrowcolor\":\"#2a3f5f\",\"arrowhead\":0,\"arrowwidth\":1},\"geo\":{\"bgcolor\":\"white\",\"landcolor\":\"#E5ECF6\",\"subunitcolor\":\"white\",\"showland\":true,\"showlakes\":true,\"lakecolor\":\"white\"},\"title\":{\"x\":0.05},\"mapbox\":{\"style\":\"light\"}}},\"scene\":{\"domain\":{\"x\":[0.0,1.0],\"y\":[0.0,1.0]},\"xaxis\":{\"title\":{\"text\":\"PC 1\"}},\"yaxis\":{\"title\":{\"text\":\"PC 2\"}},\"zaxis\":{\"title\":{\"text\":\"PC 3\"}}},\"legend\":{\"title\":{\"text\":\"color\"},\"tracegroupgap\":0},\"title\":{\"text\":\"Total Explained Variance: 74.89%\"},\"height\":800,\"width\":800},                        {\"responsive\": true}                    ).then(function(){\n",
       "                            \n",
       "var gd = document.getElementById('caf88680-ad36-43e3-a3c1-3460b4ef4250');\n",
       "var x = new MutationObserver(function (mutations, observer) {{\n",
       "        var display = window.getComputedStyle(gd).display;\n",
       "        if (!display || display === 'none') {{\n",
       "            console.log([gd, 'removed!']);\n",
       "            Plotly.purge(gd);\n",
       "            observer.disconnect();\n",
       "        }}\n",
       "}});\n",
       "\n",
       "// Listen for the removal of the full notebook cells\n",
       "var notebookContainer = gd.closest('#notebook-container');\n",
       "if (notebookContainer) {{\n",
       "    x.observe(notebookContainer, {childList: true});\n",
       "}}\n",
       "\n",
       "// Listen for the clearing of the current output cell\n",
       "var outputEl = gd.closest('.output');\n",
       "if (outputEl) {{\n",
       "    x.observe(outputEl, {childList: true});\n",
       "}}\n",
       "\n",
       "                        })                };                });            </script>        </div>"
      ]
     },
     "metadata": {},
     "output_type": "display_data"
    }
   ],
   "source": [
    "df = pd.read_csv('data/baby/genus_relative_abundance_otu_drop_baby.csv')\n",
    "df.patientID = df.patientID.astype('category').cat.codes\n",
    "metadata_list = ['sampleID', 'EverCovid', 'CovidStatus', 'CovidLabel', 'Timepoint', 'patientID','Age', 'HIVstatus']\n",
    "# metadata_list = ['sampleID', 'EverCovid', 'CovidLabel', 'Timepoint', 'patientID']\n",
    "# all the data\n",
    "df_otu = df.drop(columns=metadata_list)\n",
    "X = df_otu.to_numpy()\n",
    "# y = df['CovidLabel'].astype(str)\n",
    "# y = df['Age']\n",
    "y = df['CovidStatus'].astype(str)\n",
    "# y = df['HIVstatus'].astype(str)\n",
    "\n",
    "pca = PCA(n_components=3)\n",
    "# X = preprocessing.MaxAbsScaler().fit_transform(X)\n",
    "components = pca.fit_transform(X)\n",
    "total_var = pca.explained_variance_ratio_.sum() * 100\n",
    "\n",
    "fig = px.scatter_3d(\n",
    "    components, x=0, y=1, z=2, color=y,\n",
    "    title=f'Total Explained Variance: {total_var:.2f}%',\n",
    "    labels={'0': 'PC 1', '1': 'PC 2', '2': 'PC 3'},\n",
    "    width=800, height=800)\n",
    "fig.update_traces(marker_size=4)\n",
    "fig.show()"
   ]
  },
  {
   "cell_type": "code",
   "execution_count": 4,
   "id": "554de242-dbf1-46ce-84e4-959974ac01a8",
   "metadata": {
    "tags": []
   },
   "outputs": [
    {
     "data": {
      "application/vnd.plotly.v1+json": {
       "config": {
        "plotlyServerURL": "https://plot.ly"
       },
       "data": [
        {
         "hovertemplate": "color=1<br>PC 1=%{x}<br>PC 2=%{y}<br>PC 3=%{z}<extra></extra>",
         "legendgroup": "1",
         "marker": {
          "color": "#636efa",
          "symbol": "circle"
         },
         "mode": "markers",
         "name": "1",
         "scene": "scene",
         "showlegend": true,
         "type": "scatter3d",
         "x": [
          -0.0544129113900558,
          -0.19328394488171263,
          -0.02697088443710787,
          0.22489515351736333,
          -0.19070192478051098,
          -0.0422274590663086,
          0.08913005960547575,
          0.4192604444175904,
          -0.20787606624139068,
          0.36821153131690115,
          -0.3074975196902302,
          0.28593429592781827,
          -0.33654970776725107,
          -0.18265956701626507,
          0.09706424558043021,
          0.21337914131729901,
          0.48579995854156094,
          0.4512643146838626,
          -0.2525579454783516,
          -0.11103756216214249,
          0.2780604433975056,
          -0.32674950693888877,
          0.28617436568879,
          -0.08605021442102165,
          -0.10124110099394217,
          -0.22908334834233324,
          -0.20479623269914132,
          -0.1735486586831948,
          0.3421488974750048,
          -0.19051648070376995,
          -0.09475719486637689,
          0.049986296932836516,
          -0.2465987539897269,
          -0.24577199587600096,
          0.008578571747804319,
          0.3806079832804554,
          0.19902320089461795,
          -0.2811608686069754,
          -0.10235533992266721,
          0.3292457493652735,
          0.006023864430387815,
          -0.11068320783122985
         ],
         "y": [
          -0.2584199349590277,
          -0.32389987931712144,
          -0.16054648402794508,
          0.28652084861874494,
          0.3280352449628275,
          -0.2432676296631483,
          0.2915315884353029,
          0.15695674997293055,
          -0.0455826177405305,
          -0.017963081158849724,
          0.39002521091564407,
          0.16842499117777354,
          0.551735291864272,
          -0.3613189774005155,
          0.07741842731833078,
          -0.12157374430187333,
          -0.09436477473599798,
          -0.06430246042881615,
          0.3278986812962123,
          -0.1475429750564823,
          -0.10150780204498093,
          0.16238530970436962,
          -0.022624954793134366,
          0.2653227500719948,
          -0.16391856134904653,
          -0.00031422801506839114,
          0.07212129860418363,
          -0.3672171836646441,
          0.01077513794838228,
          0.15490640841689754,
          -0.2801270967125092,
          0.31043835982145634,
          -0.2737263681038491,
          0.2706823869491138,
          -0.1858856898618852,
          0.16424594764318884,
          0.09331194742306032,
          0.050143318781060535,
          -0.2295827134432819,
          -0.04310229923032919,
          -0.13139655330412434,
          -0.27854492311097107
         ],
         "z": [
          -0.12875808981528883,
          0.11899033832817867,
          -0.1832576042529289,
          -0.1392662160876215,
          -0.04586124120124722,
          -0.1352118692874222,
          -0.05378494381426052,
          0.20950139518902353,
          0.06017634946234674,
          0.18939339902975225,
          0.07282422761957728,
          0.03287110187004148,
          0.058674684525963486,
          0.11101705752796878,
          -0.16886841474695072,
          -0.32747040172175396,
          0.19762773044010395,
          0.029623372956596537,
          0.03481780637167492,
          -0.03514761725997303,
          -0.23491928628457917,
          0.1405287863437248,
          0.0013236542095082214,
          -0.015156137811126577,
          -0.0058053214790473205,
          0.08588369556845461,
          0.0023896257918313724,
          0.15738225335182468,
          -0.056594430812750715,
          -0.009890619318044256,
          -0.01940648041713884,
          -0.0901695077902498,
          0.19573991286673265,
          -0.00612482376820914,
          -0.17923620728431552,
          0.12777587423251535,
          -0.22638130823419297,
          0.11359934266708921,
          -0.024659095368882153,
          -0.08488274231902555,
          -0.1561282779289449,
          -0.0073736007011127635
         ]
        },
        {
         "hovertemplate": "color=2<br>PC 1=%{x}<br>PC 2=%{y}<br>PC 3=%{z}<extra></extra>",
         "legendgroup": "2",
         "marker": {
          "color": "#EF553B",
          "symbol": "circle"
         },
         "mode": "markers",
         "name": "2",
         "scene": "scene",
         "showlegend": true,
         "type": "scatter3d",
         "x": [
          0.6200259676166568,
          -0.10160044505564689,
          -0.005382827715671419,
          0.2767614282542803,
          -0.14074498943990674,
          -0.18418850756246527,
          0.4200656991573037,
          -0.15891179606632894,
          0.05165205483560527,
          -0.2532873202754618,
          -0.2266143780957285,
          -0.21785226382052614,
          -0.20252267503026258,
          -0.012305983928731171,
          -0.24212274864973074,
          0.3508135977251647,
          -0.1310648928977681,
          -0.05842004038516599
         ],
         "y": [
          -0.04526037185926289,
          -0.05888749518502648,
          -0.16213010399140734,
          -0.050597982694327026,
          0.4699839916720007,
          0.21320861702874727,
          0.15444377188637803,
          0.025165334619839344,
          -0.14163728028894898,
          0.5431979004448395,
          -0.4292195115847715,
          -0.35100952703537286,
          -0.04261390936350975,
          -0.11319770327352346,
          -0.3011159773165184,
          0.17131484109527417,
          0.1573862763633266,
          -0.2551798380193485
         ],
         "z": [
          0.4148818272715986,
          -0.12988553490954396,
          -0.17041422204411602,
          -0.22057349705258192,
          -0.011427066127926482,
          0.06959918695982006,
          0.17825071400613712,
          -0.06798032316220488,
          -0.22623693840842257,
          0.03849628498955825,
          0.21551397413253934,
          0.1910694513306581,
          0.045604610269339034,
          -0.14081354693061812,
          0.1694828621030884,
          0.18225822672434117,
          -0.06316192432335362,
          -0.08045045547615232
         ]
        }
       ],
       "layout": {
        "height": 800,
        "legend": {
         "title": {
          "text": "color"
         },
         "tracegroupgap": 0
        },
        "scene": {
         "aspectmode": "auto",
         "aspectratio": {
          "x": 1.0790955055640556,
          "y": 1.1065971535796193,
          "z": 0.8374339578838736
         },
         "camera": {
          "center": {
           "x": 0,
           "y": 0,
           "z": 0
          },
          "eye": {
           "x": -0.7444436818730229,
           "y": 1.7465512180065936,
           "z": 1.0406067688608525
          },
          "projection": {
           "type": "perspective"
          },
          "up": {
           "x": 0,
           "y": 0,
           "z": 1
          }
         },
         "domain": {
          "x": [
           0,
           1
          ],
          "y": [
           0,
           1
          ]
         },
         "xaxis": {
          "title": {
           "text": "PC 1"
          },
          "type": "linear"
         },
         "yaxis": {
          "title": {
           "text": "PC 2"
          },
          "type": "linear"
         },
         "zaxis": {
          "title": {
           "text": "PC 3"
          },
          "type": "linear"
         }
        },
        "template": {
         "data": {
          "bar": [
           {
            "error_x": {
             "color": "#2a3f5f"
            },
            "error_y": {
             "color": "#2a3f5f"
            },
            "marker": {
             "line": {
              "color": "#E5ECF6",
              "width": 0.5
             },
             "pattern": {
              "fillmode": "overlay",
              "size": 10,
              "solidity": 0.2
             }
            },
            "type": "bar"
           }
          ],
          "barpolar": [
           {
            "marker": {
             "line": {
              "color": "#E5ECF6",
              "width": 0.5
             },
             "pattern": {
              "fillmode": "overlay",
              "size": 10,
              "solidity": 0.2
             }
            },
            "type": "barpolar"
           }
          ],
          "carpet": [
           {
            "aaxis": {
             "endlinecolor": "#2a3f5f",
             "gridcolor": "white",
             "linecolor": "white",
             "minorgridcolor": "white",
             "startlinecolor": "#2a3f5f"
            },
            "baxis": {
             "endlinecolor": "#2a3f5f",
             "gridcolor": "white",
             "linecolor": "white",
             "minorgridcolor": "white",
             "startlinecolor": "#2a3f5f"
            },
            "type": "carpet"
           }
          ],
          "choropleth": [
           {
            "colorbar": {
             "outlinewidth": 0,
             "ticks": ""
            },
            "type": "choropleth"
           }
          ],
          "contour": [
           {
            "colorbar": {
             "outlinewidth": 0,
             "ticks": ""
            },
            "colorscale": [
             [
              0,
              "#0d0887"
             ],
             [
              0.1111111111111111,
              "#46039f"
             ],
             [
              0.2222222222222222,
              "#7201a8"
             ],
             [
              0.3333333333333333,
              "#9c179e"
             ],
             [
              0.4444444444444444,
              "#bd3786"
             ],
             [
              0.5555555555555556,
              "#d8576b"
             ],
             [
              0.6666666666666666,
              "#ed7953"
             ],
             [
              0.7777777777777778,
              "#fb9f3a"
             ],
             [
              0.8888888888888888,
              "#fdca26"
             ],
             [
              1,
              "#f0f921"
             ]
            ],
            "type": "contour"
           }
          ],
          "contourcarpet": [
           {
            "colorbar": {
             "outlinewidth": 0,
             "ticks": ""
            },
            "type": "contourcarpet"
           }
          ],
          "heatmap": [
           {
            "colorbar": {
             "outlinewidth": 0,
             "ticks": ""
            },
            "colorscale": [
             [
              0,
              "#0d0887"
             ],
             [
              0.1111111111111111,
              "#46039f"
             ],
             [
              0.2222222222222222,
              "#7201a8"
             ],
             [
              0.3333333333333333,
              "#9c179e"
             ],
             [
              0.4444444444444444,
              "#bd3786"
             ],
             [
              0.5555555555555556,
              "#d8576b"
             ],
             [
              0.6666666666666666,
              "#ed7953"
             ],
             [
              0.7777777777777778,
              "#fb9f3a"
             ],
             [
              0.8888888888888888,
              "#fdca26"
             ],
             [
              1,
              "#f0f921"
             ]
            ],
            "type": "heatmap"
           }
          ],
          "heatmapgl": [
           {
            "colorbar": {
             "outlinewidth": 0,
             "ticks": ""
            },
            "colorscale": [
             [
              0,
              "#0d0887"
             ],
             [
              0.1111111111111111,
              "#46039f"
             ],
             [
              0.2222222222222222,
              "#7201a8"
             ],
             [
              0.3333333333333333,
              "#9c179e"
             ],
             [
              0.4444444444444444,
              "#bd3786"
             ],
             [
              0.5555555555555556,
              "#d8576b"
             ],
             [
              0.6666666666666666,
              "#ed7953"
             ],
             [
              0.7777777777777778,
              "#fb9f3a"
             ],
             [
              0.8888888888888888,
              "#fdca26"
             ],
             [
              1,
              "#f0f921"
             ]
            ],
            "type": "heatmapgl"
           }
          ],
          "histogram": [
           {
            "marker": {
             "pattern": {
              "fillmode": "overlay",
              "size": 10,
              "solidity": 0.2
             }
            },
            "type": "histogram"
           }
          ],
          "histogram2d": [
           {
            "colorbar": {
             "outlinewidth": 0,
             "ticks": ""
            },
            "colorscale": [
             [
              0,
              "#0d0887"
             ],
             [
              0.1111111111111111,
              "#46039f"
             ],
             [
              0.2222222222222222,
              "#7201a8"
             ],
             [
              0.3333333333333333,
              "#9c179e"
             ],
             [
              0.4444444444444444,
              "#bd3786"
             ],
             [
              0.5555555555555556,
              "#d8576b"
             ],
             [
              0.6666666666666666,
              "#ed7953"
             ],
             [
              0.7777777777777778,
              "#fb9f3a"
             ],
             [
              0.8888888888888888,
              "#fdca26"
             ],
             [
              1,
              "#f0f921"
             ]
            ],
            "type": "histogram2d"
           }
          ],
          "histogram2dcontour": [
           {
            "colorbar": {
             "outlinewidth": 0,
             "ticks": ""
            },
            "colorscale": [
             [
              0,
              "#0d0887"
             ],
             [
              0.1111111111111111,
              "#46039f"
             ],
             [
              0.2222222222222222,
              "#7201a8"
             ],
             [
              0.3333333333333333,
              "#9c179e"
             ],
             [
              0.4444444444444444,
              "#bd3786"
             ],
             [
              0.5555555555555556,
              "#d8576b"
             ],
             [
              0.6666666666666666,
              "#ed7953"
             ],
             [
              0.7777777777777778,
              "#fb9f3a"
             ],
             [
              0.8888888888888888,
              "#fdca26"
             ],
             [
              1,
              "#f0f921"
             ]
            ],
            "type": "histogram2dcontour"
           }
          ],
          "mesh3d": [
           {
            "colorbar": {
             "outlinewidth": 0,
             "ticks": ""
            },
            "type": "mesh3d"
           }
          ],
          "parcoords": [
           {
            "line": {
             "colorbar": {
              "outlinewidth": 0,
              "ticks": ""
             }
            },
            "type": "parcoords"
           }
          ],
          "pie": [
           {
            "automargin": true,
            "type": "pie"
           }
          ],
          "scatter": [
           {
            "fillpattern": {
             "fillmode": "overlay",
             "size": 10,
             "solidity": 0.2
            },
            "type": "scatter"
           }
          ],
          "scatter3d": [
           {
            "line": {
             "colorbar": {
              "outlinewidth": 0,
              "ticks": ""
             }
            },
            "marker": {
             "colorbar": {
              "outlinewidth": 0,
              "ticks": ""
             }
            },
            "type": "scatter3d"
           }
          ],
          "scattercarpet": [
           {
            "marker": {
             "colorbar": {
              "outlinewidth": 0,
              "ticks": ""
             }
            },
            "type": "scattercarpet"
           }
          ],
          "scattergeo": [
           {
            "marker": {
             "colorbar": {
              "outlinewidth": 0,
              "ticks": ""
             }
            },
            "type": "scattergeo"
           }
          ],
          "scattergl": [
           {
            "marker": {
             "colorbar": {
              "outlinewidth": 0,
              "ticks": ""
             }
            },
            "type": "scattergl"
           }
          ],
          "scattermapbox": [
           {
            "marker": {
             "colorbar": {
              "outlinewidth": 0,
              "ticks": ""
             }
            },
            "type": "scattermapbox"
           }
          ],
          "scatterpolar": [
           {
            "marker": {
             "colorbar": {
              "outlinewidth": 0,
              "ticks": ""
             }
            },
            "type": "scatterpolar"
           }
          ],
          "scatterpolargl": [
           {
            "marker": {
             "colorbar": {
              "outlinewidth": 0,
              "ticks": ""
             }
            },
            "type": "scatterpolargl"
           }
          ],
          "scatterternary": [
           {
            "marker": {
             "colorbar": {
              "outlinewidth": 0,
              "ticks": ""
             }
            },
            "type": "scatterternary"
           }
          ],
          "surface": [
           {
            "colorbar": {
             "outlinewidth": 0,
             "ticks": ""
            },
            "colorscale": [
             [
              0,
              "#0d0887"
             ],
             [
              0.1111111111111111,
              "#46039f"
             ],
             [
              0.2222222222222222,
              "#7201a8"
             ],
             [
              0.3333333333333333,
              "#9c179e"
             ],
             [
              0.4444444444444444,
              "#bd3786"
             ],
             [
              0.5555555555555556,
              "#d8576b"
             ],
             [
              0.6666666666666666,
              "#ed7953"
             ],
             [
              0.7777777777777778,
              "#fb9f3a"
             ],
             [
              0.8888888888888888,
              "#fdca26"
             ],
             [
              1,
              "#f0f921"
             ]
            ],
            "type": "surface"
           }
          ],
          "table": [
           {
            "cells": {
             "fill": {
              "color": "#EBF0F8"
             },
             "line": {
              "color": "white"
             }
            },
            "header": {
             "fill": {
              "color": "#C8D4E3"
             },
             "line": {
              "color": "white"
             }
            },
            "type": "table"
           }
          ]
         },
         "layout": {
          "annotationdefaults": {
           "arrowcolor": "#2a3f5f",
           "arrowhead": 0,
           "arrowwidth": 1
          },
          "autotypenumbers": "strict",
          "coloraxis": {
           "colorbar": {
            "outlinewidth": 0,
            "ticks": ""
           }
          },
          "colorscale": {
           "diverging": [
            [
             0,
             "#8e0152"
            ],
            [
             0.1,
             "#c51b7d"
            ],
            [
             0.2,
             "#de77ae"
            ],
            [
             0.3,
             "#f1b6da"
            ],
            [
             0.4,
             "#fde0ef"
            ],
            [
             0.5,
             "#f7f7f7"
            ],
            [
             0.6,
             "#e6f5d0"
            ],
            [
             0.7,
             "#b8e186"
            ],
            [
             0.8,
             "#7fbc41"
            ],
            [
             0.9,
             "#4d9221"
            ],
            [
             1,
             "#276419"
            ]
           ],
           "sequential": [
            [
             0,
             "#0d0887"
            ],
            [
             0.1111111111111111,
             "#46039f"
            ],
            [
             0.2222222222222222,
             "#7201a8"
            ],
            [
             0.3333333333333333,
             "#9c179e"
            ],
            [
             0.4444444444444444,
             "#bd3786"
            ],
            [
             0.5555555555555556,
             "#d8576b"
            ],
            [
             0.6666666666666666,
             "#ed7953"
            ],
            [
             0.7777777777777778,
             "#fb9f3a"
            ],
            [
             0.8888888888888888,
             "#fdca26"
            ],
            [
             1,
             "#f0f921"
            ]
           ],
           "sequentialminus": [
            [
             0,
             "#0d0887"
            ],
            [
             0.1111111111111111,
             "#46039f"
            ],
            [
             0.2222222222222222,
             "#7201a8"
            ],
            [
             0.3333333333333333,
             "#9c179e"
            ],
            [
             0.4444444444444444,
             "#bd3786"
            ],
            [
             0.5555555555555556,
             "#d8576b"
            ],
            [
             0.6666666666666666,
             "#ed7953"
            ],
            [
             0.7777777777777778,
             "#fb9f3a"
            ],
            [
             0.8888888888888888,
             "#fdca26"
            ],
            [
             1,
             "#f0f921"
            ]
           ]
          },
          "colorway": [
           "#636efa",
           "#EF553B",
           "#00cc96",
           "#ab63fa",
           "#FFA15A",
           "#19d3f3",
           "#FF6692",
           "#B6E880",
           "#FF97FF",
           "#FECB52"
          ],
          "font": {
           "color": "#2a3f5f"
          },
          "geo": {
           "bgcolor": "white",
           "lakecolor": "white",
           "landcolor": "#E5ECF6",
           "showlakes": true,
           "showland": true,
           "subunitcolor": "white"
          },
          "hoverlabel": {
           "align": "left"
          },
          "hovermode": "closest",
          "mapbox": {
           "style": "light"
          },
          "paper_bgcolor": "white",
          "plot_bgcolor": "#E5ECF6",
          "polar": {
           "angularaxis": {
            "gridcolor": "white",
            "linecolor": "white",
            "ticks": ""
           },
           "bgcolor": "#E5ECF6",
           "radialaxis": {
            "gridcolor": "white",
            "linecolor": "white",
            "ticks": ""
           }
          },
          "scene": {
           "xaxis": {
            "backgroundcolor": "#E5ECF6",
            "gridcolor": "white",
            "gridwidth": 2,
            "linecolor": "white",
            "showbackground": true,
            "ticks": "",
            "zerolinecolor": "white"
           },
           "yaxis": {
            "backgroundcolor": "#E5ECF6",
            "gridcolor": "white",
            "gridwidth": 2,
            "linecolor": "white",
            "showbackground": true,
            "ticks": "",
            "zerolinecolor": "white"
           },
           "zaxis": {
            "backgroundcolor": "#E5ECF6",
            "gridcolor": "white",
            "gridwidth": 2,
            "linecolor": "white",
            "showbackground": true,
            "ticks": "",
            "zerolinecolor": "white"
           }
          },
          "shapedefaults": {
           "line": {
            "color": "#2a3f5f"
           }
          },
          "ternary": {
           "aaxis": {
            "gridcolor": "white",
            "linecolor": "white",
            "ticks": ""
           },
           "baxis": {
            "gridcolor": "white",
            "linecolor": "white",
            "ticks": ""
           },
           "bgcolor": "#E5ECF6",
           "caxis": {
            "gridcolor": "white",
            "linecolor": "white",
            "ticks": ""
           }
          },
          "title": {
           "x": 0.05
          },
          "xaxis": {
           "automargin": true,
           "gridcolor": "white",
           "linecolor": "white",
           "ticks": "",
           "title": {
            "standoff": 15
           },
           "zerolinecolor": "white",
           "zerolinewidth": 2
          },
          "yaxis": {
           "automargin": true,
           "gridcolor": "white",
           "linecolor": "white",
           "ticks": "",
           "title": {
            "standoff": 15
           },
           "zerolinecolor": "white",
           "zerolinewidth": 2
          }
         }
        },
        "title": {
         "text": "Total Explained Variance: 72.38%"
        },
        "width": 800
       }
      },
      "image/png": "[encoded data removed]",
      "text/html": [
       "<div>                            <div id=\"3943ab69-25dd-407a-aabe-0f17c003e93a\" class=\"plotly-graph-div\" style=\"height:800px; width:800px;\"></div>            <script type=\"text/javascript\">                require([\"plotly\"], function(Plotly) {                    window.PLOTLYENV=window.PLOTLYENV || {};                                    if (document.getElementById(\"3943ab69-25dd-407a-aabe-0f17c003e93a\")) {                    Plotly.newPlot(                        \"3943ab69-25dd-407a-aabe-0f17c003e93a\",                        [{\"hovertemplate\":\"color=1\\u003cbr\\u003ePC 1=%{x}\\u003cbr\\u003ePC 2=%{y}\\u003cbr\\u003ePC 3=%{z}\\u003cextra\\u003e\\u003c\\u002fextra\\u003e\",\"legendgroup\":\"1\",\"marker\":{\"color\":\"#636efa\",\"symbol\":\"circle\"},\"mode\":\"markers\",\"name\":\"1\",\"scene\":\"scene\",\"showlegend\":true,\"x\":[-0.0544129113900558,-0.19328394488171263,-0.02697088443710787,0.22489515351736333,-0.19070192478051098,-0.0422274590663086,0.08913005960547575,0.4192604444175904,-0.20787606624139068,0.36821153131690115,-0.3074975196902302,0.28593429592781827,-0.33654970776725107,-0.18265956701626507,0.09706424558043021,0.21337914131729901,0.48579995854156094,0.4512643146838626,-0.2525579454783516,-0.11103756216214249,0.2780604433975056,-0.32674950693888877,0.28617436568879,-0.08605021442102165,-0.10124110099394217,-0.22908334834233324,-0.20479623269914132,-0.1735486586831948,0.3421488974750048,-0.19051648070376995,-0.09475719486637689,0.049986296932836516,-0.2465987539897269,-0.24577199587600096,0.008578571747804319,0.3806079832804554,0.19902320089461795,-0.2811608686069754,-0.10235533992266721,0.3292457493652735,0.006023864430387815,-0.11068320783122985],\"y\":[-0.2584199349590277,-0.32389987931712144,-0.16054648402794508,0.28652084861874494,0.3280352449628275,-0.2432676296631483,0.2915315884353029,0.15695674997293055,-0.0455826177405305,-0.017963081158849724,0.39002521091564407,0.16842499117777354,0.551735291864272,-0.3613189774005155,0.07741842731833078,-0.12157374430187333,-0.09436477473599798,-0.06430246042881615,0.3278986812962123,-0.1475429750564823,-0.10150780204498093,0.16238530970436962,-0.022624954793134366,0.2653227500719948,-0.16391856134904653,-0.00031422801506839114,0.07212129860418363,-0.3672171836646441,0.01077513794838228,0.15490640841689754,-0.2801270967125092,0.31043835982145634,-0.2737263681038491,0.2706823869491138,-0.1858856898618852,0.16424594764318884,0.09331194742306032,0.050143318781060535,-0.2295827134432819,-0.04310229923032919,-0.13139655330412434,-0.27854492311097107],\"z\":[-0.12875808981528883,0.11899033832817867,-0.1832576042529289,-0.1392662160876215,-0.04586124120124722,-0.1352118692874222,-0.05378494381426052,0.20950139518902353,0.06017634946234674,0.18939339902975225,0.07282422761957728,0.03287110187004148,0.058674684525963486,0.11101705752796878,-0.16886841474695072,-0.32747040172175396,0.19762773044010395,0.029623372956596537,0.03481780637167492,-0.03514761725997303,-0.23491928628457917,0.1405287863437248,0.0013236542095082214,-0.015156137811126577,-0.0058053214790473205,0.08588369556845461,0.0023896257918313724,0.15738225335182468,-0.056594430812750715,-0.009890619318044256,-0.01940648041713884,-0.0901695077902498,0.19573991286673265,-0.00612482376820914,-0.17923620728431552,0.12777587423251535,-0.22638130823419297,0.11359934266708921,-0.024659095368882153,-0.08488274231902555,-0.1561282779289449,-0.0073736007011127635],\"type\":\"scatter3d\"},{\"hovertemplate\":\"color=2\\u003cbr\\u003ePC 1=%{x}\\u003cbr\\u003ePC 2=%{y}\\u003cbr\\u003ePC 3=%{z}\\u003cextra\\u003e\\u003c\\u002fextra\\u003e\",\"legendgroup\":\"2\",\"marker\":{\"color\":\"#EF553B\",\"symbol\":\"circle\"},\"mode\":\"markers\",\"name\":\"2\",\"scene\":\"scene\",\"showlegend\":true,\"x\":[0.6200259676166568,-0.10160044505564689,-0.005382827715671419,0.2767614282542803,-0.14074498943990674,-0.18418850756246527,0.4200656991573037,-0.15891179606632894,0.05165205483560527,-0.2532873202754618,-0.2266143780957285,-0.21785226382052614,-0.20252267503026258,-0.012305983928731171,-0.24212274864973074,0.3508135977251647,-0.1310648928977681,-0.05842004038516599],\"y\":[-0.04526037185926289,-0.05888749518502648,-0.16213010399140734,-0.050597982694327026,0.4699839916720007,0.21320861702874727,0.15444377188637803,0.025165334619839344,-0.14163728028894898,0.5431979004448395,-0.4292195115847715,-0.35100952703537286,-0.04261390936350975,-0.11319770327352346,-0.3011159773165184,0.17131484109527417,0.1573862763633266,-0.2551798380193485],\"z\":[0.4148818272715986,-0.12988553490954396,-0.17041422204411602,-0.22057349705258192,-0.011427066127926482,0.06959918695982006,0.17825071400613712,-0.06798032316220488,-0.22623693840842257,0.03849628498955825,0.21551397413253934,0.1910694513306581,0.045604610269339034,-0.14081354693061812,0.1694828621030884,0.18225822672434117,-0.06316192432335362,-0.08045045547615232],\"type\":\"scatter3d\"}],                        {\"template\":{\"data\":{\"histogram2dcontour\":[{\"type\":\"histogram2dcontour\",\"colorbar\":{\"outlinewidth\":0,\"ticks\":\"\"},\"colorscale\":[[0.0,\"#0d0887\"],[0.1111111111111111,\"#46039f\"],[0.2222222222222222,\"#7201a8\"],[0.3333333333333333,\"#9c179e\"],[0.4444444444444444,\"#bd3786\"],[0.5555555555555556,\"#d8576b\"],[0.6666666666666666,\"#ed7953\"],[0.7777777777777778,\"#fb9f3a\"],[0.8888888888888888,\"#fdca26\"],[1.0,\"#f0f921\"]]}],\"choropleth\":[{\"type\":\"choropleth\",\"colorbar\":{\"outlinewidth\":0,\"ticks\":\"\"}}],\"histogram2d\":[{\"type\":\"histogram2d\",\"colorbar\":{\"outlinewidth\":0,\"ticks\":\"\"},\"colorscale\":[[0.0,\"#0d0887\"],[0.1111111111111111,\"#46039f\"],[0.2222222222222222,\"#7201a8\"],[0.3333333333333333,\"#9c179e\"],[0.4444444444444444,\"#bd3786\"],[0.5555555555555556,\"#d8576b\"],[0.6666666666666666,\"#ed7953\"],[0.7777777777777778,\"#fb9f3a\"],[0.8888888888888888,\"#fdca26\"],[1.0,\"#f0f921\"]]}],\"heatmap\":[{\"type\":\"heatmap\",\"colorbar\":{\"outlinewidth\":0,\"ticks\":\"\"},\"colorscale\":[[0.0,\"#0d0887\"],[0.1111111111111111,\"#46039f\"],[0.2222222222222222,\"#7201a8\"],[0.3333333333333333,\"#9c179e\"],[0.4444444444444444,\"#bd3786\"],[0.5555555555555556,\"#d8576b\"],[0.6666666666666666,\"#ed7953\"],[0.7777777777777778,\"#fb9f3a\"],[0.8888888888888888,\"#fdca26\"],[1.0,\"#f0f921\"]]}],\"heatmapgl\":[{\"type\":\"heatmapgl\",\"colorbar\":{\"outlinewidth\":0,\"ticks\":\"\"},\"colorscale\":[[0.0,\"#0d0887\"],[0.1111111111111111,\"#46039f\"],[0.2222222222222222,\"#7201a8\"],[0.3333333333333333,\"#9c179e\"],[0.4444444444444444,\"#bd3786\"],[0.5555555555555556,\"#d8576b\"],[0.6666666666666666,\"#ed7953\"],[0.7777777777777778,\"#fb9f3a\"],[0.8888888888888888,\"#fdca26\"],[1.0,\"#f0f921\"]]}],\"contourcarpet\":[{\"type\":\"contourcarpet\",\"colorbar\":{\"outlinewidth\":0,\"ticks\":\"\"}}],\"contour\":[{\"type\":\"contour\",\"colorbar\":{\"outlinewidth\":0,\"ticks\":\"\"},\"colorscale\":[[0.0,\"#0d0887\"],[0.1111111111111111,\"#46039f\"],[0.2222222222222222,\"#7201a8\"],[0.3333333333333333,\"#9c179e\"],[0.4444444444444444,\"#bd3786\"],[0.5555555555555556,\"#d8576b\"],[0.6666666666666666,\"#ed7953\"],[0.7777777777777778,\"#fb9f3a\"],[0.8888888888888888,\"#fdca26\"],[1.0,\"#f0f921\"]]}],\"surface\":[{\"type\":\"surface\",\"colorbar\":{\"outlinewidth\":0,\"ticks\":\"\"},\"colorscale\":[[0.0,\"#0d0887\"],[0.1111111111111111,\"#46039f\"],[0.2222222222222222,\"#7201a8\"],[0.3333333333333333,\"#9c179e\"],[0.4444444444444444,\"#bd3786\"],[0.5555555555555556,\"#d8576b\"],[0.6666666666666666,\"#ed7953\"],[0.7777777777777778,\"#fb9f3a\"],[0.8888888888888888,\"#fdca26\"],[1.0,\"#f0f921\"]]}],\"mesh3d\":[{\"type\":\"mesh3d\",\"colorbar\":{\"outlinewidth\":0,\"ticks\":\"\"}}],\"scatter\":[{\"fillpattern\":{\"fillmode\":\"overlay\",\"size\":10,\"solidity\":0.2},\"type\":\"scatter\"}],\"parcoords\":[{\"type\":\"parcoords\",\"line\":{\"colorbar\":{\"outlinewidth\":0,\"ticks\":\"\"}}}],\"scatterpolargl\":[{\"type\":\"scatterpolargl\",\"marker\":{\"colorbar\":{\"outlinewidth\":0,\"ticks\":\"\"}}}],\"bar\":[{\"error_x\":{\"color\":\"#2a3f5f\"},\"error_y\":{\"color\":\"#2a3f5f\"},\"marker\":{\"line\":{\"color\":\"#E5ECF6\",\"width\":0.5},\"pattern\":{\"fillmode\":\"overlay\",\"size\":10,\"solidity\":0.2}},\"type\":\"bar\"}],\"scattergeo\":[{\"type\":\"scattergeo\",\"marker\":{\"colorbar\":{\"outlinewidth\":0,\"ticks\":\"\"}}}],\"scatterpolar\":[{\"type\":\"scatterpolar\",\"marker\":{\"colorbar\":{\"outlinewidth\":0,\"ticks\":\"\"}}}],\"histogram\":[{\"marker\":{\"pattern\":{\"fillmode\":\"overlay\",\"size\":10,\"solidity\":0.2}},\"type\":\"histogram\"}],\"scattergl\":[{\"type\":\"scattergl\",\"marker\":{\"colorbar\":{\"outlinewidth\":0,\"ticks\":\"\"}}}],\"scatter3d\":[{\"type\":\"scatter3d\",\"line\":{\"colorbar\":{\"outlinewidth\":0,\"ticks\":\"\"}},\"marker\":{\"colorbar\":{\"outlinewidth\":0,\"ticks\":\"\"}}}],\"scattermapbox\":[{\"type\":\"scattermapbox\",\"marker\":{\"colorbar\":{\"outlinewidth\":0,\"ticks\":\"\"}}}],\"scatterternary\":[{\"type\":\"scatterternary\",\"marker\":{\"colorbar\":{\"outlinewidth\":0,\"ticks\":\"\"}}}],\"scattercarpet\":[{\"type\":\"scattercarpet\",\"marker\":{\"colorbar\":{\"outlinewidth\":0,\"ticks\":\"\"}}}],\"carpet\":[{\"aaxis\":{\"endlinecolor\":\"#2a3f5f\",\"gridcolor\":\"white\",\"linecolor\":\"white\",\"minorgridcolor\":\"white\",\"startlinecolor\":\"#2a3f5f\"},\"baxis\":{\"endlinecolor\":\"#2a3f5f\",\"gridcolor\":\"white\",\"linecolor\":\"white\",\"minorgridcolor\":\"white\",\"startlinecolor\":\"#2a3f5f\"},\"type\":\"carpet\"}],\"table\":[{\"cells\":{\"fill\":{\"color\":\"#EBF0F8\"},\"line\":{\"color\":\"white\"}},\"header\":{\"fill\":{\"color\":\"#C8D4E3\"},\"line\":{\"color\":\"white\"}},\"type\":\"table\"}],\"barpolar\":[{\"marker\":{\"line\":{\"color\":\"#E5ECF6\",\"width\":0.5},\"pattern\":{\"fillmode\":\"overlay\",\"size\":10,\"solidity\":0.2}},\"type\":\"barpolar\"}],\"pie\":[{\"automargin\":true,\"type\":\"pie\"}]},\"layout\":{\"autotypenumbers\":\"strict\",\"colorway\":[\"#636efa\",\"#EF553B\",\"#00cc96\",\"#ab63fa\",\"#FFA15A\",\"#19d3f3\",\"#FF6692\",\"#B6E880\",\"#FF97FF\",\"#FECB52\"],\"font\":{\"color\":\"#2a3f5f\"},\"hovermode\":\"closest\",\"hoverlabel\":{\"align\":\"left\"},\"paper_bgcolor\":\"white\",\"plot_bgcolor\":\"#E5ECF6\",\"polar\":{\"bgcolor\":\"#E5ECF6\",\"angularaxis\":{\"gridcolor\":\"white\",\"linecolor\":\"white\",\"ticks\":\"\"},\"radialaxis\":{\"gridcolor\":\"white\",\"linecolor\":\"white\",\"ticks\":\"\"}},\"ternary\":{\"bgcolor\":\"#E5ECF6\",\"aaxis\":{\"gridcolor\":\"white\",\"linecolor\":\"white\",\"ticks\":\"\"},\"baxis\":{\"gridcolor\":\"white\",\"linecolor\":\"white\",\"ticks\":\"\"},\"caxis\":{\"gridcolor\":\"white\",\"linecolor\":\"white\",\"ticks\":\"\"}},\"coloraxis\":{\"colorbar\":{\"outlinewidth\":0,\"ticks\":\"\"}},\"colorscale\":{\"sequential\":[[0.0,\"#0d0887\"],[0.1111111111111111,\"#46039f\"],[0.2222222222222222,\"#7201a8\"],[0.3333333333333333,\"#9c179e\"],[0.4444444444444444,\"#bd3786\"],[0.5555555555555556,\"#d8576b\"],[0.6666666666666666,\"#ed7953\"],[0.7777777777777778,\"#fb9f3a\"],[0.8888888888888888,\"#fdca26\"],[1.0,\"#f0f921\"]],\"sequentialminus\":[[0.0,\"#0d0887\"],[0.1111111111111111,\"#46039f\"],[0.2222222222222222,\"#7201a8\"],[0.3333333333333333,\"#9c179e\"],[0.4444444444444444,\"#bd3786\"],[0.5555555555555556,\"#d8576b\"],[0.6666666666666666,\"#ed7953\"],[0.7777777777777778,\"#fb9f3a\"],[0.8888888888888888,\"#fdca26\"],[1.0,\"#f0f921\"]],\"diverging\":[[0,\"#8e0152\"],[0.1,\"#c51b7d\"],[0.2,\"#de77ae\"],[0.3,\"#f1b6da\"],[0.4,\"#fde0ef\"],[0.5,\"#f7f7f7\"],[0.6,\"#e6f5d0\"],[0.7,\"#b8e186\"],[0.8,\"#7fbc41\"],[0.9,\"#4d9221\"],[1,\"#276419\"]]},\"xaxis\":{\"gridcolor\":\"white\",\"linecolor\":\"white\",\"ticks\":\"\",\"title\":{\"standoff\":15},\"zerolinecolor\":\"white\",\"automargin\":true,\"zerolinewidth\":2},\"yaxis\":{\"gridcolor\":\"white\",\"linecolor\":\"white\",\"ticks\":\"\",\"title\":{\"standoff\":15},\"zerolinecolor\":\"white\",\"automargin\":true,\"zerolinewidth\":2},\"scene\":{\"xaxis\":{\"backgroundcolor\":\"#E5ECF6\",\"gridcolor\":\"white\",\"linecolor\":\"white\",\"showbackground\":true,\"ticks\":\"\",\"zerolinecolor\":\"white\",\"gridwidth\":2},\"yaxis\":{\"backgroundcolor\":\"#E5ECF6\",\"gridcolor\":\"white\",\"linecolor\":\"white\",\"showbackground\":true,\"ticks\":\"\",\"zerolinecolor\":\"white\",\"gridwidth\":2},\"zaxis\":{\"backgroundcolor\":\"#E5ECF6\",\"gridcolor\":\"white\",\"linecolor\":\"white\",\"showbackground\":true,\"ticks\":\"\",\"zerolinecolor\":\"white\",\"gridwidth\":2}},\"shapedefaults\":{\"line\":{\"color\":\"#2a3f5f\"}},\"annotationdefaults\":{\"arrowcolor\":\"#2a3f5f\",\"arrowhead\":0,\"arrowwidth\":1},\"geo\":{\"bgcolor\":\"white\",\"landcolor\":\"#E5ECF6\",\"subunitcolor\":\"white\",\"showland\":true,\"showlakes\":true,\"lakecolor\":\"white\"},\"title\":{\"x\":0.05},\"mapbox\":{\"style\":\"light\"}}},\"scene\":{\"domain\":{\"x\":[0.0,1.0],\"y\":[0.0,1.0]},\"xaxis\":{\"title\":{\"text\":\"PC 1\"}},\"yaxis\":{\"title\":{\"text\":\"PC 2\"}},\"zaxis\":{\"title\":{\"text\":\"PC 3\"}}},\"legend\":{\"title\":{\"text\":\"color\"},\"tracegroupgap\":0},\"title\":{\"text\":\"Total Explained Variance: 72.38%\"},\"height\":800,\"width\":800},                        {\"responsive\": true}                    ).then(function(){\n",
       "                            \n",
       "var gd = document.getElementById('3943ab69-25dd-407a-aabe-0f17c003e93a');\n",
       "var x = new MutationObserver(function (mutations, observer) {{\n",
       "        var display = window.getComputedStyle(gd).display;\n",
       "        if (!display || display === 'none') {{\n",
       "            console.log([gd, 'removed!']);\n",
       "            Plotly.purge(gd);\n",
       "            observer.disconnect();\n",
       "        }}\n",
       "}});\n",
       "\n",
       "// Listen for the removal of the full notebook cells\n",
       "var notebookContainer = gd.closest('#notebook-container');\n",
       "if (notebookContainer) {{\n",
       "    x.observe(notebookContainer, {childList: true});\n",
       "}}\n",
       "\n",
       "// Listen for the clearing of the current output cell\n",
       "var outputEl = gd.closest('.output');\n",
       "if (outputEl) {{\n",
       "    x.observe(outputEl, {childList: true});\n",
       "}}\n",
       "\n",
       "                        })                };                });            </script>        </div>"
      ]
     },
     "metadata": {},
     "output_type": "display_data"
    }
   ],
   "source": [
    "df = pd.read_csv('data/all/genus_relative_abundance_otu_drop.csv')\n",
    "df.patientID = df.patientID.astype('category').cat.codes\n",
    "#### mixed ideas about weather to include some metadata\n",
    "metadata_list = ['sampleID', 'EverCovid', 'CovidStatus', 'CovidLabel', 'Timepoint', 'patientID','Age', 'HIVstatus']\n",
    "# metadata_list = ['sampleID', 'EverCovid', 'CovidLabel', 'Timepoint', 'patientID']\n",
    "\n",
    "# only CN and CP data pre-infection\n",
    "df0 = df.loc[df['Timepoint'].isin([1, 2, 3])]  # all three time points T1,2,3\n",
    "df1 = df0.loc[df0['CovidLabel'] == 1]  # case-negatives (CN) only exist in T1&2\n",
    "df2 = df0.loc[df0['CovidLabel'] == 2]  # case-positives (CP) only exist in T3\n",
    "df_CN_CP = pd.concat([df1, df2], ignore_index=True)  # reset the index after concat\n",
    "df_CN_CP_otu = df_CN_CP.drop(columns=metadata_list)\n",
    "X = df_CN_CP_otu.to_numpy()\n",
    "y = df_CN_CP['CovidLabel'].astype(str)\n",
    "# y = df_CN_CP['Age']\n",
    "# y = df_CN_CP['HIVstatus'].astype(str)\n",
    "\n",
    "pca = PCA(n_components=3)\n",
    "### mixed ideas about weather to scale before PCA (definitly not normalization)\n",
    "# X = preprocessing.MaxAbsScaler().fit_transform(X)  \n",
    "components = pca.fit_transform(X)\n",
    "total_var = pca.explained_variance_ratio_.sum() * 100\n",
    "\n",
    "fig = px.scatter_3d(\n",
    "    components, x=0, y=1, z=2, color=y,\n",
    "    title=f'Total Explained Variance: {total_var:.2f}%',\n",
    "    labels={'0': 'PC 1', '1': 'PC 2', '2': 'PC 3'},\n",
    "    width=800, height=800\n",
    ")\n",
    "fig.show()"
   ]
  },
  {
   "cell_type": "code",
   "execution_count": 5,
   "id": "415fee7c-fe03-44b7-8128-022eb82e4edb",
   "metadata": {},
   "outputs": [
    {
     "data": {
      "application/vnd.plotly.v1+json": {
       "config": {
        "plotlyServerURL": "https://plot.ly"
       },
       "data": [
        {
         "hovertemplate": "color=1<br>PC 1=%{x}<br>PC 2=%{y}<extra></extra>",
         "legendgroup": "1",
         "marker": {
          "color": "#636efa",
          "symbol": "circle"
         },
         "mode": "markers",
         "name": "1",
         "orientation": "v",
         "showlegend": true,
         "type": "scatter",
         "x": [
          -0.22013274257240828,
          -0.27029225695274745,
          -0.12097585860251256,
          0.394115785707353,
          -0.20698559907183345,
          0.012975468517519389,
          0.4802914416263197,
          0.6563591679071943,
          -0.31082159973172707,
          0.41692844665814616,
          -0.09441291630312908,
          0.25991426770021603,
          -0.118471363841149,
          0.07369633408734601,
          0.14854020701128107,
          -0.32059421015996853,
          0.22070181465053545,
          -0.23744781311971558,
          -0.20942134145509606,
          0.3617881001246889,
          -0.15505419549367236,
          0.135273713284883,
          -0.1833994363485325,
          -0.10246926907747894,
          -0.23336881652034025
         ],
         "xaxis": "x",
         "y": [
          -0.1818845835975004,
          0.1636586372209945,
          -0.2591167699084355,
          -0.0679481395205472,
          -0.19762105273974773,
          0.07673025071499734,
          0.09204767374182109,
          0.08073106690437411,
          0.1613396119497054,
          0.005009873462792602,
          -0.06736887740502541,
          0.18637251523340467,
          -0.044491909197684525,
          0.11243794545179091,
          -0.017859530963367027,
          0.2394406880879709,
          -0.020125156842344265,
          -0.05478550615023694,
          0.2885204855785341,
          -0.02170743347693795,
          -0.26646971296426186,
          0.16202313174401556,
          -0.0654183383766745,
          -0.2781411206016668,
          -0.03847901838510561
         ],
         "yaxis": "y"
        },
        {
         "hovertemplate": "color=2<br>PC 1=%{x}<br>PC 2=%{y}<extra></extra>",
         "legendgroup": "2",
         "marker": {
          "color": "#EF553B",
          "symbol": "circle"
         },
         "mode": "markers",
         "name": "2",
         "orientation": "v",
         "showlegend": true,
         "type": "scatter",
         "x": [
          -0.0012999334647872008,
          -0.12124565836881274,
          0.24101572723190043,
          0.09417465636362747,
          0.6019555974811869,
          -0.3768748754081782,
          -0.29939112761693776,
          0.028851420625584375,
          -0.08540441027303526,
          -0.24007346205532754,
          -0.2184452625403907
         ],
         "xaxis": "x",
         "y": [
          -0.23424818974913592,
          -0.2619283465744837,
          0.089625186791411,
          -0.11975075380559122,
          0.053515371734940705,
          0.30402184218928296,
          0.27059717794256816,
          0.02651555321069934,
          -0.24685004419619486,
          0.2525410880153224,
          -0.12093361551968551
         ],
         "yaxis": "y"
        }
       ],
       "layout": {
        "height": 800,
        "legend": {
         "title": {
          "text": "color"
         },
         "tracegroupgap": 0
        },
        "template": {
         "data": {
          "bar": [
           {
            "error_x": {
             "color": "#2a3f5f"
            },
            "error_y": {
             "color": "#2a3f5f"
            },
            "marker": {
             "line": {
              "color": "#E5ECF6",
              "width": 0.5
             },
             "pattern": {
              "fillmode": "overlay",
              "size": 10,
              "solidity": 0.2
             }
            },
            "type": "bar"
           }
          ],
          "barpolar": [
           {
            "marker": {
             "line": {
              "color": "#E5ECF6",
              "width": 0.5
             },
             "pattern": {
              "fillmode": "overlay",
              "size": 10,
              "solidity": 0.2
             }
            },
            "type": "barpolar"
           }
          ],
          "carpet": [
           {
            "aaxis": {
             "endlinecolor": "#2a3f5f",
             "gridcolor": "white",
             "linecolor": "white",
             "minorgridcolor": "white",
             "startlinecolor": "#2a3f5f"
            },
            "baxis": {
             "endlinecolor": "#2a3f5f",
             "gridcolor": "white",
             "linecolor": "white",
             "minorgridcolor": "white",
             "startlinecolor": "#2a3f5f"
            },
            "type": "carpet"
           }
          ],
          "choropleth": [
           {
            "colorbar": {
             "outlinewidth": 0,
             "ticks": ""
            },
            "type": "choropleth"
           }
          ],
          "contour": [
           {
            "colorbar": {
             "outlinewidth": 0,
             "ticks": ""
            },
            "colorscale": [
             [
              0,
              "#0d0887"
             ],
             [
              0.1111111111111111,
              "#46039f"
             ],
             [
              0.2222222222222222,
              "#7201a8"
             ],
             [
              0.3333333333333333,
              "#9c179e"
             ],
             [
              0.4444444444444444,
              "#bd3786"
             ],
             [
              0.5555555555555556,
              "#d8576b"
             ],
             [
              0.6666666666666666,
              "#ed7953"
             ],
             [
              0.7777777777777778,
              "#fb9f3a"
             ],
             [
              0.8888888888888888,
              "#fdca26"
             ],
             [
              1,
              "#f0f921"
             ]
            ],
            "type": "contour"
           }
          ],
          "contourcarpet": [
           {
            "colorbar": {
             "outlinewidth": 0,
             "ticks": ""
            },
            "type": "contourcarpet"
           }
          ],
          "heatmap": [
           {
            "colorbar": {
             "outlinewidth": 0,
             "ticks": ""
            },
            "colorscale": [
             [
              0,
              "#0d0887"
             ],
             [
              0.1111111111111111,
              "#46039f"
             ],
             [
              0.2222222222222222,
              "#7201a8"
             ],
             [
              0.3333333333333333,
              "#9c179e"
             ],
             [
              0.4444444444444444,
              "#bd3786"
             ],
             [
              0.5555555555555556,
              "#d8576b"
             ],
             [
              0.6666666666666666,
              "#ed7953"
             ],
             [
              0.7777777777777778,
              "#fb9f3a"
             ],
             [
              0.8888888888888888,
              "#fdca26"
             ],
             [
              1,
              "#f0f921"
             ]
            ],
            "type": "heatmap"
           }
          ],
          "heatmapgl": [
           {
            "colorbar": {
             "outlinewidth": 0,
             "ticks": ""
            },
            "colorscale": [
             [
              0,
              "#0d0887"
             ],
             [
              0.1111111111111111,
              "#46039f"
             ],
             [
              0.2222222222222222,
              "#7201a8"
             ],
             [
              0.3333333333333333,
              "#9c179e"
             ],
             [
              0.4444444444444444,
              "#bd3786"
             ],
             [
              0.5555555555555556,
              "#d8576b"
             ],
             [
              0.6666666666666666,
              "#ed7953"
             ],
             [
              0.7777777777777778,
              "#fb9f3a"
             ],
             [
              0.8888888888888888,
              "#fdca26"
             ],
             [
              1,
              "#f0f921"
             ]
            ],
            "type": "heatmapgl"
           }
          ],
          "histogram": [
           {
            "marker": {
             "pattern": {
              "fillmode": "overlay",
              "size": 10,
              "solidity": 0.2
             }
            },
            "type": "histogram"
           }
          ],
          "histogram2d": [
           {
            "colorbar": {
             "outlinewidth": 0,
             "ticks": ""
            },
            "colorscale": [
             [
              0,
              "#0d0887"
             ],
             [
              0.1111111111111111,
              "#46039f"
             ],
             [
              0.2222222222222222,
              "#7201a8"
             ],
             [
              0.3333333333333333,
              "#9c179e"
             ],
             [
              0.4444444444444444,
              "#bd3786"
             ],
             [
              0.5555555555555556,
              "#d8576b"
             ],
             [
              0.6666666666666666,
              "#ed7953"
             ],
             [
              0.7777777777777778,
              "#fb9f3a"
             ],
             [
              0.8888888888888888,
              "#fdca26"
             ],
             [
              1,
              "#f0f921"
             ]
            ],
            "type": "histogram2d"
           }
          ],
          "histogram2dcontour": [
           {
            "colorbar": {
             "outlinewidth": 0,
             "ticks": ""
            },
            "colorscale": [
             [
              0,
              "#0d0887"
             ],
             [
              0.1111111111111111,
              "#46039f"
             ],
             [
              0.2222222222222222,
              "#7201a8"
             ],
             [
              0.3333333333333333,
              "#9c179e"
             ],
             [
              0.4444444444444444,
              "#bd3786"
             ],
             [
              0.5555555555555556,
              "#d8576b"
             ],
             [
              0.6666666666666666,
              "#ed7953"
             ],
             [
              0.7777777777777778,
              "#fb9f3a"
             ],
             [
              0.8888888888888888,
              "#fdca26"
             ],
             [
              1,
              "#f0f921"
             ]
            ],
            "type": "histogram2dcontour"
           }
          ],
          "mesh3d": [
           {
            "colorbar": {
             "outlinewidth": 0,
             "ticks": ""
            },
            "type": "mesh3d"
           }
          ],
          "parcoords": [
           {
            "line": {
             "colorbar": {
              "outlinewidth": 0,
              "ticks": ""
             }
            },
            "type": "parcoords"
           }
          ],
          "pie": [
           {
            "automargin": true,
            "type": "pie"
           }
          ],
          "scatter": [
           {
            "fillpattern": {
             "fillmode": "overlay",
             "size": 10,
             "solidity": 0.2
            },
            "type": "scatter"
           }
          ],
          "scatter3d": [
           {
            "line": {
             "colorbar": {
              "outlinewidth": 0,
              "ticks": ""
             }
            },
            "marker": {
             "colorbar": {
              "outlinewidth": 0,
              "ticks": ""
             }
            },
            "type": "scatter3d"
           }
          ],
          "scattercarpet": [
           {
            "marker": {
             "colorbar": {
              "outlinewidth": 0,
              "ticks": ""
             }
            },
            "type": "scattercarpet"
           }
          ],
          "scattergeo": [
           {
            "marker": {
             "colorbar": {
              "outlinewidth": 0,
              "ticks": ""
             }
            },
            "type": "scattergeo"
           }
          ],
          "scattergl": [
           {
            "marker": {
             "colorbar": {
              "outlinewidth": 0,
              "ticks": ""
             }
            },
            "type": "scattergl"
           }
          ],
          "scattermapbox": [
           {
            "marker": {
             "colorbar": {
              "outlinewidth": 0,
              "ticks": ""
             }
            },
            "type": "scattermapbox"
           }
          ],
          "scatterpolar": [
           {
            "marker": {
             "colorbar": {
              "outlinewidth": 0,
              "ticks": ""
             }
            },
            "type": "scatterpolar"
           }
          ],
          "scatterpolargl": [
           {
            "marker": {
             "colorbar": {
              "outlinewidth": 0,
              "ticks": ""
             }
            },
            "type": "scatterpolargl"
           }
          ],
          "scatterternary": [
           {
            "marker": {
             "colorbar": {
              "outlinewidth": 0,
              "ticks": ""
             }
            },
            "type": "scatterternary"
           }
          ],
          "surface": [
           {
            "colorbar": {
             "outlinewidth": 0,
             "ticks": ""
            },
            "colorscale": [
             [
              0,
              "#0d0887"
             ],
             [
              0.1111111111111111,
              "#46039f"
             ],
             [
              0.2222222222222222,
              "#7201a8"
             ],
             [
              0.3333333333333333,
              "#9c179e"
             ],
             [
              0.4444444444444444,
              "#bd3786"
             ],
             [
              0.5555555555555556,
              "#d8576b"
             ],
             [
              0.6666666666666666,
              "#ed7953"
             ],
             [
              0.7777777777777778,
              "#fb9f3a"
             ],
             [
              0.8888888888888888,
              "#fdca26"
             ],
             [
              1,
              "#f0f921"
             ]
            ],
            "type": "surface"
           }
          ],
          "table": [
           {
            "cells": {
             "fill": {
              "color": "#EBF0F8"
             },
             "line": {
              "color": "white"
             }
            },
            "header": {
             "fill": {
              "color": "#C8D4E3"
             },
             "line": {
              "color": "white"
             }
            },
            "type": "table"
           }
          ]
         },
         "layout": {
          "annotationdefaults": {
           "arrowcolor": "#2a3f5f",
           "arrowhead": 0,
           "arrowwidth": 1
          },
          "autotypenumbers": "strict",
          "coloraxis": {
           "colorbar": {
            "outlinewidth": 0,
            "ticks": ""
           }
          },
          "colorscale": {
           "diverging": [
            [
             0,
             "#8e0152"
            ],
            [
             0.1,
             "#c51b7d"
            ],
            [
             0.2,
             "#de77ae"
            ],
            [
             0.3,
             "#f1b6da"
            ],
            [
             0.4,
             "#fde0ef"
            ],
            [
             0.5,
             "#f7f7f7"
            ],
            [
             0.6,
             "#e6f5d0"
            ],
            [
             0.7,
             "#b8e186"
            ],
            [
             0.8,
             "#7fbc41"
            ],
            [
             0.9,
             "#4d9221"
            ],
            [
             1,
             "#276419"
            ]
           ],
           "sequential": [
            [
             0,
             "#0d0887"
            ],
            [
             0.1111111111111111,
             "#46039f"
            ],
            [
             0.2222222222222222,
             "#7201a8"
            ],
            [
             0.3333333333333333,
             "#9c179e"
            ],
            [
             0.4444444444444444,
             "#bd3786"
            ],
            [
             0.5555555555555556,
             "#d8576b"
            ],
            [
             0.6666666666666666,
             "#ed7953"
            ],
            [
             0.7777777777777778,
             "#fb9f3a"
            ],
            [
             0.8888888888888888,
             "#fdca26"
            ],
            [
             1,
             "#f0f921"
            ]
           ],
           "sequentialminus": [
            [
             0,
             "#0d0887"
            ],
            [
             0.1111111111111111,
             "#46039f"
            ],
            [
             0.2222222222222222,
             "#7201a8"
            ],
            [
             0.3333333333333333,
             "#9c179e"
            ],
            [
             0.4444444444444444,
             "#bd3786"
            ],
            [
             0.5555555555555556,
             "#d8576b"
            ],
            [
             0.6666666666666666,
             "#ed7953"
            ],
            [
             0.7777777777777778,
             "#fb9f3a"
            ],
            [
             0.8888888888888888,
             "#fdca26"
            ],
            [
             1,
             "#f0f921"
            ]
           ]
          },
          "colorway": [
           "#636efa",
           "#EF553B",
           "#00cc96",
           "#ab63fa",
           "#FFA15A",
           "#19d3f3",
           "#FF6692",
           "#B6E880",
           "#FF97FF",
           "#FECB52"
          ],
          "font": {
           "color": "#2a3f5f"
          },
          "geo": {
           "bgcolor": "white",
           "lakecolor": "white",
           "landcolor": "#E5ECF6",
           "showlakes": true,
           "showland": true,
           "subunitcolor": "white"
          },
          "hoverlabel": {
           "align": "left"
          },
          "hovermode": "closest",
          "mapbox": {
           "style": "light"
          },
          "paper_bgcolor": "white",
          "plot_bgcolor": "#E5ECF6",
          "polar": {
           "angularaxis": {
            "gridcolor": "white",
            "linecolor": "white",
            "ticks": ""
           },
           "bgcolor": "#E5ECF6",
           "radialaxis": {
            "gridcolor": "white",
            "linecolor": "white",
            "ticks": ""
           }
          },
          "scene": {
           "xaxis": {
            "backgroundcolor": "#E5ECF6",
            "gridcolor": "white",
            "gridwidth": 2,
            "linecolor": "white",
            "showbackground": true,
            "ticks": "",
            "zerolinecolor": "white"
           },
           "yaxis": {
            "backgroundcolor": "#E5ECF6",
            "gridcolor": "white",
            "gridwidth": 2,
            "linecolor": "white",
            "showbackground": true,
            "ticks": "",
            "zerolinecolor": "white"
           },
           "zaxis": {
            "backgroundcolor": "#E5ECF6",
            "gridcolor": "white",
            "gridwidth": 2,
            "linecolor": "white",
            "showbackground": true,
            "ticks": "",
            "zerolinecolor": "white"
           }
          },
          "shapedefaults": {
           "line": {
            "color": "#2a3f5f"
           }
          },
          "ternary": {
           "aaxis": {
            "gridcolor": "white",
            "linecolor": "white",
            "ticks": ""
           },
           "baxis": {
            "gridcolor": "white",
            "linecolor": "white",
            "ticks": ""
           },
           "bgcolor": "#E5ECF6",
           "caxis": {
            "gridcolor": "white",
            "linecolor": "white",
            "ticks": ""
           }
          },
          "title": {
           "x": 0.05
          },
          "xaxis": {
           "automargin": true,
           "gridcolor": "white",
           "linecolor": "white",
           "ticks": "",
           "title": {
            "standoff": 15
           },
           "zerolinecolor": "white",
           "zerolinewidth": 2
          },
          "yaxis": {
           "automargin": true,
           "gridcolor": "white",
           "linecolor": "white",
           "ticks": "",
           "title": {
            "standoff": 15
           },
           "zerolinecolor": "white",
           "zerolinewidth": 2
          }
         }
        },
        "title": {
         "text": "Total Explained Variance: 83.08%"
        },
        "width": 800,
        "xaxis": {
         "anchor": "y",
         "autorange": true,
         "domain": [
          0,
          1
         ],
         "range": [
          -0.4418495755814844,
          0.7213338680805005
         ],
         "title": {
          "text": "PC 1"
         },
         "type": "linear"
        },
        "yaxis": {
         "anchor": "x",
         "autorange": true,
         "domain": [
          0,
          1
         ],
         "range": [
          -0.3148898271538657,
          0.3407705487414819
         ],
         "title": {
          "text": "PC 2"
         },
         "type": "linear"
        }
       }
      },
      "image/png": "[encoded data removed]",
      "text/html": [
       "<div>                            <div id=\"68ee7bb8-1974-4b17-b226-8dc4f3057e01\" class=\"plotly-graph-div\" style=\"height:800px; width:800px;\"></div>            <script type=\"text/javascript\">                require([\"plotly\"], function(Plotly) {                    window.PLOTLYENV=window.PLOTLYENV || {};                                    if (document.getElementById(\"68ee7bb8-1974-4b17-b226-8dc4f3057e01\")) {                    Plotly.newPlot(                        \"68ee7bb8-1974-4b17-b226-8dc4f3057e01\",                        [{\"hovertemplate\":\"color=1\\u003cbr\\u003ePC 1=%{x}\\u003cbr\\u003ePC 2=%{y}\\u003cextra\\u003e\\u003c\\u002fextra\\u003e\",\"legendgroup\":\"1\",\"marker\":{\"color\":\"#636efa\",\"symbol\":\"circle\"},\"mode\":\"markers\",\"name\":\"1\",\"orientation\":\"v\",\"showlegend\":true,\"x\":[-0.22013274257240828,-0.27029225695274745,-0.12097585860251256,0.394115785707353,-0.20698559907183345,0.012975468517519389,0.4802914416263197,0.6563591679071943,-0.31082159973172707,0.41692844665814616,-0.09441291630312908,0.25991426770021603,-0.118471363841149,0.07369633408734601,0.14854020701128107,-0.32059421015996853,0.22070181465053545,-0.23744781311971558,-0.20942134145509606,0.3617881001246889,-0.15505419549367236,0.135273713284883,-0.1833994363485325,-0.10246926907747894,-0.23336881652034025],\"xaxis\":\"x\",\"y\":[-0.1818845835975004,0.1636586372209945,-0.2591167699084355,-0.0679481395205472,-0.19762105273974773,0.07673025071499734,0.09204767374182109,0.08073106690437411,0.1613396119497054,0.005009873462792602,-0.06736887740502541,0.18637251523340467,-0.044491909197684525,0.11243794545179091,-0.017859530963367027,0.2394406880879709,-0.020125156842344265,-0.05478550615023694,0.2885204855785341,-0.02170743347693795,-0.26646971296426186,0.16202313174401556,-0.0654183383766745,-0.2781411206016668,-0.03847901838510561],\"yaxis\":\"y\",\"type\":\"scatter\"},{\"hovertemplate\":\"color=2\\u003cbr\\u003ePC 1=%{x}\\u003cbr\\u003ePC 2=%{y}\\u003cextra\\u003e\\u003c\\u002fextra\\u003e\",\"legendgroup\":\"2\",\"marker\":{\"color\":\"#EF553B\",\"symbol\":\"circle\"},\"mode\":\"markers\",\"name\":\"2\",\"orientation\":\"v\",\"showlegend\":true,\"x\":[-0.0012999334647872008,-0.12124565836881274,0.24101572723190043,0.09417465636362747,0.6019555974811869,-0.3768748754081782,-0.29939112761693776,0.028851420625584375,-0.08540441027303526,-0.24007346205532754,-0.2184452625403907],\"xaxis\":\"x\",\"y\":[-0.23424818974913592,-0.2619283465744837,0.089625186791411,-0.11975075380559122,0.053515371734940705,0.30402184218928296,0.27059717794256816,0.02651555321069934,-0.24685004419619486,0.2525410880153224,-0.12093361551968551],\"yaxis\":\"y\",\"type\":\"scatter\"}],                        {\"template\":{\"data\":{\"histogram2dcontour\":[{\"type\":\"histogram2dcontour\",\"colorbar\":{\"outlinewidth\":0,\"ticks\":\"\"},\"colorscale\":[[0.0,\"#0d0887\"],[0.1111111111111111,\"#46039f\"],[0.2222222222222222,\"#7201a8\"],[0.3333333333333333,\"#9c179e\"],[0.4444444444444444,\"#bd3786\"],[0.5555555555555556,\"#d8576b\"],[0.6666666666666666,\"#ed7953\"],[0.7777777777777778,\"#fb9f3a\"],[0.8888888888888888,\"#fdca26\"],[1.0,\"#f0f921\"]]}],\"choropleth\":[{\"type\":\"choropleth\",\"colorbar\":{\"outlinewidth\":0,\"ticks\":\"\"}}],\"histogram2d\":[{\"type\":\"histogram2d\",\"colorbar\":{\"outlinewidth\":0,\"ticks\":\"\"},\"colorscale\":[[0.0,\"#0d0887\"],[0.1111111111111111,\"#46039f\"],[0.2222222222222222,\"#7201a8\"],[0.3333333333333333,\"#9c179e\"],[0.4444444444444444,\"#bd3786\"],[0.5555555555555556,\"#d8576b\"],[0.6666666666666666,\"#ed7953\"],[0.7777777777777778,\"#fb9f3a\"],[0.8888888888888888,\"#fdca26\"],[1.0,\"#f0f921\"]]}],\"heatmap\":[{\"type\":\"heatmap\",\"colorbar\":{\"outlinewidth\":0,\"ticks\":\"\"},\"colorscale\":[[0.0,\"#0d0887\"],[0.1111111111111111,\"#46039f\"],[0.2222222222222222,\"#7201a8\"],[0.3333333333333333,\"#9c179e\"],[0.4444444444444444,\"#bd3786\"],[0.5555555555555556,\"#d8576b\"],[0.6666666666666666,\"#ed7953\"],[0.7777777777777778,\"#fb9f3a\"],[0.8888888888888888,\"#fdca26\"],[1.0,\"#f0f921\"]]}],\"heatmapgl\":[{\"type\":\"heatmapgl\",\"colorbar\":{\"outlinewidth\":0,\"ticks\":\"\"},\"colorscale\":[[0.0,\"#0d0887\"],[0.1111111111111111,\"#46039f\"],[0.2222222222222222,\"#7201a8\"],[0.3333333333333333,\"#9c179e\"],[0.4444444444444444,\"#bd3786\"],[0.5555555555555556,\"#d8576b\"],[0.6666666666666666,\"#ed7953\"],[0.7777777777777778,\"#fb9f3a\"],[0.8888888888888888,\"#fdca26\"],[1.0,\"#f0f921\"]]}],\"contourcarpet\":[{\"type\":\"contourcarpet\",\"colorbar\":{\"outlinewidth\":0,\"ticks\":\"\"}}],\"contour\":[{\"type\":\"contour\",\"colorbar\":{\"outlinewidth\":0,\"ticks\":\"\"},\"colorscale\":[[0.0,\"#0d0887\"],[0.1111111111111111,\"#46039f\"],[0.2222222222222222,\"#7201a8\"],[0.3333333333333333,\"#9c179e\"],[0.4444444444444444,\"#bd3786\"],[0.5555555555555556,\"#d8576b\"],[0.6666666666666666,\"#ed7953\"],[0.7777777777777778,\"#fb9f3a\"],[0.8888888888888888,\"#fdca26\"],[1.0,\"#f0f921\"]]}],\"surface\":[{\"type\":\"surface\",\"colorbar\":{\"outlinewidth\":0,\"ticks\":\"\"},\"colorscale\":[[0.0,\"#0d0887\"],[0.1111111111111111,\"#46039f\"],[0.2222222222222222,\"#7201a8\"],[0.3333333333333333,\"#9c179e\"],[0.4444444444444444,\"#bd3786\"],[0.5555555555555556,\"#d8576b\"],[0.6666666666666666,\"#ed7953\"],[0.7777777777777778,\"#fb9f3a\"],[0.8888888888888888,\"#fdca26\"],[1.0,\"#f0f921\"]]}],\"mesh3d\":[{\"type\":\"mesh3d\",\"colorbar\":{\"outlinewidth\":0,\"ticks\":\"\"}}],\"scatter\":[{\"fillpattern\":{\"fillmode\":\"overlay\",\"size\":10,\"solidity\":0.2},\"type\":\"scatter\"}],\"parcoords\":[{\"type\":\"parcoords\",\"line\":{\"colorbar\":{\"outlinewidth\":0,\"ticks\":\"\"}}}],\"scatterpolargl\":[{\"type\":\"scatterpolargl\",\"marker\":{\"colorbar\":{\"outlinewidth\":0,\"ticks\":\"\"}}}],\"bar\":[{\"error_x\":{\"color\":\"#2a3f5f\"},\"error_y\":{\"color\":\"#2a3f5f\"},\"marker\":{\"line\":{\"color\":\"#E5ECF6\",\"width\":0.5},\"pattern\":{\"fillmode\":\"overlay\",\"size\":10,\"solidity\":0.2}},\"type\":\"bar\"}],\"scattergeo\":[{\"type\":\"scattergeo\",\"marker\":{\"colorbar\":{\"outlinewidth\":0,\"ticks\":\"\"}}}],\"scatterpolar\":[{\"type\":\"scatterpolar\",\"marker\":{\"colorbar\":{\"outlinewidth\":0,\"ticks\":\"\"}}}],\"histogram\":[{\"marker\":{\"pattern\":{\"fillmode\":\"overlay\",\"size\":10,\"solidity\":0.2}},\"type\":\"histogram\"}],\"scattergl\":[{\"type\":\"scattergl\",\"marker\":{\"colorbar\":{\"outlinewidth\":0,\"ticks\":\"\"}}}],\"scatter3d\":[{\"type\":\"scatter3d\",\"line\":{\"colorbar\":{\"outlinewidth\":0,\"ticks\":\"\"}},\"marker\":{\"colorbar\":{\"outlinewidth\":0,\"ticks\":\"\"}}}],\"scattermapbox\":[{\"type\":\"scattermapbox\",\"marker\":{\"colorbar\":{\"outlinewidth\":0,\"ticks\":\"\"}}}],\"scatterternary\":[{\"type\":\"scatterternary\",\"marker\":{\"colorbar\":{\"outlinewidth\":0,\"ticks\":\"\"}}}],\"scattercarpet\":[{\"type\":\"scattercarpet\",\"marker\":{\"colorbar\":{\"outlinewidth\":0,\"ticks\":\"\"}}}],\"carpet\":[{\"aaxis\":{\"endlinecolor\":\"#2a3f5f\",\"gridcolor\":\"white\",\"linecolor\":\"white\",\"minorgridcolor\":\"white\",\"startlinecolor\":\"#2a3f5f\"},\"baxis\":{\"endlinecolor\":\"#2a3f5f\",\"gridcolor\":\"white\",\"linecolor\":\"white\",\"minorgridcolor\":\"white\",\"startlinecolor\":\"#2a3f5f\"},\"type\":\"carpet\"}],\"table\":[{\"cells\":{\"fill\":{\"color\":\"#EBF0F8\"},\"line\":{\"color\":\"white\"}},\"header\":{\"fill\":{\"color\":\"#C8D4E3\"},\"line\":{\"color\":\"white\"}},\"type\":\"table\"}],\"barpolar\":[{\"marker\":{\"line\":{\"color\":\"#E5ECF6\",\"width\":0.5},\"pattern\":{\"fillmode\":\"overlay\",\"size\":10,\"solidity\":0.2}},\"type\":\"barpolar\"}],\"pie\":[{\"automargin\":true,\"type\":\"pie\"}]},\"layout\":{\"autotypenumbers\":\"strict\",\"colorway\":[\"#636efa\",\"#EF553B\",\"#00cc96\",\"#ab63fa\",\"#FFA15A\",\"#19d3f3\",\"#FF6692\",\"#B6E880\",\"#FF97FF\",\"#FECB52\"],\"font\":{\"color\":\"#2a3f5f\"},\"hovermode\":\"closest\",\"hoverlabel\":{\"align\":\"left\"},\"paper_bgcolor\":\"white\",\"plot_bgcolor\":\"#E5ECF6\",\"polar\":{\"bgcolor\":\"#E5ECF6\",\"angularaxis\":{\"gridcolor\":\"white\",\"linecolor\":\"white\",\"ticks\":\"\"},\"radialaxis\":{\"gridcolor\":\"white\",\"linecolor\":\"white\",\"ticks\":\"\"}},\"ternary\":{\"bgcolor\":\"#E5ECF6\",\"aaxis\":{\"gridcolor\":\"white\",\"linecolor\":\"white\",\"ticks\":\"\"},\"baxis\":{\"gridcolor\":\"white\",\"linecolor\":\"white\",\"ticks\":\"\"},\"caxis\":{\"gridcolor\":\"white\",\"linecolor\":\"white\",\"ticks\":\"\"}},\"coloraxis\":{\"colorbar\":{\"outlinewidth\":0,\"ticks\":\"\"}},\"colorscale\":{\"sequential\":[[0.0,\"#0d0887\"],[0.1111111111111111,\"#46039f\"],[0.2222222222222222,\"#7201a8\"],[0.3333333333333333,\"#9c179e\"],[0.4444444444444444,\"#bd3786\"],[0.5555555555555556,\"#d8576b\"],[0.6666666666666666,\"#ed7953\"],[0.7777777777777778,\"#fb9f3a\"],[0.8888888888888888,\"#fdca26\"],[1.0,\"#f0f921\"]],\"sequentialminus\":[[0.0,\"#0d0887\"],[0.1111111111111111,\"#46039f\"],[0.2222222222222222,\"#7201a8\"],[0.3333333333333333,\"#9c179e\"],[0.4444444444444444,\"#bd3786\"],[0.5555555555555556,\"#d8576b\"],[0.6666666666666666,\"#ed7953\"],[0.7777777777777778,\"#fb9f3a\"],[0.8888888888888888,\"#fdca26\"],[1.0,\"#f0f921\"]],\"diverging\":[[0,\"#8e0152\"],[0.1,\"#c51b7d\"],[0.2,\"#de77ae\"],[0.3,\"#f1b6da\"],[0.4,\"#fde0ef\"],[0.5,\"#f7f7f7\"],[0.6,\"#e6f5d0\"],[0.7,\"#b8e186\"],[0.8,\"#7fbc41\"],[0.9,\"#4d9221\"],[1,\"#276419\"]]},\"xaxis\":{\"gridcolor\":\"white\",\"linecolor\":\"white\",\"ticks\":\"\",\"title\":{\"standoff\":15},\"zerolinecolor\":\"white\",\"automargin\":true,\"zerolinewidth\":2},\"yaxis\":{\"gridcolor\":\"white\",\"linecolor\":\"white\",\"ticks\":\"\",\"title\":{\"standoff\":15},\"zerolinecolor\":\"white\",\"automargin\":true,\"zerolinewidth\":2},\"scene\":{\"xaxis\":{\"backgroundcolor\":\"#E5ECF6\",\"gridcolor\":\"white\",\"linecolor\":\"white\",\"showbackground\":true,\"ticks\":\"\",\"zerolinecolor\":\"white\",\"gridwidth\":2},\"yaxis\":{\"backgroundcolor\":\"#E5ECF6\",\"gridcolor\":\"white\",\"linecolor\":\"white\",\"showbackground\":true,\"ticks\":\"\",\"zerolinecolor\":\"white\",\"gridwidth\":2},\"zaxis\":{\"backgroundcolor\":\"#E5ECF6\",\"gridcolor\":\"white\",\"linecolor\":\"white\",\"showbackground\":true,\"ticks\":\"\",\"zerolinecolor\":\"white\",\"gridwidth\":2}},\"shapedefaults\":{\"line\":{\"color\":\"#2a3f5f\"}},\"annotationdefaults\":{\"arrowcolor\":\"#2a3f5f\",\"arrowhead\":0,\"arrowwidth\":1},\"geo\":{\"bgcolor\":\"white\",\"landcolor\":\"#E5ECF6\",\"subunitcolor\":\"white\",\"showland\":true,\"showlakes\":true,\"lakecolor\":\"white\"},\"title\":{\"x\":0.05},\"mapbox\":{\"style\":\"light\"}}},\"xaxis\":{\"anchor\":\"y\",\"domain\":[0.0,1.0],\"title\":{\"text\":\"PC 1\"}},\"yaxis\":{\"anchor\":\"x\",\"domain\":[0.0,1.0],\"title\":{\"text\":\"PC 2\"}},\"legend\":{\"title\":{\"text\":\"color\"},\"tracegroupgap\":0},\"title\":{\"text\":\"Total Explained Variance: 83.08%\"},\"height\":800,\"width\":800},                        {\"responsive\": true}                    ).then(function(){\n",
       "                            \n",
       "var gd = document.getElementById('68ee7bb8-1974-4b17-b226-8dc4f3057e01');\n",
       "var x = new MutationObserver(function (mutations, observer) {{\n",
       "        var display = window.getComputedStyle(gd).display;\n",
       "        if (!display || display === 'none') {{\n",
       "            console.log([gd, 'removed!']);\n",
       "            Plotly.purge(gd);\n",
       "            observer.disconnect();\n",
       "        }}\n",
       "}});\n",
       "\n",
       "// Listen for the removal of the full notebook cells\n",
       "var notebookContainer = gd.closest('#notebook-container');\n",
       "if (notebookContainer) {{\n",
       "    x.observe(notebookContainer, {childList: true});\n",
       "}}\n",
       "\n",
       "// Listen for the clearing of the current output cell\n",
       "var outputEl = gd.closest('.output');\n",
       "if (outputEl) {{\n",
       "    x.observe(outputEl, {childList: true});\n",
       "}}\n",
       "\n",
       "                        })                };                });            </script>        </div>"
      ]
     },
     "metadata": {},
     "output_type": "display_data"
    }
   ],
   "source": [
    "df = pd.read_csv('data/mom/genus_relative_abundance_otu_drop_mom.csv')\n",
    "df.patientID = df.patientID.astype('category').cat.codes\n",
    "metadata_list = ['sampleID', 'EverCovid', 'CovidStatus', 'CovidLabel', 'Timepoint', 'patientID','Age', 'HIVstatus']\n",
    "# metadata_list = ['sampleID', 'EverCovid', 'CovidLabel', 'Timepoint', 'patientID']\n",
    "# metadata_list = ['sampleID', 'EverCovid', 'CovidStatus', 'CovidLabel', 'Timepoint', 'patientID']\n",
    "\n",
    "# only CN and CP data pre-infection\n",
    "df0 = df.loc[df['Timepoint'].isin([1, 2, 3])]  # all three time points T1,2,3\n",
    "df1 = df0.loc[df0['CovidLabel'] == 1]  # case-negatives (CN) only exist in T1&2\n",
    "df2 = df0.loc[df0['CovidLabel'] == 2]  # case-positives (CP) only exist in T3\n",
    "df_CN_CP = pd.concat([df1, df2], ignore_index=True)  # reset the index after concat\n",
    "df_CN_CP_otu = df_CN_CP.drop(columns=metadata_list)\n",
    "X = df_CN_CP_otu.to_numpy()\n",
    "y = df_CN_CP['CovidLabel'].astype(str)\n",
    "# y = df_CN_CP['Age']\n",
    "# y = df_CN_CP['HIVstatus'].astype(str)\n",
    "\n",
    "pca = PCA(n_components=2)\n",
    "components = pca.fit_transform(X)\n",
    "total_var = pca.explained_variance_ratio_.sum() * 100\n",
    "\n",
    "fig = px.scatter(\n",
    "    components, x=0, y=1, color=y,\n",
    "    title=f'Total Explained Variance: {total_var:.2f}%',\n",
    "    labels={'0': 'PC 1', '1': 'PC 2', '2': 'PC 3'},\n",
    "    width=800, height=800)\n",
    "fig.show()"
   ]
  },
  {
   "cell_type": "markdown",
   "id": "979bcd6c-2e14-4a7f-b756-acb24a6d652b",
   "metadata": {},
   "source": [
    "## T-SNE"
   ]
  },
  {
   "cell_type": "code",
   "execution_count": 116,
   "id": "4321765d-6fc8-4a6d-85d2-cad42d12a8b2",
   "metadata": {
    "tags": []
   },
   "outputs": [
    {
     "name": "stdout",
     "output_type": "stream",
     "text": [
      "[t-SNE] Computing 151 nearest neighbors...\n",
      "[t-SNE] Indexed 215 samples in 0.001s...\n",
      "[t-SNE] Computed neighbors for 215 samples in 0.010s...\n",
      "[t-SNE] Computed conditional probabilities for sample 215 / 215\n",
      "[t-SNE] Mean sigma: 1.101979\n",
      "[t-SNE] KL divergence after 250 iterations with early exaggeration: 48.392628\n",
      "[t-SNE] KL divergence after 1000 iterations: 0.053327\n"
     ]
    },
    {
     "data": {
      "application/vnd.plotly.v1+json": {
       "config": {
        "plotlyServerURL": "https://plot.ly"
       },
       "data": [
        {
         "hovertemplate": "color=1<br>0=%{x}<br>1=%{y}<extra></extra>",
         "legendgroup": "1",
         "marker": {
          "color": "#636efa",
          "size": 4,
          "symbol": "circle"
         },
         "mode": "markers",
         "name": "1",
         "orientation": "v",
         "showlegend": true,
         "type": "scatter",
         "x": [
          -14.651338577270508,
          4.213984489440918,
          3.8811211585998535,
          4.534477233886719,
          -14.650814056396484,
          3.9988393783569336,
          4.135972023010254,
          3.9962234497070312,
          3.935056686401367,
          -14.873688697814941,
          4.523075103759766,
          4.001030445098877,
          -14.097936630249023,
          4.0873823165893555,
          -13.845992088317871,
          -13.989617347717285,
          3.9201111793518066,
          4.522007942199707,
          -14.472062110900879,
          4.549195766448975,
          3.990292549133301,
          4.523589134216309,
          -14.24909782409668,
          -15.20449447631836,
          -14.666280746459961,
          -14.855961799621582,
          4.184566974639893,
          4.199301242828369,
          3.995382785797119,
          3.915703535079956,
          3.659818410873413,
          -14.783645629882812,
          -14.539959907531738,
          3.995520830154419,
          4.236861705780029,
          -13.743165016174316,
          -15.393038749694824,
          4.045083999633789,
          3.7643301486968994,
          3.9394378662109375,
          -13.44086742401123,
          3.920149564743042,
          4.1720380783081055,
          4.375799655914307,
          -14.861820220947266,
          4.074526309967041,
          -14.525105476379395,
          4.206371307373047,
          -14.09407901763916,
          4.344372272491455,
          3.6964125633239746,
          -13.408418655395508,
          4.165268898010254,
          3.8962557315826416,
          -14.39083480834961,
          4.055126190185547,
          -14.476075172424316,
          3.9900078773498535,
          4.10441780090332,
          3.761929988861084,
          4.534407138824463,
          -13.66672134399414,
          4.3587236404418945,
          -14.921749114990234,
          4.1046929359436035,
          -13.93360424041748,
          4.084848880767822,
          4.477659702301025,
          3.955980062484741,
          3.86474609375,
          4.068419933319092,
          4.33826208114624,
          -13.476330757141113,
          -15.573792457580566,
          -15.664421081542969,
          -15.79129695892334,
          4.213047504425049,
          -15.600505828857422,
          3.7226014137268066,
          -15.740809440612793,
          4.502345085144043,
          3.550178050994873,
          3.573012113571167,
          3.6412692070007324,
          4.280470371246338,
          -15.604660987854004,
          4.5267720222473145,
          -14.25291633605957,
          3.995974540710449,
          4.236794471740723,
          -13.52061939239502,
          -14.030535697937012,
          -15.297983169555664,
          -13.696599960327148,
          -14.120163917541504,
          -15.259103775024414,
          4.209741115570068,
          -14.289999961853027,
          -13.525111198425293,
          3.8319523334503174,
          4.1507134437561035,
          -14.795726776123047,
          4.4791436195373535,
          4.407462120056152,
          3.9648375511169434,
          -15.113534927368164,
          3.9327890872955322,
          4.332000732421875,
          -14.323904991149902,
          -14.700285911560059,
          4.475921630859375,
          -13.616671562194824,
          4.015813827514648,
          -14.50178337097168,
          4.362283706665039,
          -14.477484703063965,
          -13.654346466064453,
          3.9140870571136475,
          4.200491428375244,
          4.182492256164551,
          4.532708644866943,
          3.6584291458129883,
          4.105206489562988,
          -15.178909301757812,
          3.9911909103393555,
          3.931511402130127,
          3.888692855834961,
          -15.442066192626953,
          3.928182601928711,
          4.1678009033203125,
          4.378768444061279,
          4.083443641662598,
          4.1840033531188965,
          -14.10827922821045,
          4.466187477111816,
          4.08272647857666
         ],
         "xaxis": "x",
         "y": [
          28.51896858215332,
          -17.62474250793457,
          -8.743236541748047,
          -20.139101028442383,
          27.672128677368164,
          -9.508111000061035,
          -9.526867866516113,
          -14.342188835144043,
          -13.320298194885254,
          27.1574649810791,
          -20.35776710510254,
          -14.34089469909668,
          27.532981872558594,
          -10.364580154418945,
          27.660703659057617,
          27.801610946655273,
          -15.54198932647705,
          -20.373498916625977,
          28.766923904418945,
          -19.84270668029785,
          -11.713827133178711,
          -20.48920249938965,
          28.05794334411621,
          27.663551330566406,
          27.3630313873291,
          28.489471435546875,
          -17.64387321472168,
          -16.674470901489258,
          -14.37828540802002,
          -13.308076858520508,
          -8.185564041137695,
          28.41832733154297,
          26.891624450683594,
          -14.371541976928711,
          -16.686050415039062,
          27.841201782226562,
          27.91047477722168,
          -9.499848365783691,
          -8.764164924621582,
          -15.600822448730469,
          28.614961624145508,
          -8.710123062133789,
          -17.654190063476562,
          -17.61952781677246,
          27.413745880126953,
          -9.532641410827637,
          26.850967407226562,
          -16.673551559448242,
          28.735015869140625,
          -18.981185913085938,
          -8.177687644958496,
          28.1536865234375,
          -9.52589225769043,
          -15.578450202941895,
          27.483518600463867,
          -9.528964042663574,
          26.840744018554688,
          -14.348726272583008,
          -16.711259841918945,
          -8.762076377868652,
          -20.14505958557129,
          28.707380294799805,
          -18.988197326660156,
          28.261232376098633,
          -10.384075164794922,
          27.478914260864258,
          -10.365009307861328,
          -19.49146842956543,
          -9.503213882446289,
          -8.758291244506836,
          -17.631805419921875,
          -17.607582092285156,
          27.81105613708496,
          25.9294490814209,
          26.052322387695312,
          26.231727600097656,
          -10.46776008605957,
          26.0373592376709,
          -15.441225051879883,
          26.12504005432129,
          -20.381534576416016,
          -14.405566215515137,
          -14.40815544128418,
          -13.299643516540527,
          -19.510303497314453,
          26.03244400024414,
          -20.367733001708984,
          28.665828704833984,
          -14.374695777893066,
          -16.706022262573242,
          28.09798240661621,
          28.210803985595703,
          28.610258102416992,
          28.737895965576172,
          27.829530715942383,
          27.724544525146484,
          -16.69416046142578,
          27.32114601135254,
          28.70337677001953,
          -8.742425918579102,
          -16.684476852416992,
          27.576690673828125,
          -19.48312759399414,
          -18.37529945373535,
          -15.544631958007812,
          27.48887062072754,
          -13.27586841583252,
          -18.372451782226562,
          27.456819534301758,
          28.27353286743164,
          -19.48668098449707,
          27.636962890625,
          -14.372638702392578,
          29.250572204589844,
          -18.97781753540039,
          26.82515525817871,
          27.97310447692871,
          -15.609278678894043,
          -17.64560890197754,
          -17.635038375854492,
          -20.13996696472168,
          -8.190091133117676,
          -16.655973434448242,
          28.55307960510254,
          -14.370757102966309,
          -13.319636344909668,
          -8.721915245056152,
          27.948915481567383,
          -13.327167510986328,
          -17.64682960510254,
          -17.618541717529297,
          -9.431722640991211,
          -18.442729949951172,
          27.343013763427734,
          -19.473485946655273,
          -10.354111671447754
         ],
         "yaxis": "y"
        },
        {
         "hovertemplate": "color=0<br>0=%{x}<br>1=%{y}<extra></extra>",
         "legendgroup": "0",
         "marker": {
          "color": "#EF553B",
          "size": 4,
          "symbol": "circle"
         },
         "mode": "markers",
         "name": "0",
         "orientation": "v",
         "showlegend": true,
         "type": "scatter",
         "x": [
          3.2534923553466797,
          3.8497846126556396,
          3.567955732345581,
          -12.641094207763672,
          -12.516563415527344,
          3.2307705879211426,
          -12.390268325805664,
          -11.78289794921875,
          3.2273385524749756,
          3.2189433574676514,
          -12.505046844482422,
          4.812994480133057,
          -11.888020515441895,
          -12.279703140258789,
          3.335609197616577,
          -11.916823387145996,
          4.200388431549072,
          4.557050704956055,
          3.2041118144989014,
          -12.31791877746582,
          4.786577224731445,
          -12.672272682189941,
          4.774631977081299,
          3.3231687545776367,
          -12.667553901672363,
          -12.03065299987793,
          4.211343765258789,
          4.585113525390625,
          -12.374824523925781,
          -12.443784713745117,
          4.728097915649414,
          3.354738235473633,
          -12.667535781860352,
          4.17351770401001,
          4.577615261077881,
          -12.629738807678223,
          4.5441436767578125,
          -12.15664005279541,
          4.760621547698975,
          -12.690078735351562,
          4.805131435394287,
          4.72150993347168,
          3.7748539447784424,
          3.484312057495117,
          3.2184457778930664,
          3.159247636795044,
          3.1674561500549316,
          -13.482470512390137,
          4.767476558685303,
          3.4560115337371826,
          -12.287386894226074,
          3.6192426681518555,
          3.193563938140869,
          3.855401039123535,
          3.575535535812378,
          3.8563461303710938,
          4.573312282562256,
          4.562259197235107,
          3.332641839981079,
          4.561911582946777,
          -12.185397148132324,
          3.226043939590454,
          3.254648208618164,
          4.580576419830322,
          -12.069446563720703,
          3.206749677658081,
          4.745057106018066,
          4.539969444274902,
          3.2128078937530518,
          3.3149476051330566,
          3.217700719833374,
          -11.903828620910645,
          4.846653938293457,
          3.3513917922973633,
          4.56803035736084,
          3.2172393798828125,
          3.3217122554779053,
          -13.536767959594727,
          3.5369324684143066
         ],
         "xaxis": "x",
         "y": [
          -7.3924994468688965,
          -11.608697891235352,
          -10.499750137329102,
          25.48370933532715,
          25.781963348388672,
          -7.016147613525391,
          25.508686065673828,
          26.300731658935547,
          -7.7774505615234375,
          -8.868398666381836,
          25.73777961730957,
          -17.615890502929688,
          26.207162857055664,
          25.97482681274414,
          -9.640138626098633,
          25.710966110229492,
          -13.002082824707031,
          -15.463543891906738,
          -7.784837245941162,
          25.805234909057617,
          -17.609031677246094,
          25.48799705505371,
          -18.97162628173828,
          -9.62588119506836,
          25.634357452392578,
          26.12232208251953,
          -12.989238739013672,
          -14.378543853759766,
          26.06002426147461,
          25.65279197692871,
          -18.960241317749023,
          -9.650152206420898,
          25.574687957763672,
          -13.016011238098145,
          -15.457183837890625,
          25.567577362060547,
          -14.370019912719727,
          25.670692443847656,
          -19.44916343688965,
          25.455434799194336,
          -18.366409301757812,
          -16.53825569152832,
          -11.630870819091797,
          -10.627714157104492,
          -7.000381946563721,
          -7.370879173278809,
          -7.371388912200928,
          24.984909057617188,
          -15.39304256439209,
          -10.516839027404785,
          25.952613830566406,
          -10.557845115661621,
          -8.26302433013916,
          -11.618338584899902,
          -10.50048828125,
          -11.615928649902344,
          -15.465068817138672,
          -15.450084686279297,
          -9.63769817352295,
          -15.448988914489746,
          26.021705627441406,
          -7.015461444854736,
          -7.391684055328369,
          -15.465109825134277,
          26.116912841796875,
          -7.148087024688721,
          -18.9570369720459,
          -14.385634422302246,
          -8.869795799255371,
          -9.63674545288086,
          -7.780813694000244,
          26.253507614135742,
          -17.626184463500977,
          -9.64476203918457,
          -15.463720321655273,
          -8.871410369873047,
          -9.642524719238281,
          24.949491500854492,
          -10.501965522766113
         ],
         "yaxis": "y"
        }
       ],
       "layout": {
        "height": 600,
        "legend": {
         "title": {
          "text": "color"
         },
         "tracegroupgap": 0
        },
        "margin": {
         "t": 60
        },
        "template": {
         "data": {
          "bar": [
           {
            "error_x": {
             "color": "#2a3f5f"
            },
            "error_y": {
             "color": "#2a3f5f"
            },
            "marker": {
             "line": {
              "color": "#E5ECF6",
              "width": 0.5
             },
             "pattern": {
              "fillmode": "overlay",
              "size": 10,
              "solidity": 0.2
             }
            },
            "type": "bar"
           }
          ],
          "barpolar": [
           {
            "marker": {
             "line": {
              "color": "#E5ECF6",
              "width": 0.5
             },
             "pattern": {
              "fillmode": "overlay",
              "size": 10,
              "solidity": 0.2
             }
            },
            "type": "barpolar"
           }
          ],
          "carpet": [
           {
            "aaxis": {
             "endlinecolor": "#2a3f5f",
             "gridcolor": "white",
             "linecolor": "white",
             "minorgridcolor": "white",
             "startlinecolor": "#2a3f5f"
            },
            "baxis": {
             "endlinecolor": "#2a3f5f",
             "gridcolor": "white",
             "linecolor": "white",
             "minorgridcolor": "white",
             "startlinecolor": "#2a3f5f"
            },
            "type": "carpet"
           }
          ],
          "choropleth": [
           {
            "colorbar": {
             "outlinewidth": 0,
             "ticks": ""
            },
            "type": "choropleth"
           }
          ],
          "contour": [
           {
            "colorbar": {
             "outlinewidth": 0,
             "ticks": ""
            },
            "colorscale": [
             [
              0,
              "#0d0887"
             ],
             [
              0.1111111111111111,
              "#46039f"
             ],
             [
              0.2222222222222222,
              "#7201a8"
             ],
             [
              0.3333333333333333,
              "#9c179e"
             ],
             [
              0.4444444444444444,
              "#bd3786"
             ],
             [
              0.5555555555555556,
              "#d8576b"
             ],
             [
              0.6666666666666666,
              "#ed7953"
             ],
             [
              0.7777777777777778,
              "#fb9f3a"
             ],
             [
              0.8888888888888888,
              "#fdca26"
             ],
             [
              1,
              "#f0f921"
             ]
            ],
            "type": "contour"
           }
          ],
          "contourcarpet": [
           {
            "colorbar": {
             "outlinewidth": 0,
             "ticks": ""
            },
            "type": "contourcarpet"
           }
          ],
          "heatmap": [
           {
            "colorbar": {
             "outlinewidth": 0,
             "ticks": ""
            },
            "colorscale": [
             [
              0,
              "#0d0887"
             ],
             [
              0.1111111111111111,
              "#46039f"
             ],
             [
              0.2222222222222222,
              "#7201a8"
             ],
             [
              0.3333333333333333,
              "#9c179e"
             ],
             [
              0.4444444444444444,
              "#bd3786"
             ],
             [
              0.5555555555555556,
              "#d8576b"
             ],
             [
              0.6666666666666666,
              "#ed7953"
             ],
             [
              0.7777777777777778,
              "#fb9f3a"
             ],
             [
              0.8888888888888888,
              "#fdca26"
             ],
             [
              1,
              "#f0f921"
             ]
            ],
            "type": "heatmap"
           }
          ],
          "heatmapgl": [
           {
            "colorbar": {
             "outlinewidth": 0,
             "ticks": ""
            },
            "colorscale": [
             [
              0,
              "#0d0887"
             ],
             [
              0.1111111111111111,
              "#46039f"
             ],
             [
              0.2222222222222222,
              "#7201a8"
             ],
             [
              0.3333333333333333,
              "#9c179e"
             ],
             [
              0.4444444444444444,
              "#bd3786"
             ],
             [
              0.5555555555555556,
              "#d8576b"
             ],
             [
              0.6666666666666666,
              "#ed7953"
             ],
             [
              0.7777777777777778,
              "#fb9f3a"
             ],
             [
              0.8888888888888888,
              "#fdca26"
             ],
             [
              1,
              "#f0f921"
             ]
            ],
            "type": "heatmapgl"
           }
          ],
          "histogram": [
           {
            "marker": {
             "pattern": {
              "fillmode": "overlay",
              "size": 10,
              "solidity": 0.2
             }
            },
            "type": "histogram"
           }
          ],
          "histogram2d": [
           {
            "colorbar": {
             "outlinewidth": 0,
             "ticks": ""
            },
            "colorscale": [
             [
              0,
              "#0d0887"
             ],
             [
              0.1111111111111111,
              "#46039f"
             ],
             [
              0.2222222222222222,
              "#7201a8"
             ],
             [
              0.3333333333333333,
              "#9c179e"
             ],
             [
              0.4444444444444444,
              "#bd3786"
             ],
             [
              0.5555555555555556,
              "#d8576b"
             ],
             [
              0.6666666666666666,
              "#ed7953"
             ],
             [
              0.7777777777777778,
              "#fb9f3a"
             ],
             [
              0.8888888888888888,
              "#fdca26"
             ],
             [
              1,
              "#f0f921"
             ]
            ],
            "type": "histogram2d"
           }
          ],
          "histogram2dcontour": [
           {
            "colorbar": {
             "outlinewidth": 0,
             "ticks": ""
            },
            "colorscale": [
             [
              0,
              "#0d0887"
             ],
             [
              0.1111111111111111,
              "#46039f"
             ],
             [
              0.2222222222222222,
              "#7201a8"
             ],
             [
              0.3333333333333333,
              "#9c179e"
             ],
             [
              0.4444444444444444,
              "#bd3786"
             ],
             [
              0.5555555555555556,
              "#d8576b"
             ],
             [
              0.6666666666666666,
              "#ed7953"
             ],
             [
              0.7777777777777778,
              "#fb9f3a"
             ],
             [
              0.8888888888888888,
              "#fdca26"
             ],
             [
              1,
              "#f0f921"
             ]
            ],
            "type": "histogram2dcontour"
           }
          ],
          "mesh3d": [
           {
            "colorbar": {
             "outlinewidth": 0,
             "ticks": ""
            },
            "type": "mesh3d"
           }
          ],
          "parcoords": [
           {
            "line": {
             "colorbar": {
              "outlinewidth": 0,
              "ticks": ""
             }
            },
            "type": "parcoords"
           }
          ],
          "pie": [
           {
            "automargin": true,
            "type": "pie"
           }
          ],
          "scatter": [
           {
            "fillpattern": {
             "fillmode": "overlay",
             "size": 10,
             "solidity": 0.2
            },
            "type": "scatter"
           }
          ],
          "scatter3d": [
           {
            "line": {
             "colorbar": {
              "outlinewidth": 0,
              "ticks": ""
             }
            },
            "marker": {
             "colorbar": {
              "outlinewidth": 0,
              "ticks": ""
             }
            },
            "type": "scatter3d"
           }
          ],
          "scattercarpet": [
           {
            "marker": {
             "colorbar": {
              "outlinewidth": 0,
              "ticks": ""
             }
            },
            "type": "scattercarpet"
           }
          ],
          "scattergeo": [
           {
            "marker": {
             "colorbar": {
              "outlinewidth": 0,
              "ticks": ""
             }
            },
            "type": "scattergeo"
           }
          ],
          "scattergl": [
           {
            "marker": {
             "colorbar": {
              "outlinewidth": 0,
              "ticks": ""
             }
            },
            "type": "scattergl"
           }
          ],
          "scattermapbox": [
           {
            "marker": {
             "colorbar": {
              "outlinewidth": 0,
              "ticks": ""
             }
            },
            "type": "scattermapbox"
           }
          ],
          "scatterpolar": [
           {
            "marker": {
             "colorbar": {
              "outlinewidth": 0,
              "ticks": ""
             }
            },
            "type": "scatterpolar"
           }
          ],
          "scatterpolargl": [
           {
            "marker": {
             "colorbar": {
              "outlinewidth": 0,
              "ticks": ""
             }
            },
            "type": "scatterpolargl"
           }
          ],
          "scatterternary": [
           {
            "marker": {
             "colorbar": {
              "outlinewidth": 0,
              "ticks": ""
             }
            },
            "type": "scatterternary"
           }
          ],
          "surface": [
           {
            "colorbar": {
             "outlinewidth": 0,
             "ticks": ""
            },
            "colorscale": [
             [
              0,
              "#0d0887"
             ],
             [
              0.1111111111111111,
              "#46039f"
             ],
             [
              0.2222222222222222,
              "#7201a8"
             ],
             [
              0.3333333333333333,
              "#9c179e"
             ],
             [
              0.4444444444444444,
              "#bd3786"
             ],
             [
              0.5555555555555556,
              "#d8576b"
             ],
             [
              0.6666666666666666,
              "#ed7953"
             ],
             [
              0.7777777777777778,
              "#fb9f3a"
             ],
             [
              0.8888888888888888,
              "#fdca26"
             ],
             [
              1,
              "#f0f921"
             ]
            ],
            "type": "surface"
           }
          ],
          "table": [
           {
            "cells": {
             "fill": {
              "color": "#EBF0F8"
             },
             "line": {
              "color": "white"
             }
            },
            "header": {
             "fill": {
              "color": "#C8D4E3"
             },
             "line": {
              "color": "white"
             }
            },
            "type": "table"
           }
          ]
         },
         "layout": {
          "annotationdefaults": {
           "arrowcolor": "#2a3f5f",
           "arrowhead": 0,
           "arrowwidth": 1
          },
          "autotypenumbers": "strict",
          "coloraxis": {
           "colorbar": {
            "outlinewidth": 0,
            "ticks": ""
           }
          },
          "colorscale": {
           "diverging": [
            [
             0,
             "#8e0152"
            ],
            [
             0.1,
             "#c51b7d"
            ],
            [
             0.2,
             "#de77ae"
            ],
            [
             0.3,
             "#f1b6da"
            ],
            [
             0.4,
             "#fde0ef"
            ],
            [
             0.5,
             "#f7f7f7"
            ],
            [
             0.6,
             "#e6f5d0"
            ],
            [
             0.7,
             "#b8e186"
            ],
            [
             0.8,
             "#7fbc41"
            ],
            [
             0.9,
             "#4d9221"
            ],
            [
             1,
             "#276419"
            ]
           ],
           "sequential": [
            [
             0,
             "#0d0887"
            ],
            [
             0.1111111111111111,
             "#46039f"
            ],
            [
             0.2222222222222222,
             "#7201a8"
            ],
            [
             0.3333333333333333,
             "#9c179e"
            ],
            [
             0.4444444444444444,
             "#bd3786"
            ],
            [
             0.5555555555555556,
             "#d8576b"
            ],
            [
             0.6666666666666666,
             "#ed7953"
            ],
            [
             0.7777777777777778,
             "#fb9f3a"
            ],
            [
             0.8888888888888888,
             "#fdca26"
            ],
            [
             1,
             "#f0f921"
            ]
           ],
           "sequentialminus": [
            [
             0,
             "#0d0887"
            ],
            [
             0.1111111111111111,
             "#46039f"
            ],
            [
             0.2222222222222222,
             "#7201a8"
            ],
            [
             0.3333333333333333,
             "#9c179e"
            ],
            [
             0.4444444444444444,
             "#bd3786"
            ],
            [
             0.5555555555555556,
             "#d8576b"
            ],
            [
             0.6666666666666666,
             "#ed7953"
            ],
            [
             0.7777777777777778,
             "#fb9f3a"
            ],
            [
             0.8888888888888888,
             "#fdca26"
            ],
            [
             1,
             "#f0f921"
            ]
           ]
          },
          "colorway": [
           "#636efa",
           "#EF553B",
           "#00cc96",
           "#ab63fa",
           "#FFA15A",
           "#19d3f3",
           "#FF6692",
           "#B6E880",
           "#FF97FF",
           "#FECB52"
          ],
          "font": {
           "color": "#2a3f5f"
          },
          "geo": {
           "bgcolor": "white",
           "lakecolor": "white",
           "landcolor": "#E5ECF6",
           "showlakes": true,
           "showland": true,
           "subunitcolor": "white"
          },
          "hoverlabel": {
           "align": "left"
          },
          "hovermode": "closest",
          "mapbox": {
           "style": "light"
          },
          "paper_bgcolor": "white",
          "plot_bgcolor": "#E5ECF6",
          "polar": {
           "angularaxis": {
            "gridcolor": "white",
            "linecolor": "white",
            "ticks": ""
           },
           "bgcolor": "#E5ECF6",
           "radialaxis": {
            "gridcolor": "white",
            "linecolor": "white",
            "ticks": ""
           }
          },
          "scene": {
           "xaxis": {
            "backgroundcolor": "#E5ECF6",
            "gridcolor": "white",
            "gridwidth": 2,
            "linecolor": "white",
            "showbackground": true,
            "ticks": "",
            "zerolinecolor": "white"
           },
           "yaxis": {
            "backgroundcolor": "#E5ECF6",
            "gridcolor": "white",
            "gridwidth": 2,
            "linecolor": "white",
            "showbackground": true,
            "ticks": "",
            "zerolinecolor": "white"
           },
           "zaxis": {
            "backgroundcolor": "#E5ECF6",
            "gridcolor": "white",
            "gridwidth": 2,
            "linecolor": "white",
            "showbackground": true,
            "ticks": "",
            "zerolinecolor": "white"
           }
          },
          "shapedefaults": {
           "line": {
            "color": "#2a3f5f"
           }
          },
          "ternary": {
           "aaxis": {
            "gridcolor": "white",
            "linecolor": "white",
            "ticks": ""
           },
           "baxis": {
            "gridcolor": "white",
            "linecolor": "white",
            "ticks": ""
           },
           "bgcolor": "#E5ECF6",
           "caxis": {
            "gridcolor": "white",
            "linecolor": "white",
            "ticks": ""
           }
          },
          "title": {
           "x": 0.05
          },
          "xaxis": {
           "automargin": true,
           "gridcolor": "white",
           "linecolor": "white",
           "ticks": "",
           "title": {
            "standoff": 15
           },
           "zerolinecolor": "white",
           "zerolinewidth": 2
          },
          "yaxis": {
           "automargin": true,
           "gridcolor": "white",
           "linecolor": "white",
           "ticks": "",
           "title": {
            "standoff": 15
           },
           "zerolinecolor": "white",
           "zerolinewidth": 2
          }
         }
        },
        "width": 600,
        "xaxis": {
         "anchor": "y",
         "autorange": true,
         "domain": [
          0,
          1
         ],
         "range": [
          -17.11424252925775,
          6.169599508627867
         ],
         "title": {
          "text": "0"
         },
         "type": "linear"
        },
        "yaxis": {
         "anchor": "x",
         "autorange": true,
         "domain": [
          0,
          1
         ],
         "range": [
          -23.658894024643242,
          32.42026372984344
         ],
         "title": {
          "text": "1"
         },
         "type": "linear"
        }
       }
      },
      "image/png": "[encoded data removed]",
      "text/html": [
       "<div>                            <div id=\"45686744-7a20-4470-9941-04a5b4da31c7\" class=\"plotly-graph-div\" style=\"height:600px; width:600px;\"></div>            <script type=\"text/javascript\">                require([\"plotly\"], function(Plotly) {                    window.PLOTLYENV=window.PLOTLYENV || {};                                    if (document.getElementById(\"45686744-7a20-4470-9941-04a5b4da31c7\")) {                    Plotly.newPlot(                        \"45686744-7a20-4470-9941-04a5b4da31c7\",                        [{\"hovertemplate\":\"color=1\\u003cbr\\u003e0=%{x}\\u003cbr\\u003e1=%{y}\\u003cextra\\u003e\\u003c\\u002fextra\\u003e\",\"legendgroup\":\"1\",\"marker\":{\"color\":\"#636efa\",\"symbol\":\"circle\",\"size\":4},\"mode\":\"markers\",\"name\":\"1\",\"orientation\":\"v\",\"showlegend\":true,\"x\":[-14.651338577270508,4.213984489440918,3.8811211585998535,4.534477233886719,-14.650814056396484,3.9988393783569336,4.135972023010254,3.9962234497070312,3.935056686401367,-14.873688697814941,4.523075103759766,4.001030445098877,-14.097936630249023,4.0873823165893555,-13.845992088317871,-13.989617347717285,3.9201111793518066,4.522007942199707,-14.472062110900879,4.549195766448975,3.990292549133301,4.523589134216309,-14.24909782409668,-15.20449447631836,-14.666280746459961,-14.855961799621582,4.184566974639893,4.199301242828369,3.995382785797119,3.915703535079956,3.659818410873413,-14.783645629882812,-14.539959907531738,3.995520830154419,4.236861705780029,-13.743165016174316,-15.393038749694824,4.045083999633789,3.7643301486968994,3.9394378662109375,-13.44086742401123,3.920149564743042,4.1720380783081055,4.375799655914307,-14.861820220947266,4.074526309967041,-14.525105476379395,4.206371307373047,-14.09407901763916,4.344372272491455,3.6964125633239746,-13.408418655395508,4.165268898010254,3.8962557315826416,-14.39083480834961,4.055126190185547,-14.476075172424316,3.9900078773498535,4.10441780090332,3.761929988861084,4.534407138824463,-13.66672134399414,4.3587236404418945,-14.921749114990234,4.1046929359436035,-13.93360424041748,4.084848880767822,4.477659702301025,3.955980062484741,3.86474609375,4.068419933319092,4.33826208114624,-13.476330757141113,-15.573792457580566,-15.664421081542969,-15.79129695892334,4.213047504425049,-15.600505828857422,3.7226014137268066,-15.740809440612793,4.502345085144043,3.550178050994873,3.573012113571167,3.6412692070007324,4.280470371246338,-15.604660987854004,4.5267720222473145,-14.25291633605957,3.995974540710449,4.236794471740723,-13.52061939239502,-14.030535697937012,-15.297983169555664,-13.696599960327148,-14.120163917541504,-15.259103775024414,4.209741115570068,-14.289999961853027,-13.525111198425293,3.8319523334503174,4.1507134437561035,-14.795726776123047,4.4791436195373535,4.407462120056152,3.9648375511169434,-15.113534927368164,3.9327890872955322,4.332000732421875,-14.323904991149902,-14.700285911560059,4.475921630859375,-13.616671562194824,4.015813827514648,-14.50178337097168,4.362283706665039,-14.477484703063965,-13.654346466064453,3.9140870571136475,4.200491428375244,4.182492256164551,4.532708644866943,3.6584291458129883,4.105206489562988,-15.178909301757812,3.9911909103393555,3.931511402130127,3.888692855834961,-15.442066192626953,3.928182601928711,4.1678009033203125,4.378768444061279,4.083443641662598,4.1840033531188965,-14.10827922821045,4.466187477111816,4.08272647857666],\"xaxis\":\"x\",\"y\":[28.51896858215332,-17.62474250793457,-8.743236541748047,-20.139101028442383,27.672128677368164,-9.508111000061035,-9.526867866516113,-14.342188835144043,-13.320298194885254,27.1574649810791,-20.35776710510254,-14.34089469909668,27.532981872558594,-10.364580154418945,27.660703659057617,27.801610946655273,-15.54198932647705,-20.373498916625977,28.766923904418945,-19.84270668029785,-11.713827133178711,-20.48920249938965,28.05794334411621,27.663551330566406,27.3630313873291,28.489471435546875,-17.64387321472168,-16.674470901489258,-14.37828540802002,-13.308076858520508,-8.185564041137695,28.41832733154297,26.891624450683594,-14.371541976928711,-16.686050415039062,27.841201782226562,27.91047477722168,-9.499848365783691,-8.764164924621582,-15.600822448730469,28.614961624145508,-8.710123062133789,-17.654190063476562,-17.61952781677246,27.413745880126953,-9.532641410827637,26.850967407226562,-16.673551559448242,28.735015869140625,-18.981185913085938,-8.177687644958496,28.1536865234375,-9.52589225769043,-15.578450202941895,27.483518600463867,-9.528964042663574,26.840744018554688,-14.348726272583008,-16.711259841918945,-8.762076377868652,-20.14505958557129,28.707380294799805,-18.988197326660156,28.261232376098633,-10.384075164794922,27.478914260864258,-10.365009307861328,-19.49146842956543,-9.503213882446289,-8.758291244506836,-17.631805419921875,-17.607582092285156,27.81105613708496,25.9294490814209,26.052322387695312,26.231727600097656,-10.46776008605957,26.0373592376709,-15.441225051879883,26.12504005432129,-20.381534576416016,-14.405566215515137,-14.40815544128418,-13.299643516540527,-19.510303497314453,26.03244400024414,-20.367733001708984,28.665828704833984,-14.374695777893066,-16.706022262573242,28.09798240661621,28.210803985595703,28.610258102416992,28.737895965576172,27.829530715942383,27.724544525146484,-16.69416046142578,27.32114601135254,28.70337677001953,-8.742425918579102,-16.684476852416992,27.576690673828125,-19.48312759399414,-18.37529945373535,-15.544631958007812,27.48887062072754,-13.27586841583252,-18.372451782226562,27.456819534301758,28.27353286743164,-19.48668098449707,27.636962890625,-14.372638702392578,29.250572204589844,-18.97781753540039,26.82515525817871,27.97310447692871,-15.609278678894043,-17.64560890197754,-17.635038375854492,-20.13996696472168,-8.190091133117676,-16.655973434448242,28.55307960510254,-14.370757102966309,-13.319636344909668,-8.721915245056152,27.948915481567383,-13.327167510986328,-17.64682960510254,-17.618541717529297,-9.431722640991211,-18.442729949951172,27.343013763427734,-19.473485946655273,-10.354111671447754],\"yaxis\":\"y\",\"type\":\"scatter\"},{\"hovertemplate\":\"color=0\\u003cbr\\u003e0=%{x}\\u003cbr\\u003e1=%{y}\\u003cextra\\u003e\\u003c\\u002fextra\\u003e\",\"legendgroup\":\"0\",\"marker\":{\"color\":\"#EF553B\",\"symbol\":\"circle\",\"size\":4},\"mode\":\"markers\",\"name\":\"0\",\"orientation\":\"v\",\"showlegend\":true,\"x\":[3.2534923553466797,3.8497846126556396,3.567955732345581,-12.641094207763672,-12.516563415527344,3.2307705879211426,-12.390268325805664,-11.78289794921875,3.2273385524749756,3.2189433574676514,-12.505046844482422,4.812994480133057,-11.888020515441895,-12.279703140258789,3.335609197616577,-11.916823387145996,4.200388431549072,4.557050704956055,3.2041118144989014,-12.31791877746582,4.786577224731445,-12.672272682189941,4.774631977081299,3.3231687545776367,-12.667553901672363,-12.03065299987793,4.211343765258789,4.585113525390625,-12.374824523925781,-12.443784713745117,4.728097915649414,3.354738235473633,-12.667535781860352,4.17351770401001,4.577615261077881,-12.629738807678223,4.5441436767578125,-12.15664005279541,4.760621547698975,-12.690078735351562,4.805131435394287,4.72150993347168,3.7748539447784424,3.484312057495117,3.2184457778930664,3.159247636795044,3.1674561500549316,-13.482470512390137,4.767476558685303,3.4560115337371826,-12.287386894226074,3.6192426681518555,3.193563938140869,3.855401039123535,3.575535535812378,3.8563461303710938,4.573312282562256,4.562259197235107,3.332641839981079,4.561911582946777,-12.185397148132324,3.226043939590454,3.254648208618164,4.580576419830322,-12.069446563720703,3.206749677658081,4.745057106018066,4.539969444274902,3.2128078937530518,3.3149476051330566,3.217700719833374,-11.903828620910645,4.846653938293457,3.3513917922973633,4.56803035736084,3.2172393798828125,3.3217122554779053,-13.536767959594727,3.5369324684143066],\"xaxis\":\"x\",\"y\":[-7.3924994468688965,-11.608697891235352,-10.499750137329102,25.48370933532715,25.781963348388672,-7.016147613525391,25.508686065673828,26.300731658935547,-7.7774505615234375,-8.868398666381836,25.73777961730957,-17.615890502929688,26.207162857055664,25.97482681274414,-9.640138626098633,25.710966110229492,-13.002082824707031,-15.463543891906738,-7.784837245941162,25.805234909057617,-17.609031677246094,25.48799705505371,-18.97162628173828,-9.62588119506836,25.634357452392578,26.12232208251953,-12.989238739013672,-14.378543853759766,26.06002426147461,25.65279197692871,-18.960241317749023,-9.650152206420898,25.574687957763672,-13.016011238098145,-15.457183837890625,25.567577362060547,-14.370019912719727,25.670692443847656,-19.44916343688965,25.455434799194336,-18.366409301757812,-16.53825569152832,-11.630870819091797,-10.627714157104492,-7.000381946563721,-7.370879173278809,-7.371388912200928,24.984909057617188,-15.39304256439209,-10.516839027404785,25.952613830566406,-10.557845115661621,-8.26302433013916,-11.618338584899902,-10.50048828125,-11.615928649902344,-15.465068817138672,-15.450084686279297,-9.63769817352295,-15.448988914489746,26.021705627441406,-7.015461444854736,-7.391684055328369,-15.465109825134277,26.116912841796875,-7.148087024688721,-18.9570369720459,-14.385634422302246,-8.869795799255371,-9.63674545288086,-7.780813694000244,26.253507614135742,-17.626184463500977,-9.64476203918457,-15.463720321655273,-8.871410369873047,-9.642524719238281,24.949491500854492,-10.501965522766113],\"yaxis\":\"y\",\"type\":\"scatter\"}],                        {\"template\":{\"data\":{\"histogram2dcontour\":[{\"type\":\"histogram2dcontour\",\"colorbar\":{\"outlinewidth\":0,\"ticks\":\"\"},\"colorscale\":[[0.0,\"#0d0887\"],[0.1111111111111111,\"#46039f\"],[0.2222222222222222,\"#7201a8\"],[0.3333333333333333,\"#9c179e\"],[0.4444444444444444,\"#bd3786\"],[0.5555555555555556,\"#d8576b\"],[0.6666666666666666,\"#ed7953\"],[0.7777777777777778,\"#fb9f3a\"],[0.8888888888888888,\"#fdca26\"],[1.0,\"#f0f921\"]]}],\"choropleth\":[{\"type\":\"choropleth\",\"colorbar\":{\"outlinewidth\":0,\"ticks\":\"\"}}],\"histogram2d\":[{\"type\":\"histogram2d\",\"colorbar\":{\"outlinewidth\":0,\"ticks\":\"\"},\"colorscale\":[[0.0,\"#0d0887\"],[0.1111111111111111,\"#46039f\"],[0.2222222222222222,\"#7201a8\"],[0.3333333333333333,\"#9c179e\"],[0.4444444444444444,\"#bd3786\"],[0.5555555555555556,\"#d8576b\"],[0.6666666666666666,\"#ed7953\"],[0.7777777777777778,\"#fb9f3a\"],[0.8888888888888888,\"#fdca26\"],[1.0,\"#f0f921\"]]}],\"heatmap\":[{\"type\":\"heatmap\",\"colorbar\":{\"outlinewidth\":0,\"ticks\":\"\"},\"colorscale\":[[0.0,\"#0d0887\"],[0.1111111111111111,\"#46039f\"],[0.2222222222222222,\"#7201a8\"],[0.3333333333333333,\"#9c179e\"],[0.4444444444444444,\"#bd3786\"],[0.5555555555555556,\"#d8576b\"],[0.6666666666666666,\"#ed7953\"],[0.7777777777777778,\"#fb9f3a\"],[0.8888888888888888,\"#fdca26\"],[1.0,\"#f0f921\"]]}],\"heatmapgl\":[{\"type\":\"heatmapgl\",\"colorbar\":{\"outlinewidth\":0,\"ticks\":\"\"},\"colorscale\":[[0.0,\"#0d0887\"],[0.1111111111111111,\"#46039f\"],[0.2222222222222222,\"#7201a8\"],[0.3333333333333333,\"#9c179e\"],[0.4444444444444444,\"#bd3786\"],[0.5555555555555556,\"#d8576b\"],[0.6666666666666666,\"#ed7953\"],[0.7777777777777778,\"#fb9f3a\"],[0.8888888888888888,\"#fdca26\"],[1.0,\"#f0f921\"]]}],\"contourcarpet\":[{\"type\":\"contourcarpet\",\"colorbar\":{\"outlinewidth\":0,\"ticks\":\"\"}}],\"contour\":[{\"type\":\"contour\",\"colorbar\":{\"outlinewidth\":0,\"ticks\":\"\"},\"colorscale\":[[0.0,\"#0d0887\"],[0.1111111111111111,\"#46039f\"],[0.2222222222222222,\"#7201a8\"],[0.3333333333333333,\"#9c179e\"],[0.4444444444444444,\"#bd3786\"],[0.5555555555555556,\"#d8576b\"],[0.6666666666666666,\"#ed7953\"],[0.7777777777777778,\"#fb9f3a\"],[0.8888888888888888,\"#fdca26\"],[1.0,\"#f0f921\"]]}],\"surface\":[{\"type\":\"surface\",\"colorbar\":{\"outlinewidth\":0,\"ticks\":\"\"},\"colorscale\":[[0.0,\"#0d0887\"],[0.1111111111111111,\"#46039f\"],[0.2222222222222222,\"#7201a8\"],[0.3333333333333333,\"#9c179e\"],[0.4444444444444444,\"#bd3786\"],[0.5555555555555556,\"#d8576b\"],[0.6666666666666666,\"#ed7953\"],[0.7777777777777778,\"#fb9f3a\"],[0.8888888888888888,\"#fdca26\"],[1.0,\"#f0f921\"]]}],\"mesh3d\":[{\"type\":\"mesh3d\",\"colorbar\":{\"outlinewidth\":0,\"ticks\":\"\"}}],\"scatter\":[{\"fillpattern\":{\"fillmode\":\"overlay\",\"size\":10,\"solidity\":0.2},\"type\":\"scatter\"}],\"parcoords\":[{\"type\":\"parcoords\",\"line\":{\"colorbar\":{\"outlinewidth\":0,\"ticks\":\"\"}}}],\"scatterpolargl\":[{\"type\":\"scatterpolargl\",\"marker\":{\"colorbar\":{\"outlinewidth\":0,\"ticks\":\"\"}}}],\"bar\":[{\"error_x\":{\"color\":\"#2a3f5f\"},\"error_y\":{\"color\":\"#2a3f5f\"},\"marker\":{\"line\":{\"color\":\"#E5ECF6\",\"width\":0.5},\"pattern\":{\"fillmode\":\"overlay\",\"size\":10,\"solidity\":0.2}},\"type\":\"bar\"}],\"scattergeo\":[{\"type\":\"scattergeo\",\"marker\":{\"colorbar\":{\"outlinewidth\":0,\"ticks\":\"\"}}}],\"scatterpolar\":[{\"type\":\"scatterpolar\",\"marker\":{\"colorbar\":{\"outlinewidth\":0,\"ticks\":\"\"}}}],\"histogram\":[{\"marker\":{\"pattern\":{\"fillmode\":\"overlay\",\"size\":10,\"solidity\":0.2}},\"type\":\"histogram\"}],\"scattergl\":[{\"type\":\"scattergl\",\"marker\":{\"colorbar\":{\"outlinewidth\":0,\"ticks\":\"\"}}}],\"scatter3d\":[{\"type\":\"scatter3d\",\"line\":{\"colorbar\":{\"outlinewidth\":0,\"ticks\":\"\"}},\"marker\":{\"colorbar\":{\"outlinewidth\":0,\"ticks\":\"\"}}}],\"scattermapbox\":[{\"type\":\"scattermapbox\",\"marker\":{\"colorbar\":{\"outlinewidth\":0,\"ticks\":\"\"}}}],\"scatterternary\":[{\"type\":\"scatterternary\",\"marker\":{\"colorbar\":{\"outlinewidth\":0,\"ticks\":\"\"}}}],\"scattercarpet\":[{\"type\":\"scattercarpet\",\"marker\":{\"colorbar\":{\"outlinewidth\":0,\"ticks\":\"\"}}}],\"carpet\":[{\"aaxis\":{\"endlinecolor\":\"#2a3f5f\",\"gridcolor\":\"white\",\"linecolor\":\"white\",\"minorgridcolor\":\"white\",\"startlinecolor\":\"#2a3f5f\"},\"baxis\":{\"endlinecolor\":\"#2a3f5f\",\"gridcolor\":\"white\",\"linecolor\":\"white\",\"minorgridcolor\":\"white\",\"startlinecolor\":\"#2a3f5f\"},\"type\":\"carpet\"}],\"table\":[{\"cells\":{\"fill\":{\"color\":\"#EBF0F8\"},\"line\":{\"color\":\"white\"}},\"header\":{\"fill\":{\"color\":\"#C8D4E3\"},\"line\":{\"color\":\"white\"}},\"type\":\"table\"}],\"barpolar\":[{\"marker\":{\"line\":{\"color\":\"#E5ECF6\",\"width\":0.5},\"pattern\":{\"fillmode\":\"overlay\",\"size\":10,\"solidity\":0.2}},\"type\":\"barpolar\"}],\"pie\":[{\"automargin\":true,\"type\":\"pie\"}]},\"layout\":{\"autotypenumbers\":\"strict\",\"colorway\":[\"#636efa\",\"#EF553B\",\"#00cc96\",\"#ab63fa\",\"#FFA15A\",\"#19d3f3\",\"#FF6692\",\"#B6E880\",\"#FF97FF\",\"#FECB52\"],\"font\":{\"color\":\"#2a3f5f\"},\"hovermode\":\"closest\",\"hoverlabel\":{\"align\":\"left\"},\"paper_bgcolor\":\"white\",\"plot_bgcolor\":\"#E5ECF6\",\"polar\":{\"bgcolor\":\"#E5ECF6\",\"angularaxis\":{\"gridcolor\":\"white\",\"linecolor\":\"white\",\"ticks\":\"\"},\"radialaxis\":{\"gridcolor\":\"white\",\"linecolor\":\"white\",\"ticks\":\"\"}},\"ternary\":{\"bgcolor\":\"#E5ECF6\",\"aaxis\":{\"gridcolor\":\"white\",\"linecolor\":\"white\",\"ticks\":\"\"},\"baxis\":{\"gridcolor\":\"white\",\"linecolor\":\"white\",\"ticks\":\"\"},\"caxis\":{\"gridcolor\":\"white\",\"linecolor\":\"white\",\"ticks\":\"\"}},\"coloraxis\":{\"colorbar\":{\"outlinewidth\":0,\"ticks\":\"\"}},\"colorscale\":{\"sequential\":[[0.0,\"#0d0887\"],[0.1111111111111111,\"#46039f\"],[0.2222222222222222,\"#7201a8\"],[0.3333333333333333,\"#9c179e\"],[0.4444444444444444,\"#bd3786\"],[0.5555555555555556,\"#d8576b\"],[0.6666666666666666,\"#ed7953\"],[0.7777777777777778,\"#fb9f3a\"],[0.8888888888888888,\"#fdca26\"],[1.0,\"#f0f921\"]],\"sequentialminus\":[[0.0,\"#0d0887\"],[0.1111111111111111,\"#46039f\"],[0.2222222222222222,\"#7201a8\"],[0.3333333333333333,\"#9c179e\"],[0.4444444444444444,\"#bd3786\"],[0.5555555555555556,\"#d8576b\"],[0.6666666666666666,\"#ed7953\"],[0.7777777777777778,\"#fb9f3a\"],[0.8888888888888888,\"#fdca26\"],[1.0,\"#f0f921\"]],\"diverging\":[[0,\"#8e0152\"],[0.1,\"#c51b7d\"],[0.2,\"#de77ae\"],[0.3,\"#f1b6da\"],[0.4,\"#fde0ef\"],[0.5,\"#f7f7f7\"],[0.6,\"#e6f5d0\"],[0.7,\"#b8e186\"],[0.8,\"#7fbc41\"],[0.9,\"#4d9221\"],[1,\"#276419\"]]},\"xaxis\":{\"gridcolor\":\"white\",\"linecolor\":\"white\",\"ticks\":\"\",\"title\":{\"standoff\":15},\"zerolinecolor\":\"white\",\"automargin\":true,\"zerolinewidth\":2},\"yaxis\":{\"gridcolor\":\"white\",\"linecolor\":\"white\",\"ticks\":\"\",\"title\":{\"standoff\":15},\"zerolinecolor\":\"white\",\"automargin\":true,\"zerolinewidth\":2},\"scene\":{\"xaxis\":{\"backgroundcolor\":\"#E5ECF6\",\"gridcolor\":\"white\",\"linecolor\":\"white\",\"showbackground\":true,\"ticks\":\"\",\"zerolinecolor\":\"white\",\"gridwidth\":2},\"yaxis\":{\"backgroundcolor\":\"#E5ECF6\",\"gridcolor\":\"white\",\"linecolor\":\"white\",\"showbackground\":true,\"ticks\":\"\",\"zerolinecolor\":\"white\",\"gridwidth\":2},\"zaxis\":{\"backgroundcolor\":\"#E5ECF6\",\"gridcolor\":\"white\",\"linecolor\":\"white\",\"showbackground\":true,\"ticks\":\"\",\"zerolinecolor\":\"white\",\"gridwidth\":2}},\"shapedefaults\":{\"line\":{\"color\":\"#2a3f5f\"}},\"annotationdefaults\":{\"arrowcolor\":\"#2a3f5f\",\"arrowhead\":0,\"arrowwidth\":1},\"geo\":{\"bgcolor\":\"white\",\"landcolor\":\"#E5ECF6\",\"subunitcolor\":\"white\",\"showland\":true,\"showlakes\":true,\"lakecolor\":\"white\"},\"title\":{\"x\":0.05},\"mapbox\":{\"style\":\"light\"}}},\"xaxis\":{\"anchor\":\"y\",\"domain\":[0.0,1.0],\"title\":{\"text\":\"0\"}},\"yaxis\":{\"anchor\":\"x\",\"domain\":[0.0,1.0],\"title\":{\"text\":\"1\"}},\"legend\":{\"title\":{\"text\":\"color\"},\"tracegroupgap\":0},\"margin\":{\"t\":60},\"height\":600,\"width\":600},                        {\"responsive\": true}                    ).then(function(){\n",
       "                            \n",
       "var gd = document.getElementById('45686744-7a20-4470-9941-04a5b4da31c7');\n",
       "var x = new MutationObserver(function (mutations, observer) {{\n",
       "        var display = window.getComputedStyle(gd).display;\n",
       "        if (!display || display === 'none') {{\n",
       "            console.log([gd, 'removed!']);\n",
       "            Plotly.purge(gd);\n",
       "            observer.disconnect();\n",
       "        }}\n",
       "}});\n",
       "\n",
       "// Listen for the removal of the full notebook cells\n",
       "var notebookContainer = gd.closest('#notebook-container');\n",
       "if (notebookContainer) {{\n",
       "    x.observe(notebookContainer, {childList: true});\n",
       "}}\n",
       "\n",
       "// Listen for the clearing of the current output cell\n",
       "var outputEl = gd.closest('.output');\n",
       "if (outputEl) {{\n",
       "    x.observe(outputEl, {childList: true});\n",
       "}}\n",
       "\n",
       "                        })                };                });            </script>        </div>"
      ]
     },
     "metadata": {},
     "output_type": "display_data"
    }
   ],
   "source": [
    "df = pd.read_csv('data/genus_relative_abundance_otu_drop.csv')\n",
    "df.patientID = df.patientID.astype('category').cat.codes\n",
    "# metadata_list = ['sampleID', 'EverCovid', 'CovidStatus', 'CovidLabel', 'Timepoint', 'patientID','Age', 'HIVstatus']\n",
    "metadata_list = ['sampleID', 'EverCovid', 'CovidLabel', 'Timepoint', 'patientID']\n",
    "\n",
    "# all the data\n",
    "df_otu = df.drop(columns=metadata_list)\n",
    "X = df_otu.to_numpy()\n",
    "\n",
    "# first reduce dimensionality before feeding to t-sne\n",
    "pca = PCA(n_components=50)\n",
    "X_pca = pca.fit_transform(X) \n",
    "\n",
    "# reduce dimensionality with t-sne\n",
    "tsne = TSNE(n_components=2, verbose=1, perplexity=50, n_iter=1000, learning_rate=300)\n",
    "projections = tsne.fit_transform(X_pca)\n",
    "\n",
    "# visualize\n",
    "# y = df['CovidStatus'].astype(str) # showed some groups\n",
    "# y = df['Age']\n",
    "y = df['HIVstatus'].astype(str) # showed some groups\n",
    "# y = df['CovidLabel'].astype(str) # showed some groups\n",
    "fig = px.scatter(projections, x=0, y=1, color=y, width=600, height=600)\n",
    "fig.update_traces(marker_size=4)\n",
    "fig.show()"
   ]
  },
  {
   "cell_type": "code",
   "execution_count": 19,
   "id": "7019d796-efc8-4f69-89f6-5fa1763b30a9",
   "metadata": {
    "tags": []
   },
   "outputs": [
    {
     "name": "stdout",
     "output_type": "stream",
     "text": [
      "[t-SNE] Computing 59 nearest neighbors...\n",
      "[t-SNE] Indexed 60 samples in 0.000s...\n",
      "[t-SNE] Computed neighbors for 60 samples in 0.003s...\n",
      "[t-SNE] Computed conditional probabilities for sample 60 / 60\n",
      "[t-SNE] Mean sigma: 6.382699\n",
      "[t-SNE] KL divergence after 250 iterations with early exaggeration: 44.750526\n",
      "[t-SNE] KL divergence after 1000 iterations: 0.331992\n"
     ]
    },
    {
     "data": {
      "application/vnd.plotly.v1+json": {
       "config": {
        "plotlyServerURL": "https://plot.ly"
       },
       "data": [
        {
         "hovertemplate": "color=0<br>0=%{x}<br>1=%{y}<extra></extra>",
         "legendgroup": "0",
         "marker": {
          "color": "#636efa",
          "size": 4,
          "symbol": "circle"
         },
         "mode": "markers",
         "name": "0",
         "orientation": "v",
         "showlegend": true,
         "type": "scatter",
         "x": [
          -70.15502166748047,
          -100.7611083984375,
          -68.60011291503906,
          146.6406707763672,
          -34.31724548339844,
          -71.40330505371094,
          168.54116821289062,
          154.09986877441406,
          -91.21546936035156,
          173.8468780517578,
          -64.06256866455078,
          175.9366455078125,
          -32.616127014160156,
          -109.38541412353516,
          160.09805297851562,
          149.28509521484375,
          141.16793823242188,
          139.3520050048828,
          -77.3187026977539,
          -85.31912231445312,
          164.47926330566406,
          -78.71586608886719,
          156.87904357910156,
          167.0310516357422,
          -57.92042541503906,
          -42.074378967285156,
          -62.793670654296875,
          -48.62140655517578,
          161.18560791015625,
          -62.0624885559082,
          -109.02748107910156,
          138.6594696044922,
          -96.02415466308594,
          -75.01593780517578,
          -51.39529800415039,
          159.31568908691406,
          155.7803497314453,
          -43.66691589355469,
          -57.02152633666992,
          172.8207244873047,
          -85.0927734375,
          -84.82442474365234
         ],
         "xaxis": "x",
         "y": [
          -17.693056106567383,
          -15.694039344787598,
          -9.63034439086914,
          43.418087005615234,
          -16.799274444580078,
          -24.951608657836914,
          35.416282653808594,
          40.78007507324219,
          -19.26970100402832,
          29.003177642822266,
          -23.48520851135254,
          39.50143814086914,
          -25.572834014892578,
          -20.06374740600586,
          46.3935546875,
          19.939510345458984,
          26.789676666259766,
          35.721126556396484,
          -13.253259658813477,
          -33.831485748291016,
          53.475486755371094,
          -28.58919334411621,
          25.625764846801758,
          22.977397918701172,
          -9.82530403137207,
          -28.97898292541504,
          -15.710428237915039,
          -15.807394027709961,
          38.28294372558594,
          -36.817848205566406,
          -11.70776081085205,
          45.005126953125,
          -8.876432418823242,
          -36.03939437866211,
          -33.118377685546875,
          17.82219886779785,
          56.334781646728516,
          -37.29335021972656,
          -20.181175231933594,
          49.26897048950195,
          -7.824836730957031,
          -15.703064918518066
         ],
         "yaxis": "y"
        },
        {
         "hovertemplate": "color=1<br>0=%{x}<br>1=%{y}<extra></extra>",
         "legendgroup": "1",
         "marker": {
          "color": "#EF553B",
          "size": 4,
          "symbol": "circle"
         },
         "mode": "markers",
         "name": "1",
         "orientation": "v",
         "showlegend": true,
         "type": "scatter",
         "x": [
          163.00083923339844,
          -78.3087387084961,
          -91.84016418457031,
          155.47584533691406,
          147.64453125,
          -85.1776123046875,
          152.83132934570312,
          -59.34223937988281,
          149.31246948242188,
          -34.216468811035156,
          -103.76414489746094,
          -68.12016296386719,
          -101.6330337524414,
          -75.27092742919922,
          -41.79730224609375,
          167.17257690429688,
          145.50765991210938,
          -49.825042724609375
         ],
         "xaxis": "x",
         "y": [
          30.254297256469727,
          -20.710355758666992,
          -28.506486892700195,
          33.37834548950195,
          35.813941955566406,
          -24.192785263061523,
          48.57342529296875,
          -28.865211486816406,
          28.451961517333984,
          -34.07316970825195,
          -5.218577861785889,
          -31.428796768188477,
          -24.354650497436523,
          -5.1838908195495605,
          -21.0327091217041,
          43.37929916381836,
          52.86623001098633,
          -24.96950340270996
         ],
         "yaxis": "y"
        }
       ],
       "layout": {
        "height": 400,
        "legend": {
         "title": {
          "text": "color"
         },
         "tracegroupgap": 0
        },
        "margin": {
         "t": 60
        },
        "template": {
         "data": {
          "bar": [
           {
            "error_x": {
             "color": "#2a3f5f"
            },
            "error_y": {
             "color": "#2a3f5f"
            },
            "marker": {
             "line": {
              "color": "#E5ECF6",
              "width": 0.5
             },
             "pattern": {
              "fillmode": "overlay",
              "size": 10,
              "solidity": 0.2
             }
            },
            "type": "bar"
           }
          ],
          "barpolar": [
           {
            "marker": {
             "line": {
              "color": "#E5ECF6",
              "width": 0.5
             },
             "pattern": {
              "fillmode": "overlay",
              "size": 10,
              "solidity": 0.2
             }
            },
            "type": "barpolar"
           }
          ],
          "carpet": [
           {
            "aaxis": {
             "endlinecolor": "#2a3f5f",
             "gridcolor": "white",
             "linecolor": "white",
             "minorgridcolor": "white",
             "startlinecolor": "#2a3f5f"
            },
            "baxis": {
             "endlinecolor": "#2a3f5f",
             "gridcolor": "white",
             "linecolor": "white",
             "minorgridcolor": "white",
             "startlinecolor": "#2a3f5f"
            },
            "type": "carpet"
           }
          ],
          "choropleth": [
           {
            "colorbar": {
             "outlinewidth": 0,
             "ticks": ""
            },
            "type": "choropleth"
           }
          ],
          "contour": [
           {
            "colorbar": {
             "outlinewidth": 0,
             "ticks": ""
            },
            "colorscale": [
             [
              0,
              "#0d0887"
             ],
             [
              0.1111111111111111,
              "#46039f"
             ],
             [
              0.2222222222222222,
              "#7201a8"
             ],
             [
              0.3333333333333333,
              "#9c179e"
             ],
             [
              0.4444444444444444,
              "#bd3786"
             ],
             [
              0.5555555555555556,
              "#d8576b"
             ],
             [
              0.6666666666666666,
              "#ed7953"
             ],
             [
              0.7777777777777778,
              "#fb9f3a"
             ],
             [
              0.8888888888888888,
              "#fdca26"
             ],
             [
              1,
              "#f0f921"
             ]
            ],
            "type": "contour"
           }
          ],
          "contourcarpet": [
           {
            "colorbar": {
             "outlinewidth": 0,
             "ticks": ""
            },
            "type": "contourcarpet"
           }
          ],
          "heatmap": [
           {
            "colorbar": {
             "outlinewidth": 0,
             "ticks": ""
            },
            "colorscale": [
             [
              0,
              "#0d0887"
             ],
             [
              0.1111111111111111,
              "#46039f"
             ],
             [
              0.2222222222222222,
              "#7201a8"
             ],
             [
              0.3333333333333333,
              "#9c179e"
             ],
             [
              0.4444444444444444,
              "#bd3786"
             ],
             [
              0.5555555555555556,
              "#d8576b"
             ],
             [
              0.6666666666666666,
              "#ed7953"
             ],
             [
              0.7777777777777778,
              "#fb9f3a"
             ],
             [
              0.8888888888888888,
              "#fdca26"
             ],
             [
              1,
              "#f0f921"
             ]
            ],
            "type": "heatmap"
           }
          ],
          "heatmapgl": [
           {
            "colorbar": {
             "outlinewidth": 0,
             "ticks": ""
            },
            "colorscale": [
             [
              0,
              "#0d0887"
             ],
             [
              0.1111111111111111,
              "#46039f"
             ],
             [
              0.2222222222222222,
              "#7201a8"
             ],
             [
              0.3333333333333333,
              "#9c179e"
             ],
             [
              0.4444444444444444,
              "#bd3786"
             ],
             [
              0.5555555555555556,
              "#d8576b"
             ],
             [
              0.6666666666666666,
              "#ed7953"
             ],
             [
              0.7777777777777778,
              "#fb9f3a"
             ],
             [
              0.8888888888888888,
              "#fdca26"
             ],
             [
              1,
              "#f0f921"
             ]
            ],
            "type": "heatmapgl"
           }
          ],
          "histogram": [
           {
            "marker": {
             "pattern": {
              "fillmode": "overlay",
              "size": 10,
              "solidity": 0.2
             }
            },
            "type": "histogram"
           }
          ],
          "histogram2d": [
           {
            "colorbar": {
             "outlinewidth": 0,
             "ticks": ""
            },
            "colorscale": [
             [
              0,
              "#0d0887"
             ],
             [
              0.1111111111111111,
              "#46039f"
             ],
             [
              0.2222222222222222,
              "#7201a8"
             ],
             [
              0.3333333333333333,
              "#9c179e"
             ],
             [
              0.4444444444444444,
              "#bd3786"
             ],
             [
              0.5555555555555556,
              "#d8576b"
             ],
             [
              0.6666666666666666,
              "#ed7953"
             ],
             [
              0.7777777777777778,
              "#fb9f3a"
             ],
             [
              0.8888888888888888,
              "#fdca26"
             ],
             [
              1,
              "#f0f921"
             ]
            ],
            "type": "histogram2d"
           }
          ],
          "histogram2dcontour": [
           {
            "colorbar": {
             "outlinewidth": 0,
             "ticks": ""
            },
            "colorscale": [
             [
              0,
              "#0d0887"
             ],
             [
              0.1111111111111111,
              "#46039f"
             ],
             [
              0.2222222222222222,
              "#7201a8"
             ],
             [
              0.3333333333333333,
              "#9c179e"
             ],
             [
              0.4444444444444444,
              "#bd3786"
             ],
             [
              0.5555555555555556,
              "#d8576b"
             ],
             [
              0.6666666666666666,
              "#ed7953"
             ],
             [
              0.7777777777777778,
              "#fb9f3a"
             ],
             [
              0.8888888888888888,
              "#fdca26"
             ],
             [
              1,
              "#f0f921"
             ]
            ],
            "type": "histogram2dcontour"
           }
          ],
          "mesh3d": [
           {
            "colorbar": {
             "outlinewidth": 0,
             "ticks": ""
            },
            "type": "mesh3d"
           }
          ],
          "parcoords": [
           {
            "line": {
             "colorbar": {
              "outlinewidth": 0,
              "ticks": ""
             }
            },
            "type": "parcoords"
           }
          ],
          "pie": [
           {
            "automargin": true,
            "type": "pie"
           }
          ],
          "scatter": [
           {
            "fillpattern": {
             "fillmode": "overlay",
             "size": 10,
             "solidity": 0.2
            },
            "type": "scatter"
           }
          ],
          "scatter3d": [
           {
            "line": {
             "colorbar": {
              "outlinewidth": 0,
              "ticks": ""
             }
            },
            "marker": {
             "colorbar": {
              "outlinewidth": 0,
              "ticks": ""
             }
            },
            "type": "scatter3d"
           }
          ],
          "scattercarpet": [
           {
            "marker": {
             "colorbar": {
              "outlinewidth": 0,
              "ticks": ""
             }
            },
            "type": "scattercarpet"
           }
          ],
          "scattergeo": [
           {
            "marker": {
             "colorbar": {
              "outlinewidth": 0,
              "ticks": ""
             }
            },
            "type": "scattergeo"
           }
          ],
          "scattergl": [
           {
            "marker": {
             "colorbar": {
              "outlinewidth": 0,
              "ticks": ""
             }
            },
            "type": "scattergl"
           }
          ],
          "scattermapbox": [
           {
            "marker": {
             "colorbar": {
              "outlinewidth": 0,
              "ticks": ""
             }
            },
            "type": "scattermapbox"
           }
          ],
          "scatterpolar": [
           {
            "marker": {
             "colorbar": {
              "outlinewidth": 0,
              "ticks": ""
             }
            },
            "type": "scatterpolar"
           }
          ],
          "scatterpolargl": [
           {
            "marker": {
             "colorbar": {
              "outlinewidth": 0,
              "ticks": ""
             }
            },
            "type": "scatterpolargl"
           }
          ],
          "scatterternary": [
           {
            "marker": {
             "colorbar": {
              "outlinewidth": 0,
              "ticks": ""
             }
            },
            "type": "scatterternary"
           }
          ],
          "surface": [
           {
            "colorbar": {
             "outlinewidth": 0,
             "ticks": ""
            },
            "colorscale": [
             [
              0,
              "#0d0887"
             ],
             [
              0.1111111111111111,
              "#46039f"
             ],
             [
              0.2222222222222222,
              "#7201a8"
             ],
             [
              0.3333333333333333,
              "#9c179e"
             ],
             [
              0.4444444444444444,
              "#bd3786"
             ],
             [
              0.5555555555555556,
              "#d8576b"
             ],
             [
              0.6666666666666666,
              "#ed7953"
             ],
             [
              0.7777777777777778,
              "#fb9f3a"
             ],
             [
              0.8888888888888888,
              "#fdca26"
             ],
             [
              1,
              "#f0f921"
             ]
            ],
            "type": "surface"
           }
          ],
          "table": [
           {
            "cells": {
             "fill": {
              "color": "#EBF0F8"
             },
             "line": {
              "color": "white"
             }
            },
            "header": {
             "fill": {
              "color": "#C8D4E3"
             },
             "line": {
              "color": "white"
             }
            },
            "type": "table"
           }
          ]
         },
         "layout": {
          "annotationdefaults": {
           "arrowcolor": "#2a3f5f",
           "arrowhead": 0,
           "arrowwidth": 1
          },
          "autotypenumbers": "strict",
          "coloraxis": {
           "colorbar": {
            "outlinewidth": 0,
            "ticks": ""
           }
          },
          "colorscale": {
           "diverging": [
            [
             0,
             "#8e0152"
            ],
            [
             0.1,
             "#c51b7d"
            ],
            [
             0.2,
             "#de77ae"
            ],
            [
             0.3,
             "#f1b6da"
            ],
            [
             0.4,
             "#fde0ef"
            ],
            [
             0.5,
             "#f7f7f7"
            ],
            [
             0.6,
             "#e6f5d0"
            ],
            [
             0.7,
             "#b8e186"
            ],
            [
             0.8,
             "#7fbc41"
            ],
            [
             0.9,
             "#4d9221"
            ],
            [
             1,
             "#276419"
            ]
           ],
           "sequential": [
            [
             0,
             "#0d0887"
            ],
            [
             0.1111111111111111,
             "#46039f"
            ],
            [
             0.2222222222222222,
             "#7201a8"
            ],
            [
             0.3333333333333333,
             "#9c179e"
            ],
            [
             0.4444444444444444,
             "#bd3786"
            ],
            [
             0.5555555555555556,
             "#d8576b"
            ],
            [
             0.6666666666666666,
             "#ed7953"
            ],
            [
             0.7777777777777778,
             "#fb9f3a"
            ],
            [
             0.8888888888888888,
             "#fdca26"
            ],
            [
             1,
             "#f0f921"
            ]
           ],
           "sequentialminus": [
            [
             0,
             "#0d0887"
            ],
            [
             0.1111111111111111,
             "#46039f"
            ],
            [
             0.2222222222222222,
             "#7201a8"
            ],
            [
             0.3333333333333333,
             "#9c179e"
            ],
            [
             0.4444444444444444,
             "#bd3786"
            ],
            [
             0.5555555555555556,
             "#d8576b"
            ],
            [
             0.6666666666666666,
             "#ed7953"
            ],
            [
             0.7777777777777778,
             "#fb9f3a"
            ],
            [
             0.8888888888888888,
             "#fdca26"
            ],
            [
             1,
             "#f0f921"
            ]
           ]
          },
          "colorway": [
           "#636efa",
           "#EF553B",
           "#00cc96",
           "#ab63fa",
           "#FFA15A",
           "#19d3f3",
           "#FF6692",
           "#B6E880",
           "#FF97FF",
           "#FECB52"
          ],
          "font": {
           "color": "#2a3f5f"
          },
          "geo": {
           "bgcolor": "white",
           "lakecolor": "white",
           "landcolor": "#E5ECF6",
           "showlakes": true,
           "showland": true,
           "subunitcolor": "white"
          },
          "hoverlabel": {
           "align": "left"
          },
          "hovermode": "closest",
          "mapbox": {
           "style": "light"
          },
          "paper_bgcolor": "white",
          "plot_bgcolor": "#E5ECF6",
          "polar": {
           "angularaxis": {
            "gridcolor": "white",
            "linecolor": "white",
            "ticks": ""
           },
           "bgcolor": "#E5ECF6",
           "radialaxis": {
            "gridcolor": "white",
            "linecolor": "white",
            "ticks": ""
           }
          },
          "scene": {
           "xaxis": {
            "backgroundcolor": "#E5ECF6",
            "gridcolor": "white",
            "gridwidth": 2,
            "linecolor": "white",
            "showbackground": true,
            "ticks": "",
            "zerolinecolor": "white"
           },
           "yaxis": {
            "backgroundcolor": "#E5ECF6",
            "gridcolor": "white",
            "gridwidth": 2,
            "linecolor": "white",
            "showbackground": true,
            "ticks": "",
            "zerolinecolor": "white"
           },
           "zaxis": {
            "backgroundcolor": "#E5ECF6",
            "gridcolor": "white",
            "gridwidth": 2,
            "linecolor": "white",
            "showbackground": true,
            "ticks": "",
            "zerolinecolor": "white"
           }
          },
          "shapedefaults": {
           "line": {
            "color": "#2a3f5f"
           }
          },
          "ternary": {
           "aaxis": {
            "gridcolor": "white",
            "linecolor": "white",
            "ticks": ""
           },
           "baxis": {
            "gridcolor": "white",
            "linecolor": "white",
            "ticks": ""
           },
           "bgcolor": "#E5ECF6",
           "caxis": {
            "gridcolor": "white",
            "linecolor": "white",
            "ticks": ""
           }
          },
          "title": {
           "x": 0.05
          },
          "xaxis": {
           "automargin": true,
           "gridcolor": "white",
           "linecolor": "white",
           "ticks": "",
           "title": {
            "standoff": 15
           },
           "zerolinecolor": "white",
           "zerolinewidth": 2
          },
          "yaxis": {
           "automargin": true,
           "gridcolor": "white",
           "linecolor": "white",
           "ticks": "",
           "title": {
            "standoff": 15
           },
           "zerolinecolor": "white",
           "zerolinewidth": 2
          }
         }
        },
        "width": 400,
        "xaxis": {
         "anchor": "y",
         "autorange": true,
         "domain": [
          0,
          1
         ],
         "range": [
          -129.76556124005998,
          196.31679262433732
         ],
         "title": {
          "text": "0"
         },
         "type": "linear"
        },
        "yaxis": {
         "anchor": "x",
         "autorange": true,
         "domain": [
          0,
          1
         ],
         "range": [
          -43.86374543842516,
          62.905176865427116
         ],
         "title": {
          "text": "1"
         },
         "type": "linear"
        }
       }
      },
      "image/png": "[encoded data removed]",
      "text/html": [
       "<div>                            <div id=\"c274f348-7106-45c2-b51a-a6b68610a232\" class=\"plotly-graph-div\" style=\"height:400px; width:400px;\"></div>            <script type=\"text/javascript\">                require([\"plotly\"], function(Plotly) {                    window.PLOTLYENV=window.PLOTLYENV || {};                                    if (document.getElementById(\"c274f348-7106-45c2-b51a-a6b68610a232\")) {                    Plotly.newPlot(                        \"c274f348-7106-45c2-b51a-a6b68610a232\",                        [{\"hovertemplate\":\"color=0\\u003cbr\\u003e0=%{x}\\u003cbr\\u003e1=%{y}\\u003cextra\\u003e\\u003c\\u002fextra\\u003e\",\"legendgroup\":\"0\",\"marker\":{\"color\":\"#636efa\",\"symbol\":\"circle\",\"size\":4},\"mode\":\"markers\",\"name\":\"0\",\"orientation\":\"v\",\"showlegend\":true,\"x\":[-70.15502166748047,-100.7611083984375,-68.60011291503906,146.6406707763672,-34.31724548339844,-71.40330505371094,168.54116821289062,154.09986877441406,-91.21546936035156,173.8468780517578,-64.06256866455078,175.9366455078125,-32.616127014160156,-109.38541412353516,160.09805297851562,149.28509521484375,141.16793823242188,139.3520050048828,-77.3187026977539,-85.31912231445312,164.47926330566406,-78.71586608886719,156.87904357910156,167.0310516357422,-57.92042541503906,-42.074378967285156,-62.793670654296875,-48.62140655517578,161.18560791015625,-62.0624885559082,-109.02748107910156,138.6594696044922,-96.02415466308594,-75.01593780517578,-51.39529800415039,159.31568908691406,155.7803497314453,-43.66691589355469,-57.02152633666992,172.8207244873047,-85.0927734375,-84.82442474365234],\"xaxis\":\"x\",\"y\":[-17.693056106567383,-15.694039344787598,-9.63034439086914,43.418087005615234,-16.799274444580078,-24.951608657836914,35.416282653808594,40.78007507324219,-19.26970100402832,29.003177642822266,-23.48520851135254,39.50143814086914,-25.572834014892578,-20.06374740600586,46.3935546875,19.939510345458984,26.789676666259766,35.721126556396484,-13.253259658813477,-33.831485748291016,53.475486755371094,-28.58919334411621,25.625764846801758,22.977397918701172,-9.82530403137207,-28.97898292541504,-15.710428237915039,-15.807394027709961,38.28294372558594,-36.817848205566406,-11.70776081085205,45.005126953125,-8.876432418823242,-36.03939437866211,-33.118377685546875,17.82219886779785,56.334781646728516,-37.29335021972656,-20.181175231933594,49.26897048950195,-7.824836730957031,-15.703064918518066],\"yaxis\":\"y\",\"type\":\"scatter\"},{\"hovertemplate\":\"color=1\\u003cbr\\u003e0=%{x}\\u003cbr\\u003e1=%{y}\\u003cextra\\u003e\\u003c\\u002fextra\\u003e\",\"legendgroup\":\"1\",\"marker\":{\"color\":\"#EF553B\",\"symbol\":\"circle\",\"size\":4},\"mode\":\"markers\",\"name\":\"1\",\"orientation\":\"v\",\"showlegend\":true,\"x\":[163.00083923339844,-78.3087387084961,-91.84016418457031,155.47584533691406,147.64453125,-85.1776123046875,152.83132934570312,-59.34223937988281,149.31246948242188,-34.216468811035156,-103.76414489746094,-68.12016296386719,-101.6330337524414,-75.27092742919922,-41.79730224609375,167.17257690429688,145.50765991210938,-49.825042724609375],\"xaxis\":\"x\",\"y\":[30.254297256469727,-20.710355758666992,-28.506486892700195,33.37834548950195,35.813941955566406,-24.192785263061523,48.57342529296875,-28.865211486816406,28.451961517333984,-34.07316970825195,-5.218577861785889,-31.428796768188477,-24.354650497436523,-5.1838908195495605,-21.0327091217041,43.37929916381836,52.86623001098633,-24.96950340270996],\"yaxis\":\"y\",\"type\":\"scatter\"}],                        {\"template\":{\"data\":{\"histogram2dcontour\":[{\"type\":\"histogram2dcontour\",\"colorbar\":{\"outlinewidth\":0,\"ticks\":\"\"},\"colorscale\":[[0.0,\"#0d0887\"],[0.1111111111111111,\"#46039f\"],[0.2222222222222222,\"#7201a8\"],[0.3333333333333333,\"#9c179e\"],[0.4444444444444444,\"#bd3786\"],[0.5555555555555556,\"#d8576b\"],[0.6666666666666666,\"#ed7953\"],[0.7777777777777778,\"#fb9f3a\"],[0.8888888888888888,\"#fdca26\"],[1.0,\"#f0f921\"]]}],\"choropleth\":[{\"type\":\"choropleth\",\"colorbar\":{\"outlinewidth\":0,\"ticks\":\"\"}}],\"histogram2d\":[{\"type\":\"histogram2d\",\"colorbar\":{\"outlinewidth\":0,\"ticks\":\"\"},\"colorscale\":[[0.0,\"#0d0887\"],[0.1111111111111111,\"#46039f\"],[0.2222222222222222,\"#7201a8\"],[0.3333333333333333,\"#9c179e\"],[0.4444444444444444,\"#bd3786\"],[0.5555555555555556,\"#d8576b\"],[0.6666666666666666,\"#ed7953\"],[0.7777777777777778,\"#fb9f3a\"],[0.8888888888888888,\"#fdca26\"],[1.0,\"#f0f921\"]]}],\"heatmap\":[{\"type\":\"heatmap\",\"colorbar\":{\"outlinewidth\":0,\"ticks\":\"\"},\"colorscale\":[[0.0,\"#0d0887\"],[0.1111111111111111,\"#46039f\"],[0.2222222222222222,\"#7201a8\"],[0.3333333333333333,\"#9c179e\"],[0.4444444444444444,\"#bd3786\"],[0.5555555555555556,\"#d8576b\"],[0.6666666666666666,\"#ed7953\"],[0.7777777777777778,\"#fb9f3a\"],[0.8888888888888888,\"#fdca26\"],[1.0,\"#f0f921\"]]}],\"heatmapgl\":[{\"type\":\"heatmapgl\",\"colorbar\":{\"outlinewidth\":0,\"ticks\":\"\"},\"colorscale\":[[0.0,\"#0d0887\"],[0.1111111111111111,\"#46039f\"],[0.2222222222222222,\"#7201a8\"],[0.3333333333333333,\"#9c179e\"],[0.4444444444444444,\"#bd3786\"],[0.5555555555555556,\"#d8576b\"],[0.6666666666666666,\"#ed7953\"],[0.7777777777777778,\"#fb9f3a\"],[0.8888888888888888,\"#fdca26\"],[1.0,\"#f0f921\"]]}],\"contourcarpet\":[{\"type\":\"contourcarpet\",\"colorbar\":{\"outlinewidth\":0,\"ticks\":\"\"}}],\"contour\":[{\"type\":\"contour\",\"colorbar\":{\"outlinewidth\":0,\"ticks\":\"\"},\"colorscale\":[[0.0,\"#0d0887\"],[0.1111111111111111,\"#46039f\"],[0.2222222222222222,\"#7201a8\"],[0.3333333333333333,\"#9c179e\"],[0.4444444444444444,\"#bd3786\"],[0.5555555555555556,\"#d8576b\"],[0.6666666666666666,\"#ed7953\"],[0.7777777777777778,\"#fb9f3a\"],[0.8888888888888888,\"#fdca26\"],[1.0,\"#f0f921\"]]}],\"surface\":[{\"type\":\"surface\",\"colorbar\":{\"outlinewidth\":0,\"ticks\":\"\"},\"colorscale\":[[0.0,\"#0d0887\"],[0.1111111111111111,\"#46039f\"],[0.2222222222222222,\"#7201a8\"],[0.3333333333333333,\"#9c179e\"],[0.4444444444444444,\"#bd3786\"],[0.5555555555555556,\"#d8576b\"],[0.6666666666666666,\"#ed7953\"],[0.7777777777777778,\"#fb9f3a\"],[0.8888888888888888,\"#fdca26\"],[1.0,\"#f0f921\"]]}],\"mesh3d\":[{\"type\":\"mesh3d\",\"colorbar\":{\"outlinewidth\":0,\"ticks\":\"\"}}],\"scatter\":[{\"fillpattern\":{\"fillmode\":\"overlay\",\"size\":10,\"solidity\":0.2},\"type\":\"scatter\"}],\"parcoords\":[{\"type\":\"parcoords\",\"line\":{\"colorbar\":{\"outlinewidth\":0,\"ticks\":\"\"}}}],\"scatterpolargl\":[{\"type\":\"scatterpolargl\",\"marker\":{\"colorbar\":{\"outlinewidth\":0,\"ticks\":\"\"}}}],\"bar\":[{\"error_x\":{\"color\":\"#2a3f5f\"},\"error_y\":{\"color\":\"#2a3f5f\"},\"marker\":{\"line\":{\"color\":\"#E5ECF6\",\"width\":0.5},\"pattern\":{\"fillmode\":\"overlay\",\"size\":10,\"solidity\":0.2}},\"type\":\"bar\"}],\"scattergeo\":[{\"type\":\"scattergeo\",\"marker\":{\"colorbar\":{\"outlinewidth\":0,\"ticks\":\"\"}}}],\"scatterpolar\":[{\"type\":\"scatterpolar\",\"marker\":{\"colorbar\":{\"outlinewidth\":0,\"ticks\":\"\"}}}],\"histogram\":[{\"marker\":{\"pattern\":{\"fillmode\":\"overlay\",\"size\":10,\"solidity\":0.2}},\"type\":\"histogram\"}],\"scattergl\":[{\"type\":\"scattergl\",\"marker\":{\"colorbar\":{\"outlinewidth\":0,\"ticks\":\"\"}}}],\"scatter3d\":[{\"type\":\"scatter3d\",\"line\":{\"colorbar\":{\"outlinewidth\":0,\"ticks\":\"\"}},\"marker\":{\"colorbar\":{\"outlinewidth\":0,\"ticks\":\"\"}}}],\"scattermapbox\":[{\"type\":\"scattermapbox\",\"marker\":{\"colorbar\":{\"outlinewidth\":0,\"ticks\":\"\"}}}],\"scatterternary\":[{\"type\":\"scatterternary\",\"marker\":{\"colorbar\":{\"outlinewidth\":0,\"ticks\":\"\"}}}],\"scattercarpet\":[{\"type\":\"scattercarpet\",\"marker\":{\"colorbar\":{\"outlinewidth\":0,\"ticks\":\"\"}}}],\"carpet\":[{\"aaxis\":{\"endlinecolor\":\"#2a3f5f\",\"gridcolor\":\"white\",\"linecolor\":\"white\",\"minorgridcolor\":\"white\",\"startlinecolor\":\"#2a3f5f\"},\"baxis\":{\"endlinecolor\":\"#2a3f5f\",\"gridcolor\":\"white\",\"linecolor\":\"white\",\"minorgridcolor\":\"white\",\"startlinecolor\":\"#2a3f5f\"},\"type\":\"carpet\"}],\"table\":[{\"cells\":{\"fill\":{\"color\":\"#EBF0F8\"},\"line\":{\"color\":\"white\"}},\"header\":{\"fill\":{\"color\":\"#C8D4E3\"},\"line\":{\"color\":\"white\"}},\"type\":\"table\"}],\"barpolar\":[{\"marker\":{\"line\":{\"color\":\"#E5ECF6\",\"width\":0.5},\"pattern\":{\"fillmode\":\"overlay\",\"size\":10,\"solidity\":0.2}},\"type\":\"barpolar\"}],\"pie\":[{\"automargin\":true,\"type\":\"pie\"}]},\"layout\":{\"autotypenumbers\":\"strict\",\"colorway\":[\"#636efa\",\"#EF553B\",\"#00cc96\",\"#ab63fa\",\"#FFA15A\",\"#19d3f3\",\"#FF6692\",\"#B6E880\",\"#FF97FF\",\"#FECB52\"],\"font\":{\"color\":\"#2a3f5f\"},\"hovermode\":\"closest\",\"hoverlabel\":{\"align\":\"left\"},\"paper_bgcolor\":\"white\",\"plot_bgcolor\":\"#E5ECF6\",\"polar\":{\"bgcolor\":\"#E5ECF6\",\"angularaxis\":{\"gridcolor\":\"white\",\"linecolor\":\"white\",\"ticks\":\"\"},\"radialaxis\":{\"gridcolor\":\"white\",\"linecolor\":\"white\",\"ticks\":\"\"}},\"ternary\":{\"bgcolor\":\"#E5ECF6\",\"aaxis\":{\"gridcolor\":\"white\",\"linecolor\":\"white\",\"ticks\":\"\"},\"baxis\":{\"gridcolor\":\"white\",\"linecolor\":\"white\",\"ticks\":\"\"},\"caxis\":{\"gridcolor\":\"white\",\"linecolor\":\"white\",\"ticks\":\"\"}},\"coloraxis\":{\"colorbar\":{\"outlinewidth\":0,\"ticks\":\"\"}},\"colorscale\":{\"sequential\":[[0.0,\"#0d0887\"],[0.1111111111111111,\"#46039f\"],[0.2222222222222222,\"#7201a8\"],[0.3333333333333333,\"#9c179e\"],[0.4444444444444444,\"#bd3786\"],[0.5555555555555556,\"#d8576b\"],[0.6666666666666666,\"#ed7953\"],[0.7777777777777778,\"#fb9f3a\"],[0.8888888888888888,\"#fdca26\"],[1.0,\"#f0f921\"]],\"sequentialminus\":[[0.0,\"#0d0887\"],[0.1111111111111111,\"#46039f\"],[0.2222222222222222,\"#7201a8\"],[0.3333333333333333,\"#9c179e\"],[0.4444444444444444,\"#bd3786\"],[0.5555555555555556,\"#d8576b\"],[0.6666666666666666,\"#ed7953\"],[0.7777777777777778,\"#fb9f3a\"],[0.8888888888888888,\"#fdca26\"],[1.0,\"#f0f921\"]],\"diverging\":[[0,\"#8e0152\"],[0.1,\"#c51b7d\"],[0.2,\"#de77ae\"],[0.3,\"#f1b6da\"],[0.4,\"#fde0ef\"],[0.5,\"#f7f7f7\"],[0.6,\"#e6f5d0\"],[0.7,\"#b8e186\"],[0.8,\"#7fbc41\"],[0.9,\"#4d9221\"],[1,\"#276419\"]]},\"xaxis\":{\"gridcolor\":\"white\",\"linecolor\":\"white\",\"ticks\":\"\",\"title\":{\"standoff\":15},\"zerolinecolor\":\"white\",\"automargin\":true,\"zerolinewidth\":2},\"yaxis\":{\"gridcolor\":\"white\",\"linecolor\":\"white\",\"ticks\":\"\",\"title\":{\"standoff\":15},\"zerolinecolor\":\"white\",\"automargin\":true,\"zerolinewidth\":2},\"scene\":{\"xaxis\":{\"backgroundcolor\":\"#E5ECF6\",\"gridcolor\":\"white\",\"linecolor\":\"white\",\"showbackground\":true,\"ticks\":\"\",\"zerolinecolor\":\"white\",\"gridwidth\":2},\"yaxis\":{\"backgroundcolor\":\"#E5ECF6\",\"gridcolor\":\"white\",\"linecolor\":\"white\",\"showbackground\":true,\"ticks\":\"\",\"zerolinecolor\":\"white\",\"gridwidth\":2},\"zaxis\":{\"backgroundcolor\":\"#E5ECF6\",\"gridcolor\":\"white\",\"linecolor\":\"white\",\"showbackground\":true,\"ticks\":\"\",\"zerolinecolor\":\"white\",\"gridwidth\":2}},\"shapedefaults\":{\"line\":{\"color\":\"#2a3f5f\"}},\"annotationdefaults\":{\"arrowcolor\":\"#2a3f5f\",\"arrowhead\":0,\"arrowwidth\":1},\"geo\":{\"bgcolor\":\"white\",\"landcolor\":\"#E5ECF6\",\"subunitcolor\":\"white\",\"showland\":true,\"showlakes\":true,\"lakecolor\":\"white\"},\"title\":{\"x\":0.05},\"mapbox\":{\"style\":\"light\"}}},\"xaxis\":{\"anchor\":\"y\",\"domain\":[0.0,1.0],\"title\":{\"text\":\"0\"}},\"yaxis\":{\"anchor\":\"x\",\"domain\":[0.0,1.0],\"title\":{\"text\":\"1\"}},\"legend\":{\"title\":{\"text\":\"color\"},\"tracegroupgap\":0},\"margin\":{\"t\":60},\"height\":400,\"width\":400},                        {\"responsive\": true}                    ).then(function(){\n",
       "                            \n",
       "var gd = document.getElementById('c274f348-7106-45c2-b51a-a6b68610a232');\n",
       "var x = new MutationObserver(function (mutations, observer) {{\n",
       "        var display = window.getComputedStyle(gd).display;\n",
       "        if (!display || display === 'none') {{\n",
       "            console.log([gd, 'removed!']);\n",
       "            Plotly.purge(gd);\n",
       "            observer.disconnect();\n",
       "        }}\n",
       "}});\n",
       "\n",
       "// Listen for the removal of the full notebook cells\n",
       "var notebookContainer = gd.closest('#notebook-container');\n",
       "if (notebookContainer) {{\n",
       "    x.observe(notebookContainer, {childList: true});\n",
       "}}\n",
       "\n",
       "// Listen for the clearing of the current output cell\n",
       "var outputEl = gd.closest('.output');\n",
       "if (outputEl) {{\n",
       "    x.observe(outputEl, {childList: true});\n",
       "}}\n",
       "\n",
       "                        })                };                });            </script>        </div>"
      ]
     },
     "metadata": {},
     "output_type": "display_data"
    }
   ],
   "source": [
    "df = pd.read_csv('data/all/genus_relative_abundance_otu_drop.csv')\n",
    "df.patientID = df.patientID.astype('category').cat.codes\n",
    "# metadata_list = ['sampleID', 'EverCovid', 'CovidStatus', 'CovidLabel', 'Timepoint', 'patientID','Age', 'HIVstatus']\n",
    "metadata_list = ['sampleID', 'EverCovid', 'CovidLabel', 'Timepoint', 'patientID']\n",
    "\n",
    "# only CN and CP data pre-infection\n",
    "df0 = df.loc[df['Timepoint'].isin([1, 2, 3])]  # all three time points T1,2,3\n",
    "df1 = df0.loc[df0['CovidLabel'] == 1]  # case-negatives (CN) only exist in T1&2\n",
    "df2 = df0.loc[df0['CovidLabel'] == 2]  # case-positives (CP) only exist in T3\n",
    "df_CN_CP = pd.concat([df1, df2], ignore_index=True)  # reset the index after concat\n",
    "df_CN_CP_otu = df_CN_CP.drop(columns=metadata_list)\n",
    "X = df_CN_CP_otu.to_numpy()\n",
    "\n",
    "# first reduce dimensionality before feeding to t-sne\n",
    "pca = PCA(n_components=50)\n",
    "# X = preprocessing.MaxAbsScaler().fit_transform(X)\n",
    "X_pca = pca.fit_transform(X) \n",
    "\n",
    "# reduce dimensionality with t-sne\n",
    "tsne = TSNE(n_components=2, verbose=1, perplexity=25, n_iter=1000, learning_rate=200)\n",
    "projections = tsne.fit_transform(X_pca)\n",
    "\n",
    "# visualize\n",
    "y = df_CN_CP['CovidStatus'].astype(str)\n",
    "# y = df_CN_CP['Age']\n",
    "# y = df_CN_CP['HIVstatus'].astype(str)\n",
    "# y = df_CN_CP['CovidLabel'].astype(str) # show some groups for mother samples\n",
    "fig = px.scatter(projections, x=0, y=1, color=y, width=400, height=400)\n",
    "fig.update_traces(marker_size=4)\n",
    "fig.show()"
   ]
  },
  {
   "cell_type": "code",
   "execution_count": 6,
   "id": "ba41757f-c26f-4ada-b67a-a64032978401",
   "metadata": {
    "tags": []
   },
   "outputs": [
    {
     "name": "stdout",
     "output_type": "stream",
     "text": [
      "[t-SNE] Computing 91 nearest neighbors...\n",
      "[t-SNE] Indexed 215 samples in 0.009s...\n",
      "[t-SNE] Computed neighbors for 215 samples in 0.202s...\n",
      "[t-SNE] Computed conditional probabilities for sample 215 / 215\n",
      "[t-SNE] Mean sigma: 0.755206\n",
      "[t-SNE] KL divergence after 250 iterations with early exaggeration: 97.258858\n",
      "[t-SNE] KL divergence after 1000 iterations: 1.441246\n"
     ]
    },
    {
     "data": {
      "application/vnd.plotly.v1+json": {
       "config": {
        "plotlyServerURL": "https://plot.ly"
       },
       "data": [
        {
         "hovertemplate": "color=0<br>0=%{x}<br>1=%{y}<br>2=%{z}<extra></extra>",
         "legendgroup": "0",
         "marker": {
          "color": "#636efa",
          "size": 4,
          "symbol": "circle"
         },
         "mode": "markers",
         "name": "0",
         "scene": "scene",
         "showlegend": true,
         "type": "scatter3d",
         "x": [
          131.72021484375,
          -23.340110778808594,
          -85.4142074584961,
          26.317726135253906,
          99.2439193725586,
          -67.86004638671875,
          -94.52534484863281,
          -27.92662239074707,
          29.62264060974121,
          -33.7779541015625,
          -83.64683532714844,
          -95.91827392578125,
          67.26913452148438,
          53.34149169921875,
          -78.47728729248047,
          64.19287109375,
          74.12956237792969,
          -129.1225128173828,
          -72.86955261230469,
          111.08244323730469,
          26.749855041503906,
          34.9846076965332,
          73.84219360351562,
          -55.23019790649414,
          65.18704986572266,
          159.5669403076172,
          -18.765344619750977,
          37.35221481323242,
          -79.43951416015625,
          81.32792663574219,
          138.92947387695312,
          139.69171142578125,
          74.99884796142578,
          95.79263305664062,
          -57.18502426147461,
          52.67193603515625,
          -0.7569632530212402,
          -124.10428619384766,
          -52.745361328125,
          -8.556528091430664,
          5.589205265045166,
          12.107633590698242,
          -27.829143524169922,
          59.593807220458984,
          17.825580596923828,
          -57.80524444580078,
          97.18951416015625,
          20.331941604614258,
          6.635566711425781,
          -15.097766876220703,
          18.374431610107422,
          5.415961742401123,
          92.85330963134766,
          -32.18340301513672,
          -5.5607404708862305,
          49.03922653198242,
          56.98295211791992,
          146.91957092285156,
          -93.72723388671875,
          -76.61264038085938,
          4.88468074798584,
          -9.74705696105957,
          -41.73316955566406,
          -23.068599700927734,
          39.769893646240234,
          36.23581314086914,
          -21.68550682067871,
          -46.503543853759766,
          15.466732025146484,
          35.099815368652344,
          -64.06761169433594,
          68.2735595703125,
          -94.90608215332031,
          35.51303482055664,
          -15.642739295959473,
          -17.00857162475586,
          -0.6108306646347046,
          -74.21023559570312,
          -4.650124549865723,
          63.68156433105469,
          102.5694351196289,
          11.06734848022461,
          98.55519104003906,
          -24.611587524414062,
          -119.99456787109375,
          32.47464370727539,
          84.70134735107422,
          -82.33145904541016,
          23.156768798828125,
          33.919124603271484,
          37.6882209777832,
          3.499539613723755,
          24.67300033569336,
          -71.61412048339844,
          40.302452087402344,
          12.085989952087402,
          93.42897033691406,
          -37.82164001464844,
          -82.4654541015625,
          -51.97273254394531,
          44.91474151611328,
          13.935239791870117,
          82.23770141601562,
          -116.00345611572266,
          49.537540435791016,
          28.10592269897461,
          -127.02815246582031,
          -100.86821746826172,
          41.2279167175293,
          -51.06660079956055,
          -49.709171295166016,
          -60.74181365966797,
          -7.762406826019287,
          -35.3862419128418,
          130.76242065429688,
          -121.18289947509766,
          45.46247482299805,
          -3.097759246826172,
          -106.73957824707031,
          139.96961975097656,
          -21.696142196655273,
          -40.178314208984375,
          3.342890739440918,
          116.70258331298828,
          143.3172149658203,
          129.71543884277344,
          -113.359375,
          -123.95367431640625,
          155.8376007080078,
          -104.5594253540039,
          -39.164283752441406,
          25.38037872314453,
          -61.44442367553711,
          14.744158744812012,
          53.33457946777344,
          36.52669906616211,
          115.67864990234375,
          54.869327545166016,
          -26.049659729003906,
          -39.523860931396484,
          100.66138458251953,
          -78.93235778808594,
          -40.255062103271484,
          -116.7930679321289,
          22.95402717590332,
          45.6917610168457,
          -38.09815216064453,
          104.47461700439453,
          -32.9254035949707,
          -46.23850631713867,
          -12.251477241516113,
          52.023441314697266,
          92.867919921875,
          30.194257736206055,
          -45.3258171081543,
          13.854636192321777,
          90.4615707397461,
          -8.717184066772461,
          -111.55342102050781,
          118.55004119873047,
          1.168944001197815,
          42.25012969970703,
          15.205281257629395,
          78.43840026855469,
          -0.6970587968826294,
          15.537240028381348,
          -82.23280334472656,
          61.5872917175293,
          -71.80682373046875,
          8.413784980773926,
          52.68177795410156,
          -40.471466064453125,
          -18.030336380004883,
          113.31534576416016,
          -86.4253921508789,
          -31.575963973999023,
          -33.932212829589844,
          2.28310227394104,
          -20.184362411499023,
          -59.76176071166992,
          -53.7696647644043,
          60.146202087402344,
          -3.338531017303467,
          -88.5837631225586,
          -15.784383773803711,
          -60.67144012451172,
          -27.140531539916992,
          -31.637680053710938,
          -110.76864624023438,
          -66.82527160644531,
          34.22978973388672,
          -85.3093032836914,
          -86.17151641845703
         ],
         "y": [
          41.431007385253906,
          113.33566284179688,
          -79.64322662353516,
          153.10137939453125,
          57.6901741027832,
          -80.86812591552734,
          -64.00019836425781,
          -11.950339317321777,
          52.89297103881836,
          -42.260841369628906,
          -46.60911560058594,
          -30.491506576538086,
          55.896575927734375,
          59.04949951171875,
          -10.950004577636719,
          -22.582382202148438,
          80.9561996459961,
          -58.5695915222168,
          46.326171875,
          -3.8363094329833984,
          3.1642959117889404,
          -20.208051681518555,
          27.052648544311523,
          -181.42149353027344,
          -54.0596809387207,
          51.43434524536133,
          43.51377868652344,
          -97.42797088623047,
          -80.82962799072266,
          27.43617057800293,
          -37.18404006958008,
          13.779508590698242,
          44.120765686035156,
          73.01591491699219,
          100.28107452392578,
          -53.77885055541992,
          -32.45989227294922,
          79.92547607421875,
          -63.66925048828125,
          19.02996826171875,
          99.4140625,
          -61.19261932373047,
          -64.16768646240234,
          -93.36347961425781,
          1.6863800287246704,
          -112.60810089111328,
          63.71563720703125,
          43.104148864746094,
          -9.811046600341797,
          -11.626546859741211,
          -63.73366165161133,
          51.568729400634766,
          99.34762573242188,
          35.64613723754883,
          -143.5828094482422,
          -48.33565902709961,
          -92.17747497558594,
          42.67024612426758,
          -104.30736541748047,
          -118.27943420410156,
          -34.859928131103516,
          81.76671600341797,
          -70.03628540039062,
          31.912900924682617,
          -43.883235931396484,
          112.20211791992188,
          -99.93717956542969,
          90.9586181640625,
          -104.98286437988281,
          -74.18640899658203,
          -16.376184463500977,
          24.44396209716797,
          -48.87932586669922,
          71.33558654785156,
          64.55477905273438,
          86.02294158935547,
          19.02651023864746,
          21.121322631835938,
          -128.91513061523438,
          -69.68096923828125,
          -31.8041934967041,
          -55.36647033691406,
          -54.842044830322266,
          -86.29232025146484,
          -68.61223602294922,
          29.485448837280273,
          14.700997352600098,
          -79.49436950683594,
          -19.31275749206543,
          -36.412776947021484,
          43.96101379394531,
          -60.280731201171875,
          73.73004150390625,
          -108.3960189819336,
          25.355131149291992,
          92.012451171875,
          -31.97382164001465,
          10.603015899658203,
          75.68340301513672,
          4.271495819091797,
          -43.7812385559082,
          49.14997100830078,
          37.020469665527344,
          -88.00843048095703,
          -20.805295944213867,
          78.82413482666016,
          79.2556381225586,
          -100.84929656982422,
          46.78547668457031,
          -81.3330307006836,
          -110.83956909179688,
          111.87984466552734,
          62.377872467041016,
          86.50846099853516,
          75.00480651855469,
          -10.777543067932129,
          146.60232543945312,
          -14.91873836517334,
          -48.99356460571289,
          75.6371841430664,
          2.48325514793396,
          -141.00259399414062,
          83.58405303955078,
          -4.197105407714844,
          -14.322103500366211,
          75.14981842041016,
          -52.916805267333984,
          -21.86688995361328,
          17.3330078125,
          -23.142366409301758,
          55.73746109008789,
          47.640926361083984,
          47.59293746948242,
          111.08395385742188,
          20.770071029663086,
          97.67708587646484,
          -107.68505096435547,
          145.6334991455078,
          75.2721176147461,
          -52.53499221801758,
          29.990337371826172,
          65.85416412353516,
          148.66470336914062,
          44.17538070678711,
          -70.47966003417969,
          58.90215301513672,
          -138.45362854003906,
          33.13470458984375,
          -153.18792724609375,
          -72.52066802978516,
          93.20197296142578,
          12.56019401550293,
          64.29936981201172,
          77.75541687011719,
          37.138980865478516,
          -48.34416198730469,
          -9.008026123046875,
          -73.27702331542969,
          118.91765594482422,
          117.80671691894531,
          58.45275115966797,
          53.97951126098633,
          30.741283416748047,
          -8.611577987670898,
          18.626611709594727,
          112.14116668701172,
          13.785679817199707,
          -11.580290794372559,
          -44.403926849365234,
          27.896846771240234,
          -120.61256408691406,
          -49.35799789428711,
          11.028168678283691,
          44.203346252441406,
          12.858175277709961,
          -29.242769241333008,
          -134.41610717773438,
          -32.27801513671875,
          108.1015625,
          -39.67704391479492,
          -91.47233581542969,
          53.4256477355957,
          -40.51051712036133,
          74.02058410644531,
          143.685546875,
          76.7691650390625,
          -84.65208435058594,
          87.38192749023438,
          -97.15046691894531,
          82.61615753173828,
          15.029867172241211,
          -12.287503242492676,
          -75.36161041259766
         ],
         "z": [
          -29.944185256958008,
          50.29907989501953,
          -78.18881225585938,
          -33.40645217895508,
          -40.60036087036133,
          -13.875711441040039,
          -13.077108383178711,
          95.51962280273438,
          -154.10755920410156,
          73.3082504272461,
          65.19816589355469,
          6.135251522064209,
          -52.721923828125,
          153.20668029785156,
          -111.28349304199219,
          -61.179786682128906,
          -22.053133010864258,
          3.6025378704071045,
          -42.263648986816406,
          1.3981677293777466,
          30.986574172973633,
          -81.8814697265625,
          145.5851593017578,
          -27.178442001342773,
          -32.80588150024414,
          -15.382254600524902,
          148.6641387939453,
          -46.4345703125,
          61.915191650390625,
          110.81520080566406,
          -44.888187408447266,
          17.515108108520508,
          -23.180095672607422,
          41.06959533691406,
          39.75141525268555,
          100.23957061767578,
          84.74052429199219,
          15.818058967590332,
          -96.98561096191406,
          -65.73375701904297,
          -10.17721176147461,
          -3.7494654655456543,
          48.02241897583008,
          39.67519760131836,
          -67.62230682373047,
          0.46462324261665344,
          11.029881477355957,
          -37.88465881347656,
          62.95277404785156,
          -42.409950256347656,
          55.56393814086914,
          37.584373474121094,
          -48.32628631591797,
          31.27443504333496,
          -75.61527252197266,
          -89.7273941040039,
          -112.01727294921875,
          25.24883270263672,
          -19.62356185913086,
          -59.20417785644531,
          -66.50624084472656,
          121.6402359008789,
          -35.67167663574219,
          -11.211997032165527,
          -55.18815612792969,
          -63.0119514465332,
          -58.29239273071289,
          70.48008728027344,
          41.82554244995117,
          -23.34484100341797,
          75.67753601074219,
          -62.9453010559082,
          -41.62690734863281,
          -43.90400314331055,
          58.085025787353516,
          -87.1286392211914,
          118.50274658203125,
          13.927122116088867,
          -38.44232940673828,
          -65.93659210205078,
          -24.162076950073242,
          -42.392818450927734,
          40.19108581542969,
          -12.739288330078125,
          -33.04036331176758,
          49.73957443237305,
          -35.0089225769043,
          -41.11473083496094,
          -44.12517166137695,
          58.92466354370117,
          -61.938716888427734,
          105.9013900756836,
          16.04987144470215,
          -92.94012451171875,
          155.81304931640625,
          -72.69145202636719,
          75.61002349853516,
          12.048783302307129,
          106.6108169555664,
          45.1757698059082,
          -3.294973611831665,
          132.6068572998047,
          20.70947265625,
          7.306961536407471,
          -29.65570068359375,
          80.19268798828125,
          70.80669403076172,
          33.928138732910156,
          107.40123748779297,
          13.704574584960938,
          -38.184051513671875,
          5.078215599060059,
          0.8367653489112854,
          -14.835424423217773,
          -72.7889633178711,
          -14.427644729614258,
          -0.6216535568237305,
          -94.64652252197266,
          31.285554885864258,
          -28.846847534179688,
          66.35252380371094,
          -62.09089279174805,
          38.0866584777832,
          -38.76352310180664,
          -14.285186767578125,
          21.127119064331055,
          69.07717895507812,
          20.060577392578125,
          -53.19880294799805,
          57.02863311767578,
          -55.308013916015625,
          -95.85104370117188,
          37.053897857666016,
          26.953311920166016,
          -24.052276611328125,
          -92.13575744628906,
          24.45646858215332,
          54.65275573730469,
          27.516704559326172,
          -8.460575103759766,
          -61.053314208984375,
          -95.34584045410156,
          18.67028045654297,
          -5.623539447784424,
          -72.17192077636719,
          44.33540344238281,
          62.24043273925781,
          -10.137616157531738,
          -22.05206871032715,
          78.60543823242188,
          85.88447570800781,
          -103.79743194580078,
          -78.48686218261719,
          122.20169830322266,
          64.3459243774414,
          -100.50188446044922,
          30.258377075195312,
          79.34485626220703,
          27.968482971191406,
          14.487724304199219,
          99.05621337890625,
          -17.864221572875977,
          88.16251373291016,
          -1.8151798248291016,
          20.459341049194336,
          62.85492706298828,
          45.588138580322266,
          92.52825164794922,
          -76.7310562133789,
          166.79568481445312,
          14.70818042755127,
          -59.20105743408203,
          -129.93621826171875,
          40.628753662109375,
          -81.6290283203125,
          44.87370681762695,
          -96.90066528320312,
          -15.344401359558105,
          9.731661796569824,
          -32.846309661865234,
          -67.12298583984375,
          -104.15784454345703,
          41.39341735839844,
          52.45975875854492,
          -8.224611282348633,
          9.53614616394043,
          -92.36178588867188,
          163.33595275878906,
          -52.93231201171875,
          -50.863990783691406,
          119.75993347167969,
          -18.36923599243164,
          20.831453323364258
         ]
        },
        {
         "hovertemplate": "color=1<br>0=%{x}<br>1=%{y}<br>2=%{z}<extra></extra>",
         "legendgroup": "1",
         "marker": {
          "color": "#EF553B",
          "size": 4,
          "symbol": "circle"
         },
         "mode": "markers",
         "name": "1",
         "scene": "scene",
         "showlegend": true,
         "type": "scatter3d",
         "x": [
          129.29562377929688,
          -69.6730728149414,
          -62.30036544799805,
          107.59982299804688,
          94.53347778320312,
          -133.5045623779297,
          72.29444885253906,
          -41.6848030090332,
          92.62739562988281,
          76.82585906982422,
          -57.926124572753906,
          -30.67037582397461,
          -77.10559844970703,
          -18.15772247314453,
          -5.69513463973999,
          -63.44291687011719,
          12.090121269226074,
          -28.347043991088867,
          -74.33319091796875,
          122.96444702148438,
          -41.28241729736328,
          -2.844547748565674
         ],
         "y": [
          -8.690832138061523,
          -38.60239028930664,
          -26.858150482177734,
          -12.734750747680664,
          26.489585876464844,
          -77.55763244628906,
          108.0809326171875,
          127.11489868164062,
          3.4865777492523193,
          61.05295944213867,
          -161.4315185546875,
          -47.09347152709961,
          -151.44308471679688,
          -145.9254913330078,
          -29.46843910217285,
          -46.528411865234375,
          6.726667881011963,
          42.489830017089844,
          28.373584747314453,
          15.11481761932373,
          1.3318958282470703,
          125.3783187866211
         ],
         "z": [
          -87.42037200927734,
          36.96330642700195,
          6.419144630432129,
          -119.98450469970703,
          -123.96393585205078,
          36.88948440551758,
          5.745278358459473,
          -44.197601318359375,
          -99.26046752929688,
          124.77881622314453,
          9.53678035736084,
          116.23119354248047,
          -24.85344696044922,
          9.976916313171387,
          122.89698791503906,
          103.28672790527344,
          -19.61571502685547,
          113.53239440917969,
          87.17945098876953,
          -107.6956787109375,
          -69.19393920898438,
          95.93206787109375
         ]
        }
       ],
       "layout": {
        "height": 800,
        "legend": {
         "title": {
          "text": "color"
         },
         "tracegroupgap": 0
        },
        "margin": {
         "t": 60
        },
        "scene": {
         "aspectmode": "auto",
         "aspectratio": {
          "x": 0.9283585730260557,
          "y": 1.0596635091002442,
          "z": 1.0165207977117643
         },
         "camera": {
          "center": {
           "x": 0,
           "y": 0,
           "z": 0
          },
          "eye": {
           "x": -0.5729086955778906,
           "y": 1.5376824450394846,
           "z": 1.4123768352492307
          },
          "projection": {
           "type": "perspective"
          },
          "up": {
           "x": 0,
           "y": 0,
           "z": 1
          }
         },
         "domain": {
          "x": [
           0,
           1
          ],
          "y": [
           0,
           1
          ]
         },
         "xaxis": {
          "title": {
           "text": "0"
          },
          "type": "linear"
         },
         "yaxis": {
          "title": {
           "text": "1"
          },
          "type": "linear"
         },
         "zaxis": {
          "title": {
           "text": "2"
          },
          "type": "linear"
         }
        },
        "template": {
         "data": {
          "bar": [
           {
            "error_x": {
             "color": "#2a3f5f"
            },
            "error_y": {
             "color": "#2a3f5f"
            },
            "marker": {
             "line": {
              "color": "#E5ECF6",
              "width": 0.5
             },
             "pattern": {
              "fillmode": "overlay",
              "size": 10,
              "solidity": 0.2
             }
            },
            "type": "bar"
           }
          ],
          "barpolar": [
           {
            "marker": {
             "line": {
              "color": "#E5ECF6",
              "width": 0.5
             },
             "pattern": {
              "fillmode": "overlay",
              "size": 10,
              "solidity": 0.2
             }
            },
            "type": "barpolar"
           }
          ],
          "carpet": [
           {
            "aaxis": {
             "endlinecolor": "#2a3f5f",
             "gridcolor": "white",
             "linecolor": "white",
             "minorgridcolor": "white",
             "startlinecolor": "#2a3f5f"
            },
            "baxis": {
             "endlinecolor": "#2a3f5f",
             "gridcolor": "white",
             "linecolor": "white",
             "minorgridcolor": "white",
             "startlinecolor": "#2a3f5f"
            },
            "type": "carpet"
           }
          ],
          "choropleth": [
           {
            "colorbar": {
             "outlinewidth": 0,
             "ticks": ""
            },
            "type": "choropleth"
           }
          ],
          "contour": [
           {
            "colorbar": {
             "outlinewidth": 0,
             "ticks": ""
            },
            "colorscale": [
             [
              0,
              "#0d0887"
             ],
             [
              0.1111111111111111,
              "#46039f"
             ],
             [
              0.2222222222222222,
              "#7201a8"
             ],
             [
              0.3333333333333333,
              "#9c179e"
             ],
             [
              0.4444444444444444,
              "#bd3786"
             ],
             [
              0.5555555555555556,
              "#d8576b"
             ],
             [
              0.6666666666666666,
              "#ed7953"
             ],
             [
              0.7777777777777778,
              "#fb9f3a"
             ],
             [
              0.8888888888888888,
              "#fdca26"
             ],
             [
              1,
              "#f0f921"
             ]
            ],
            "type": "contour"
           }
          ],
          "contourcarpet": [
           {
            "colorbar": {
             "outlinewidth": 0,
             "ticks": ""
            },
            "type": "contourcarpet"
           }
          ],
          "heatmap": [
           {
            "colorbar": {
             "outlinewidth": 0,
             "ticks": ""
            },
            "colorscale": [
             [
              0,
              "#0d0887"
             ],
             [
              0.1111111111111111,
              "#46039f"
             ],
             [
              0.2222222222222222,
              "#7201a8"
             ],
             [
              0.3333333333333333,
              "#9c179e"
             ],
             [
              0.4444444444444444,
              "#bd3786"
             ],
             [
              0.5555555555555556,
              "#d8576b"
             ],
             [
              0.6666666666666666,
              "#ed7953"
             ],
             [
              0.7777777777777778,
              "#fb9f3a"
             ],
             [
              0.8888888888888888,
              "#fdca26"
             ],
             [
              1,
              "#f0f921"
             ]
            ],
            "type": "heatmap"
           }
          ],
          "heatmapgl": [
           {
            "colorbar": {
             "outlinewidth": 0,
             "ticks": ""
            },
            "colorscale": [
             [
              0,
              "#0d0887"
             ],
             [
              0.1111111111111111,
              "#46039f"
             ],
             [
              0.2222222222222222,
              "#7201a8"
             ],
             [
              0.3333333333333333,
              "#9c179e"
             ],
             [
              0.4444444444444444,
              "#bd3786"
             ],
             [
              0.5555555555555556,
              "#d8576b"
             ],
             [
              0.6666666666666666,
              "#ed7953"
             ],
             [
              0.7777777777777778,
              "#fb9f3a"
             ],
             [
              0.8888888888888888,
              "#fdca26"
             ],
             [
              1,
              "#f0f921"
             ]
            ],
            "type": "heatmapgl"
           }
          ],
          "histogram": [
           {
            "marker": {
             "pattern": {
              "fillmode": "overlay",
              "size": 10,
              "solidity": 0.2
             }
            },
            "type": "histogram"
           }
          ],
          "histogram2d": [
           {
            "colorbar": {
             "outlinewidth": 0,
             "ticks": ""
            },
            "colorscale": [
             [
              0,
              "#0d0887"
             ],
             [
              0.1111111111111111,
              "#46039f"
             ],
             [
              0.2222222222222222,
              "#7201a8"
             ],
             [
              0.3333333333333333,
              "#9c179e"
             ],
             [
              0.4444444444444444,
              "#bd3786"
             ],
             [
              0.5555555555555556,
              "#d8576b"
             ],
             [
              0.6666666666666666,
              "#ed7953"
             ],
             [
              0.7777777777777778,
              "#fb9f3a"
             ],
             [
              0.8888888888888888,
              "#fdca26"
             ],
             [
              1,
              "#f0f921"
             ]
            ],
            "type": "histogram2d"
           }
          ],
          "histogram2dcontour": [
           {
            "colorbar": {
             "outlinewidth": 0,
             "ticks": ""
            },
            "colorscale": [
             [
              0,
              "#0d0887"
             ],
             [
              0.1111111111111111,
              "#46039f"
             ],
             [
              0.2222222222222222,
              "#7201a8"
             ],
             [
              0.3333333333333333,
              "#9c179e"
             ],
             [
              0.4444444444444444,
              "#bd3786"
             ],
             [
              0.5555555555555556,
              "#d8576b"
             ],
             [
              0.6666666666666666,
              "#ed7953"
             ],
             [
              0.7777777777777778,
              "#fb9f3a"
             ],
             [
              0.8888888888888888,
              "#fdca26"
             ],
             [
              1,
              "#f0f921"
             ]
            ],
            "type": "histogram2dcontour"
           }
          ],
          "mesh3d": [
           {
            "colorbar": {
             "outlinewidth": 0,
             "ticks": ""
            },
            "type": "mesh3d"
           }
          ],
          "parcoords": [
           {
            "line": {
             "colorbar": {
              "outlinewidth": 0,
              "ticks": ""
             }
            },
            "type": "parcoords"
           }
          ],
          "pie": [
           {
            "automargin": true,
            "type": "pie"
           }
          ],
          "scatter": [
           {
            "fillpattern": {
             "fillmode": "overlay",
             "size": 10,
             "solidity": 0.2
            },
            "type": "scatter"
           }
          ],
          "scatter3d": [
           {
            "line": {
             "colorbar": {
              "outlinewidth": 0,
              "ticks": ""
             }
            },
            "marker": {
             "colorbar": {
              "outlinewidth": 0,
              "ticks": ""
             }
            },
            "type": "scatter3d"
           }
          ],
          "scattercarpet": [
           {
            "marker": {
             "colorbar": {
              "outlinewidth": 0,
              "ticks": ""
             }
            },
            "type": "scattercarpet"
           }
          ],
          "scattergeo": [
           {
            "marker": {
             "colorbar": {
              "outlinewidth": 0,
              "ticks": ""
             }
            },
            "type": "scattergeo"
           }
          ],
          "scattergl": [
           {
            "marker": {
             "colorbar": {
              "outlinewidth": 0,
              "ticks": ""
             }
            },
            "type": "scattergl"
           }
          ],
          "scattermapbox": [
           {
            "marker": {
             "colorbar": {
              "outlinewidth": 0,
              "ticks": ""
             }
            },
            "type": "scattermapbox"
           }
          ],
          "scatterpolar": [
           {
            "marker": {
             "colorbar": {
              "outlinewidth": 0,
              "ticks": ""
             }
            },
            "type": "scatterpolar"
           }
          ],
          "scatterpolargl": [
           {
            "marker": {
             "colorbar": {
              "outlinewidth": 0,
              "ticks": ""
             }
            },
            "type": "scatterpolargl"
           }
          ],
          "scatterternary": [
           {
            "marker": {
             "colorbar": {
              "outlinewidth": 0,
              "ticks": ""
             }
            },
            "type": "scatterternary"
           }
          ],
          "surface": [
           {
            "colorbar": {
             "outlinewidth": 0,
             "ticks": ""
            },
            "colorscale": [
             [
              0,
              "#0d0887"
             ],
             [
              0.1111111111111111,
              "#46039f"
             ],
             [
              0.2222222222222222,
              "#7201a8"
             ],
             [
              0.3333333333333333,
              "#9c179e"
             ],
             [
              0.4444444444444444,
              "#bd3786"
             ],
             [
              0.5555555555555556,
              "#d8576b"
             ],
             [
              0.6666666666666666,
              "#ed7953"
             ],
             [
              0.7777777777777778,
              "#fb9f3a"
             ],
             [
              0.8888888888888888,
              "#fdca26"
             ],
             [
              1,
              "#f0f921"
             ]
            ],
            "type": "surface"
           }
          ],
          "table": [
           {
            "cells": {
             "fill": {
              "color": "#EBF0F8"
             },
             "line": {
              "color": "white"
             }
            },
            "header": {
             "fill": {
              "color": "#C8D4E3"
             },
             "line": {
              "color": "white"
             }
            },
            "type": "table"
           }
          ]
         },
         "layout": {
          "annotationdefaults": {
           "arrowcolor": "#2a3f5f",
           "arrowhead": 0,
           "arrowwidth": 1
          },
          "autotypenumbers": "strict",
          "coloraxis": {
           "colorbar": {
            "outlinewidth": 0,
            "ticks": ""
           }
          },
          "colorscale": {
           "diverging": [
            [
             0,
             "#8e0152"
            ],
            [
             0.1,
             "#c51b7d"
            ],
            [
             0.2,
             "#de77ae"
            ],
            [
             0.3,
             "#f1b6da"
            ],
            [
             0.4,
             "#fde0ef"
            ],
            [
             0.5,
             "#f7f7f7"
            ],
            [
             0.6,
             "#e6f5d0"
            ],
            [
             0.7,
             "#b8e186"
            ],
            [
             0.8,
             "#7fbc41"
            ],
            [
             0.9,
             "#4d9221"
            ],
            [
             1,
             "#276419"
            ]
           ],
           "sequential": [
            [
             0,
             "#0d0887"
            ],
            [
             0.1111111111111111,
             "#46039f"
            ],
            [
             0.2222222222222222,
             "#7201a8"
            ],
            [
             0.3333333333333333,
             "#9c179e"
            ],
            [
             0.4444444444444444,
             "#bd3786"
            ],
            [
             0.5555555555555556,
             "#d8576b"
            ],
            [
             0.6666666666666666,
             "#ed7953"
            ],
            [
             0.7777777777777778,
             "#fb9f3a"
            ],
            [
             0.8888888888888888,
             "#fdca26"
            ],
            [
             1,
             "#f0f921"
            ]
           ],
           "sequentialminus": [
            [
             0,
             "#0d0887"
            ],
            [
             0.1111111111111111,
             "#46039f"
            ],
            [
             0.2222222222222222,
             "#7201a8"
            ],
            [
             0.3333333333333333,
             "#9c179e"
            ],
            [
             0.4444444444444444,
             "#bd3786"
            ],
            [
             0.5555555555555556,
             "#d8576b"
            ],
            [
             0.6666666666666666,
             "#ed7953"
            ],
            [
             0.7777777777777778,
             "#fb9f3a"
            ],
            [
             0.8888888888888888,
             "#fdca26"
            ],
            [
             1,
             "#f0f921"
            ]
           ]
          },
          "colorway": [
           "#636efa",
           "#EF553B",
           "#00cc96",
           "#ab63fa",
           "#FFA15A",
           "#19d3f3",
           "#FF6692",
           "#B6E880",
           "#FF97FF",
           "#FECB52"
          ],
          "font": {
           "color": "#2a3f5f"
          },
          "geo": {
           "bgcolor": "white",
           "lakecolor": "white",
           "landcolor": "#E5ECF6",
           "showlakes": true,
           "showland": true,
           "subunitcolor": "white"
          },
          "hoverlabel": {
           "align": "left"
          },
          "hovermode": "closest",
          "mapbox": {
           "style": "light"
          },
          "paper_bgcolor": "white",
          "plot_bgcolor": "#E5ECF6",
          "polar": {
           "angularaxis": {
            "gridcolor": "white",
            "linecolor": "white",
            "ticks": ""
           },
           "bgcolor": "#E5ECF6",
           "radialaxis": {
            "gridcolor": "white",
            "linecolor": "white",
            "ticks": ""
           }
          },
          "scene": {
           "xaxis": {
            "backgroundcolor": "#E5ECF6",
            "gridcolor": "white",
            "gridwidth": 2,
            "linecolor": "white",
            "showbackground": true,
            "ticks": "",
            "zerolinecolor": "white"
           },
           "yaxis": {
            "backgroundcolor": "#E5ECF6",
            "gridcolor": "white",
            "gridwidth": 2,
            "linecolor": "white",
            "showbackground": true,
            "ticks": "",
            "zerolinecolor": "white"
           },
           "zaxis": {
            "backgroundcolor": "#E5ECF6",
            "gridcolor": "white",
            "gridwidth": 2,
            "linecolor": "white",
            "showbackground": true,
            "ticks": "",
            "zerolinecolor": "white"
           }
          },
          "shapedefaults": {
           "line": {
            "color": "#2a3f5f"
           }
          },
          "ternary": {
           "aaxis": {
            "gridcolor": "white",
            "linecolor": "white",
            "ticks": ""
           },
           "baxis": {
            "gridcolor": "white",
            "linecolor": "white",
            "ticks": ""
           },
           "bgcolor": "#E5ECF6",
           "caxis": {
            "gridcolor": "white",
            "linecolor": "white",
            "ticks": ""
           }
          },
          "title": {
           "x": 0.05
          },
          "xaxis": {
           "automargin": true,
           "gridcolor": "white",
           "linecolor": "white",
           "ticks": "",
           "title": {
            "standoff": 15
           },
           "zerolinecolor": "white",
           "zerolinewidth": 2
          },
          "yaxis": {
           "automargin": true,
           "gridcolor": "white",
           "linecolor": "white",
           "ticks": "",
           "title": {
            "standoff": 15
           },
           "zerolinecolor": "white",
           "zerolinewidth": 2
          }
         }
        },
        "width": 800
       }
      },
      "image/png": "[encoded data removed]",
      "text/html": [
       "<div>                            <div id=\"d781c452-70f6-4e0d-9ebe-20268ebddb5a\" class=\"plotly-graph-div\" style=\"height:800px; width:800px;\"></div>            <script type=\"text/javascript\">                require([\"plotly\"], function(Plotly) {                    window.PLOTLYENV=window.PLOTLYENV || {};                                    if (document.getElementById(\"d781c452-70f6-4e0d-9ebe-20268ebddb5a\")) {                    Plotly.newPlot(                        \"d781c452-70f6-4e0d-9ebe-20268ebddb5a\",                        [{\"hovertemplate\":\"color=0\\u003cbr\\u003e0=%{x}\\u003cbr\\u003e1=%{y}\\u003cbr\\u003e2=%{z}\\u003cextra\\u003e\\u003c\\u002fextra\\u003e\",\"legendgroup\":\"0\",\"marker\":{\"color\":\"#636efa\",\"symbol\":\"circle\",\"size\":4},\"mode\":\"markers\",\"name\":\"0\",\"scene\":\"scene\",\"showlegend\":true,\"x\":[131.72021484375,-23.340110778808594,-85.4142074584961,26.317726135253906,99.2439193725586,-67.86004638671875,-94.52534484863281,-27.92662239074707,29.62264060974121,-33.7779541015625,-83.64683532714844,-95.91827392578125,67.26913452148438,53.34149169921875,-78.47728729248047,64.19287109375,74.12956237792969,-129.1225128173828,-72.86955261230469,111.08244323730469,26.749855041503906,34.9846076965332,73.84219360351562,-55.23019790649414,65.18704986572266,159.5669403076172,-18.765344619750977,37.35221481323242,-79.43951416015625,81.32792663574219,138.92947387695312,139.69171142578125,74.99884796142578,95.79263305664062,-57.18502426147461,52.67193603515625,-0.7569632530212402,-124.10428619384766,-52.745361328125,-8.556528091430664,5.589205265045166,12.107633590698242,-27.829143524169922,59.593807220458984,17.825580596923828,-57.80524444580078,97.18951416015625,20.331941604614258,6.635566711425781,-15.097766876220703,18.374431610107422,5.415961742401123,92.85330963134766,-32.18340301513672,-5.5607404708862305,49.03922653198242,56.98295211791992,146.91957092285156,-93.72723388671875,-76.61264038085938,4.88468074798584,-9.74705696105957,-41.73316955566406,-23.068599700927734,39.769893646240234,36.23581314086914,-21.68550682067871,-46.503543853759766,15.466732025146484,35.099815368652344,-64.06761169433594,68.2735595703125,-94.90608215332031,35.51303482055664,-15.642739295959473,-17.00857162475586,-0.6108306646347046,-74.21023559570312,-4.650124549865723,63.68156433105469,102.5694351196289,11.06734848022461,98.55519104003906,-24.611587524414062,-119.99456787109375,32.47464370727539,84.70134735107422,-82.33145904541016,23.156768798828125,33.919124603271484,37.6882209777832,3.499539613723755,24.67300033569336,-71.61412048339844,40.302452087402344,12.085989952087402,93.42897033691406,-37.82164001464844,-82.4654541015625,-51.97273254394531,44.91474151611328,13.935239791870117,82.23770141601562,-116.00345611572266,49.537540435791016,28.10592269897461,-127.02815246582031,-100.86821746826172,41.2279167175293,-51.06660079956055,-49.709171295166016,-60.74181365966797,-7.762406826019287,-35.3862419128418,130.76242065429688,-121.18289947509766,45.46247482299805,-3.097759246826172,-106.73957824707031,139.96961975097656,-21.696142196655273,-40.178314208984375,3.342890739440918,116.70258331298828,143.3172149658203,129.71543884277344,-113.359375,-123.95367431640625,155.8376007080078,-104.5594253540039,-39.164283752441406,25.38037872314453,-61.44442367553711,14.744158744812012,53.33457946777344,36.52669906616211,115.67864990234375,54.869327545166016,-26.049659729003906,-39.523860931396484,100.66138458251953,-78.93235778808594,-40.255062103271484,-116.7930679321289,22.95402717590332,45.6917610168457,-38.09815216064453,104.47461700439453,-32.9254035949707,-46.23850631713867,-12.251477241516113,52.023441314697266,92.867919921875,30.194257736206055,-45.3258171081543,13.854636192321777,90.4615707397461,-8.717184066772461,-111.55342102050781,118.55004119873047,1.168944001197815,42.25012969970703,15.205281257629395,78.43840026855469,-0.6970587968826294,15.537240028381348,-82.23280334472656,61.5872917175293,-71.80682373046875,8.413784980773926,52.68177795410156,-40.471466064453125,-18.030336380004883,113.31534576416016,-86.4253921508789,-31.575963973999023,-33.932212829589844,2.28310227394104,-20.184362411499023,-59.76176071166992,-53.7696647644043,60.146202087402344,-3.338531017303467,-88.5837631225586,-15.784383773803711,-60.67144012451172,-27.140531539916992,-31.637680053710938,-110.76864624023438,-66.82527160644531,34.22978973388672,-85.3093032836914,-86.17151641845703],\"y\":[41.431007385253906,113.33566284179688,-79.64322662353516,153.10137939453125,57.6901741027832,-80.86812591552734,-64.00019836425781,-11.950339317321777,52.89297103881836,-42.260841369628906,-46.60911560058594,-30.491506576538086,55.896575927734375,59.04949951171875,-10.950004577636719,-22.582382202148438,80.9561996459961,-58.5695915222168,46.326171875,-3.8363094329833984,3.1642959117889404,-20.208051681518555,27.052648544311523,-181.42149353027344,-54.0596809387207,51.43434524536133,43.51377868652344,-97.42797088623047,-80.82962799072266,27.43617057800293,-37.18404006958008,13.779508590698242,44.120765686035156,73.01591491699219,100.28107452392578,-53.77885055541992,-32.45989227294922,79.92547607421875,-63.66925048828125,19.02996826171875,99.4140625,-61.19261932373047,-64.16768646240234,-93.36347961425781,1.6863800287246704,-112.60810089111328,63.71563720703125,43.104148864746094,-9.811046600341797,-11.626546859741211,-63.73366165161133,51.568729400634766,99.34762573242188,35.64613723754883,-143.5828094482422,-48.33565902709961,-92.17747497558594,42.67024612426758,-104.30736541748047,-118.27943420410156,-34.859928131103516,81.76671600341797,-70.03628540039062,31.912900924682617,-43.883235931396484,112.20211791992188,-99.93717956542969,90.9586181640625,-104.98286437988281,-74.18640899658203,-16.376184463500977,24.44396209716797,-48.87932586669922,71.33558654785156,64.55477905273438,86.02294158935547,19.02651023864746,21.121322631835938,-128.91513061523438,-69.68096923828125,-31.8041934967041,-55.36647033691406,-54.842044830322266,-86.29232025146484,-68.61223602294922,29.485448837280273,14.700997352600098,-79.49436950683594,-19.31275749206543,-36.412776947021484,43.96101379394531,-60.280731201171875,73.73004150390625,-108.3960189819336,25.355131149291992,92.012451171875,-31.97382164001465,10.603015899658203,75.68340301513672,4.271495819091797,-43.7812385559082,49.14997100830078,37.020469665527344,-88.00843048095703,-20.805295944213867,78.82413482666016,79.2556381225586,-100.84929656982422,46.78547668457031,-81.3330307006836,-110.83956909179688,111.87984466552734,62.377872467041016,86.50846099853516,75.00480651855469,-10.777543067932129,146.60232543945312,-14.91873836517334,-48.99356460571289,75.6371841430664,2.48325514793396,-141.00259399414062,83.58405303955078,-4.197105407714844,-14.322103500366211,75.14981842041016,-52.916805267333984,-21.86688995361328,17.3330078125,-23.142366409301758,55.73746109008789,47.640926361083984,47.59293746948242,111.08395385742188,20.770071029663086,97.67708587646484,-107.68505096435547,145.6334991455078,75.2721176147461,-52.53499221801758,29.990337371826172,65.85416412353516,148.66470336914062,44.17538070678711,-70.47966003417969,58.90215301513672,-138.45362854003906,33.13470458984375,-153.18792724609375,-72.52066802978516,93.20197296142578,12.56019401550293,64.29936981201172,77.75541687011719,37.138980865478516,-48.34416198730469,-9.008026123046875,-73.27702331542969,118.91765594482422,117.80671691894531,58.45275115966797,53.97951126098633,30.741283416748047,-8.611577987670898,18.626611709594727,112.14116668701172,13.785679817199707,-11.580290794372559,-44.403926849365234,27.896846771240234,-120.61256408691406,-49.35799789428711,11.028168678283691,44.203346252441406,12.858175277709961,-29.242769241333008,-134.41610717773438,-32.27801513671875,108.1015625,-39.67704391479492,-91.47233581542969,53.4256477355957,-40.51051712036133,74.02058410644531,143.685546875,76.7691650390625,-84.65208435058594,87.38192749023438,-97.15046691894531,82.61615753173828,15.029867172241211,-12.287503242492676,-75.36161041259766],\"z\":[-29.944185256958008,50.29907989501953,-78.18881225585938,-33.40645217895508,-40.60036087036133,-13.875711441040039,-13.077108383178711,95.51962280273438,-154.10755920410156,73.3082504272461,65.19816589355469,6.135251522064209,-52.721923828125,153.20668029785156,-111.28349304199219,-61.179786682128906,-22.053133010864258,3.6025378704071045,-42.263648986816406,1.3981677293777466,30.986574172973633,-81.8814697265625,145.5851593017578,-27.178442001342773,-32.80588150024414,-15.382254600524902,148.6641387939453,-46.4345703125,61.915191650390625,110.81520080566406,-44.888187408447266,17.515108108520508,-23.180095672607422,41.06959533691406,39.75141525268555,100.23957061767578,84.74052429199219,15.818058967590332,-96.98561096191406,-65.73375701904297,-10.17721176147461,-3.7494654655456543,48.02241897583008,39.67519760131836,-67.62230682373047,0.46462324261665344,11.029881477355957,-37.88465881347656,62.95277404785156,-42.409950256347656,55.56393814086914,37.584373474121094,-48.32628631591797,31.27443504333496,-75.61527252197266,-89.7273941040039,-112.01727294921875,25.24883270263672,-19.62356185913086,-59.20417785644531,-66.50624084472656,121.6402359008789,-35.67167663574219,-11.211997032165527,-55.18815612792969,-63.0119514465332,-58.29239273071289,70.48008728027344,41.82554244995117,-23.34484100341797,75.67753601074219,-62.9453010559082,-41.62690734863281,-43.90400314331055,58.085025787353516,-87.1286392211914,118.50274658203125,13.927122116088867,-38.44232940673828,-65.93659210205078,-24.162076950073242,-42.392818450927734,40.19108581542969,-12.739288330078125,-33.04036331176758,49.73957443237305,-35.0089225769043,-41.11473083496094,-44.12517166137695,58.92466354370117,-61.938716888427734,105.9013900756836,16.04987144470215,-92.94012451171875,155.81304931640625,-72.69145202636719,75.61002349853516,12.048783302307129,106.6108169555664,45.1757698059082,-3.294973611831665,132.6068572998047,20.70947265625,7.306961536407471,-29.65570068359375,80.19268798828125,70.80669403076172,33.928138732910156,107.40123748779297,13.704574584960938,-38.184051513671875,5.078215599060059,0.8367653489112854,-14.835424423217773,-72.7889633178711,-14.427644729614258,-0.6216535568237305,-94.64652252197266,31.285554885864258,-28.846847534179688,66.35252380371094,-62.09089279174805,38.0866584777832,-38.76352310180664,-14.285186767578125,21.127119064331055,69.07717895507812,20.060577392578125,-53.19880294799805,57.02863311767578,-55.308013916015625,-95.85104370117188,37.053897857666016,26.953311920166016,-24.052276611328125,-92.13575744628906,24.45646858215332,54.65275573730469,27.516704559326172,-8.460575103759766,-61.053314208984375,-95.34584045410156,18.67028045654297,-5.623539447784424,-72.17192077636719,44.33540344238281,62.24043273925781,-10.137616157531738,-22.05206871032715,78.60543823242188,85.88447570800781,-103.79743194580078,-78.48686218261719,122.20169830322266,64.3459243774414,-100.50188446044922,30.258377075195312,79.34485626220703,27.968482971191406,14.487724304199219,99.05621337890625,-17.864221572875977,88.16251373291016,-1.8151798248291016,20.459341049194336,62.85492706298828,45.588138580322266,92.52825164794922,-76.7310562133789,166.79568481445312,14.70818042755127,-59.20105743408203,-129.93621826171875,40.628753662109375,-81.6290283203125,44.87370681762695,-96.90066528320312,-15.344401359558105,9.731661796569824,-32.846309661865234,-67.12298583984375,-104.15784454345703,41.39341735839844,52.45975875854492,-8.224611282348633,9.53614616394043,-92.36178588867188,163.33595275878906,-52.93231201171875,-50.863990783691406,119.75993347167969,-18.36923599243164,20.831453323364258],\"type\":\"scatter3d\"},{\"hovertemplate\":\"color=1\\u003cbr\\u003e0=%{x}\\u003cbr\\u003e1=%{y}\\u003cbr\\u003e2=%{z}\\u003cextra\\u003e\\u003c\\u002fextra\\u003e\",\"legendgroup\":\"1\",\"marker\":{\"color\":\"#EF553B\",\"symbol\":\"circle\",\"size\":4},\"mode\":\"markers\",\"name\":\"1\",\"scene\":\"scene\",\"showlegend\":true,\"x\":[129.29562377929688,-69.6730728149414,-62.30036544799805,107.59982299804688,94.53347778320312,-133.5045623779297,72.29444885253906,-41.6848030090332,92.62739562988281,76.82585906982422,-57.926124572753906,-30.67037582397461,-77.10559844970703,-18.15772247314453,-5.69513463973999,-63.44291687011719,12.090121269226074,-28.347043991088867,-74.33319091796875,122.96444702148438,-41.28241729736328,-2.844547748565674],\"y\":[-8.690832138061523,-38.60239028930664,-26.858150482177734,-12.734750747680664,26.489585876464844,-77.55763244628906,108.0809326171875,127.11489868164062,3.4865777492523193,61.05295944213867,-161.4315185546875,-47.09347152709961,-151.44308471679688,-145.9254913330078,-29.46843910217285,-46.528411865234375,6.726667881011963,42.489830017089844,28.373584747314453,15.11481761932373,1.3318958282470703,125.3783187866211],\"z\":[-87.42037200927734,36.96330642700195,6.419144630432129,-119.98450469970703,-123.96393585205078,36.88948440551758,5.745278358459473,-44.197601318359375,-99.26046752929688,124.77881622314453,9.53678035736084,116.23119354248047,-24.85344696044922,9.976916313171387,122.89698791503906,103.28672790527344,-19.61571502685547,113.53239440917969,87.17945098876953,-107.6956787109375,-69.19393920898438,95.93206787109375],\"type\":\"scatter3d\"}],                        {\"template\":{\"data\":{\"histogram2dcontour\":[{\"type\":\"histogram2dcontour\",\"colorbar\":{\"outlinewidth\":0,\"ticks\":\"\"},\"colorscale\":[[0.0,\"#0d0887\"],[0.1111111111111111,\"#46039f\"],[0.2222222222222222,\"#7201a8\"],[0.3333333333333333,\"#9c179e\"],[0.4444444444444444,\"#bd3786\"],[0.5555555555555556,\"#d8576b\"],[0.6666666666666666,\"#ed7953\"],[0.7777777777777778,\"#fb9f3a\"],[0.8888888888888888,\"#fdca26\"],[1.0,\"#f0f921\"]]}],\"choropleth\":[{\"type\":\"choropleth\",\"colorbar\":{\"outlinewidth\":0,\"ticks\":\"\"}}],\"histogram2d\":[{\"type\":\"histogram2d\",\"colorbar\":{\"outlinewidth\":0,\"ticks\":\"\"},\"colorscale\":[[0.0,\"#0d0887\"],[0.1111111111111111,\"#46039f\"],[0.2222222222222222,\"#7201a8\"],[0.3333333333333333,\"#9c179e\"],[0.4444444444444444,\"#bd3786\"],[0.5555555555555556,\"#d8576b\"],[0.6666666666666666,\"#ed7953\"],[0.7777777777777778,\"#fb9f3a\"],[0.8888888888888888,\"#fdca26\"],[1.0,\"#f0f921\"]]}],\"heatmap\":[{\"type\":\"heatmap\",\"colorbar\":{\"outlinewidth\":0,\"ticks\":\"\"},\"colorscale\":[[0.0,\"#0d0887\"],[0.1111111111111111,\"#46039f\"],[0.2222222222222222,\"#7201a8\"],[0.3333333333333333,\"#9c179e\"],[0.4444444444444444,\"#bd3786\"],[0.5555555555555556,\"#d8576b\"],[0.6666666666666666,\"#ed7953\"],[0.7777777777777778,\"#fb9f3a\"],[0.8888888888888888,\"#fdca26\"],[1.0,\"#f0f921\"]]}],\"heatmapgl\":[{\"type\":\"heatmapgl\",\"colorbar\":{\"outlinewidth\":0,\"ticks\":\"\"},\"colorscale\":[[0.0,\"#0d0887\"],[0.1111111111111111,\"#46039f\"],[0.2222222222222222,\"#7201a8\"],[0.3333333333333333,\"#9c179e\"],[0.4444444444444444,\"#bd3786\"],[0.5555555555555556,\"#d8576b\"],[0.6666666666666666,\"#ed7953\"],[0.7777777777777778,\"#fb9f3a\"],[0.8888888888888888,\"#fdca26\"],[1.0,\"#f0f921\"]]}],\"contourcarpet\":[{\"type\":\"contourcarpet\",\"colorbar\":{\"outlinewidth\":0,\"ticks\":\"\"}}],\"contour\":[{\"type\":\"contour\",\"colorbar\":{\"outlinewidth\":0,\"ticks\":\"\"},\"colorscale\":[[0.0,\"#0d0887\"],[0.1111111111111111,\"#46039f\"],[0.2222222222222222,\"#7201a8\"],[0.3333333333333333,\"#9c179e\"],[0.4444444444444444,\"#bd3786\"],[0.5555555555555556,\"#d8576b\"],[0.6666666666666666,\"#ed7953\"],[0.7777777777777778,\"#fb9f3a\"],[0.8888888888888888,\"#fdca26\"],[1.0,\"#f0f921\"]]}],\"surface\":[{\"type\":\"surface\",\"colorbar\":{\"outlinewidth\":0,\"ticks\":\"\"},\"colorscale\":[[0.0,\"#0d0887\"],[0.1111111111111111,\"#46039f\"],[0.2222222222222222,\"#7201a8\"],[0.3333333333333333,\"#9c179e\"],[0.4444444444444444,\"#bd3786\"],[0.5555555555555556,\"#d8576b\"],[0.6666666666666666,\"#ed7953\"],[0.7777777777777778,\"#fb9f3a\"],[0.8888888888888888,\"#fdca26\"],[1.0,\"#f0f921\"]]}],\"mesh3d\":[{\"type\":\"mesh3d\",\"colorbar\":{\"outlinewidth\":0,\"ticks\":\"\"}}],\"scatter\":[{\"fillpattern\":{\"fillmode\":\"overlay\",\"size\":10,\"solidity\":0.2},\"type\":\"scatter\"}],\"parcoords\":[{\"type\":\"parcoords\",\"line\":{\"colorbar\":{\"outlinewidth\":0,\"ticks\":\"\"}}}],\"scatterpolargl\":[{\"type\":\"scatterpolargl\",\"marker\":{\"colorbar\":{\"outlinewidth\":0,\"ticks\":\"\"}}}],\"bar\":[{\"error_x\":{\"color\":\"#2a3f5f\"},\"error_y\":{\"color\":\"#2a3f5f\"},\"marker\":{\"line\":{\"color\":\"#E5ECF6\",\"width\":0.5},\"pattern\":{\"fillmode\":\"overlay\",\"size\":10,\"solidity\":0.2}},\"type\":\"bar\"}],\"scattergeo\":[{\"type\":\"scattergeo\",\"marker\":{\"colorbar\":{\"outlinewidth\":0,\"ticks\":\"\"}}}],\"scatterpolar\":[{\"type\":\"scatterpolar\",\"marker\":{\"colorbar\":{\"outlinewidth\":0,\"ticks\":\"\"}}}],\"histogram\":[{\"marker\":{\"pattern\":{\"fillmode\":\"overlay\",\"size\":10,\"solidity\":0.2}},\"type\":\"histogram\"}],\"scattergl\":[{\"type\":\"scattergl\",\"marker\":{\"colorbar\":{\"outlinewidth\":0,\"ticks\":\"\"}}}],\"scatter3d\":[{\"type\":\"scatter3d\",\"line\":{\"colorbar\":{\"outlinewidth\":0,\"ticks\":\"\"}},\"marker\":{\"colorbar\":{\"outlinewidth\":0,\"ticks\":\"\"}}}],\"scattermapbox\":[{\"type\":\"scattermapbox\",\"marker\":{\"colorbar\":{\"outlinewidth\":0,\"ticks\":\"\"}}}],\"scatterternary\":[{\"type\":\"scatterternary\",\"marker\":{\"colorbar\":{\"outlinewidth\":0,\"ticks\":\"\"}}}],\"scattercarpet\":[{\"type\":\"scattercarpet\",\"marker\":{\"colorbar\":{\"outlinewidth\":0,\"ticks\":\"\"}}}],\"carpet\":[{\"aaxis\":{\"endlinecolor\":\"#2a3f5f\",\"gridcolor\":\"white\",\"linecolor\":\"white\",\"minorgridcolor\":\"white\",\"startlinecolor\":\"#2a3f5f\"},\"baxis\":{\"endlinecolor\":\"#2a3f5f\",\"gridcolor\":\"white\",\"linecolor\":\"white\",\"minorgridcolor\":\"white\",\"startlinecolor\":\"#2a3f5f\"},\"type\":\"carpet\"}],\"table\":[{\"cells\":{\"fill\":{\"color\":\"#EBF0F8\"},\"line\":{\"color\":\"white\"}},\"header\":{\"fill\":{\"color\":\"#C8D4E3\"},\"line\":{\"color\":\"white\"}},\"type\":\"table\"}],\"barpolar\":[{\"marker\":{\"line\":{\"color\":\"#E5ECF6\",\"width\":0.5},\"pattern\":{\"fillmode\":\"overlay\",\"size\":10,\"solidity\":0.2}},\"type\":\"barpolar\"}],\"pie\":[{\"automargin\":true,\"type\":\"pie\"}]},\"layout\":{\"autotypenumbers\":\"strict\",\"colorway\":[\"#636efa\",\"#EF553B\",\"#00cc96\",\"#ab63fa\",\"#FFA15A\",\"#19d3f3\",\"#FF6692\",\"#B6E880\",\"#FF97FF\",\"#FECB52\"],\"font\":{\"color\":\"#2a3f5f\"},\"hovermode\":\"closest\",\"hoverlabel\":{\"align\":\"left\"},\"paper_bgcolor\":\"white\",\"plot_bgcolor\":\"#E5ECF6\",\"polar\":{\"bgcolor\":\"#E5ECF6\",\"angularaxis\":{\"gridcolor\":\"white\",\"linecolor\":\"white\",\"ticks\":\"\"},\"radialaxis\":{\"gridcolor\":\"white\",\"linecolor\":\"white\",\"ticks\":\"\"}},\"ternary\":{\"bgcolor\":\"#E5ECF6\",\"aaxis\":{\"gridcolor\":\"white\",\"linecolor\":\"white\",\"ticks\":\"\"},\"baxis\":{\"gridcolor\":\"white\",\"linecolor\":\"white\",\"ticks\":\"\"},\"caxis\":{\"gridcolor\":\"white\",\"linecolor\":\"white\",\"ticks\":\"\"}},\"coloraxis\":{\"colorbar\":{\"outlinewidth\":0,\"ticks\":\"\"}},\"colorscale\":{\"sequential\":[[0.0,\"#0d0887\"],[0.1111111111111111,\"#46039f\"],[0.2222222222222222,\"#7201a8\"],[0.3333333333333333,\"#9c179e\"],[0.4444444444444444,\"#bd3786\"],[0.5555555555555556,\"#d8576b\"],[0.6666666666666666,\"#ed7953\"],[0.7777777777777778,\"#fb9f3a\"],[0.8888888888888888,\"#fdca26\"],[1.0,\"#f0f921\"]],\"sequentialminus\":[[0.0,\"#0d0887\"],[0.1111111111111111,\"#46039f\"],[0.2222222222222222,\"#7201a8\"],[0.3333333333333333,\"#9c179e\"],[0.4444444444444444,\"#bd3786\"],[0.5555555555555556,\"#d8576b\"],[0.6666666666666666,\"#ed7953\"],[0.7777777777777778,\"#fb9f3a\"],[0.8888888888888888,\"#fdca26\"],[1.0,\"#f0f921\"]],\"diverging\":[[0,\"#8e0152\"],[0.1,\"#c51b7d\"],[0.2,\"#de77ae\"],[0.3,\"#f1b6da\"],[0.4,\"#fde0ef\"],[0.5,\"#f7f7f7\"],[0.6,\"#e6f5d0\"],[0.7,\"#b8e186\"],[0.8,\"#7fbc41\"],[0.9,\"#4d9221\"],[1,\"#276419\"]]},\"xaxis\":{\"gridcolor\":\"white\",\"linecolor\":\"white\",\"ticks\":\"\",\"title\":{\"standoff\":15},\"zerolinecolor\":\"white\",\"automargin\":true,\"zerolinewidth\":2},\"yaxis\":{\"gridcolor\":\"white\",\"linecolor\":\"white\",\"ticks\":\"\",\"title\":{\"standoff\":15},\"zerolinecolor\":\"white\",\"automargin\":true,\"zerolinewidth\":2},\"scene\":{\"xaxis\":{\"backgroundcolor\":\"#E5ECF6\",\"gridcolor\":\"white\",\"linecolor\":\"white\",\"showbackground\":true,\"ticks\":\"\",\"zerolinecolor\":\"white\",\"gridwidth\":2},\"yaxis\":{\"backgroundcolor\":\"#E5ECF6\",\"gridcolor\":\"white\",\"linecolor\":\"white\",\"showbackground\":true,\"ticks\":\"\",\"zerolinecolor\":\"white\",\"gridwidth\":2},\"zaxis\":{\"backgroundcolor\":\"#E5ECF6\",\"gridcolor\":\"white\",\"linecolor\":\"white\",\"showbackground\":true,\"ticks\":\"\",\"zerolinecolor\":\"white\",\"gridwidth\":2}},\"shapedefaults\":{\"line\":{\"color\":\"#2a3f5f\"}},\"annotationdefaults\":{\"arrowcolor\":\"#2a3f5f\",\"arrowhead\":0,\"arrowwidth\":1},\"geo\":{\"bgcolor\":\"white\",\"landcolor\":\"#E5ECF6\",\"subunitcolor\":\"white\",\"showland\":true,\"showlakes\":true,\"lakecolor\":\"white\"},\"title\":{\"x\":0.05},\"mapbox\":{\"style\":\"light\"}}},\"scene\":{\"domain\":{\"x\":[0.0,1.0],\"y\":[0.0,1.0]},\"xaxis\":{\"title\":{\"text\":\"0\"}},\"yaxis\":{\"title\":{\"text\":\"1\"}},\"zaxis\":{\"title\":{\"text\":\"2\"}}},\"legend\":{\"title\":{\"text\":\"color\"},\"tracegroupgap\":0},\"margin\":{\"t\":60},\"height\":800,\"width\":800},                        {\"responsive\": true}                    ).then(function(){\n",
       "                            \n",
       "var gd = document.getElementById('d781c452-70f6-4e0d-9ebe-20268ebddb5a');\n",
       "var x = new MutationObserver(function (mutations, observer) {{\n",
       "        var display = window.getComputedStyle(gd).display;\n",
       "        if (!display || display === 'none') {{\n",
       "            console.log([gd, 'removed!']);\n",
       "            Plotly.purge(gd);\n",
       "            observer.disconnect();\n",
       "        }}\n",
       "}});\n",
       "\n",
       "// Listen for the removal of the full notebook cells\n",
       "var notebookContainer = gd.closest('#notebook-container');\n",
       "if (notebookContainer) {{\n",
       "    x.observe(notebookContainer, {childList: true});\n",
       "}}\n",
       "\n",
       "// Listen for the clearing of the current output cell\n",
       "var outputEl = gd.closest('.output');\n",
       "if (outputEl) {{\n",
       "    x.observe(outputEl, {childList: true});\n",
       "}}\n",
       "\n",
       "                        })                };                });            </script>        </div>"
      ]
     },
     "metadata": {},
     "output_type": "display_data"
    }
   ],
   "source": [
    "df = pd.read_csv('data/all/genus_relative_abundance_otu_drop.csv')\n",
    "df.patientID = df.patientID.astype('category').cat.codes\n",
    "# metadata_list = ['sampleID', 'EverCovid', 'CovidStatus', 'CovidLabel', 'Timepoint', 'patientID','Age', 'HIVstatus']\n",
    "metadata_list = ['sampleID', 'EverCovid', 'CovidLabel', 'Timepoint', 'patientID']\n",
    "\n",
    "# all the data\n",
    "df_otu = df.drop(columns=metadata_list)\n",
    "X = df_otu.to_numpy()\n",
    "\n",
    "# first reduce dimensionality before feeding to t-sne\n",
    "pca = PCA(n_components=50)\n",
    "X_pca = pca.fit_transform(X) \n",
    "\n",
    "# reduce dimensionality with t-sne\n",
    "tsne = TSNE(n_components=3, verbose=1, perplexity=30, n_iter=1000, learning_rate=200)\n",
    "projections = tsne.fit_transform(X_pca)\n",
    "\n",
    "# visualize\n",
    "y = df['CovidStatus'].astype(str)\n",
    "# y = df_CN_CP['Age']\n",
    "# y = df_CN_CP['HIVstatus'].astype(str)\n",
    "# y = df_CN_CP['CovidLabel'].astype(str)\n",
    "fig = px.scatter_3d(projections, x=0, y=1, z=2, color=y, width=800, height=800)\n",
    "fig.update_traces(marker_size=4)\n",
    "fig.show()"
   ]
  },
  {
   "cell_type": "code",
   "execution_count": null,
   "id": "41b8a5d6-04d3-4400-8f16-af41189d8c2a",
   "metadata": {},
   "outputs": [],
   "source": []
  }
 ],
 "metadata": {
  "kernelspec": {
   "display_name": "Python 3 (ipykernel)",
   "language": "python",
   "name": "python3"
  },
  "language_info": {
   "codemirror_mode": {
    "name": "ipython",
    "version": 3
   },
   "file_extension": ".py",
   "mimetype": "text/x-python",
   "name": "python",
   "nbconvert_exporter": "python",
   "pygments_lexer": "ipython3",
   "version": "3.10.11"
  }
 },
 "nbformat": 4,
 "nbformat_minor": 5
}
