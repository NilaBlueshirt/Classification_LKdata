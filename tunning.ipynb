{
 "cells": [
  {
   "cell_type": "code",
   "execution_count": 1,
   "id": "1c9e2afa-bdb9-4978-923c-286c6abce8cb",
   "metadata": {
    "tags": []
   },
   "outputs": [],
   "source": [
    "import os\n",
    "import random\n",
    "import numpy as np\n",
    "import pandas as pd\n",
    "import matplotlib.pyplot as plt\n",
    "import seaborn as sns\n",
    "from imblearn.over_sampling import SMOTE, ADASYN\n",
    "from sklearn.preprocessing import StandardScaler\n",
    "from sklearn.model_selection import train_test_split, GridSearchCV, StratifiedGroupKFold\n",
    "from sklearn.metrics import accuracy_score\n",
    "from sklearn.tree import DecisionTreeClassifier\n",
    "from sklearn.ensemble import RandomForestClassifier\n",
    "from sklearn.linear_model import LogisticRegression\n",
    "from sklearn.svm import SVC\n",
    "from sklearn.ensemble import AdaBoostClassifier\n",
    "from sklearn.neighbors import KNeighborsClassifier\n",
    "import xgboost as xgb\n",
    "import lightgbm as lgbm\n",
    "import catboost as cb\n",
    "\n",
    "# conda install -c conda-forge lightgbm\n",
    "# conda install -c conda-forge catboost\n",
    "\n",
    "# https://www.kaggle.com/code/ihelon/titanic-hyperparameter-tuning-with-gridsearchcv/notebook"
   ]
  },
  {
   "cell_type": "code",
   "execution_count": 2,
   "id": "9a146751-45cb-4fe3-8965-99e6ca940480",
   "metadata": {
    "tags": []
   },
   "outputs": [],
   "source": [
    "def set_seed(seed_value):\n",
    "    random.seed(seed_value)\n",
    "    np.random.seed(seed_value)\n",
    "    os.environ[\"PYTHONHASHSEED\"] = str(seed_value)\n",
    "    \n",
    "SEED = 42\n",
    "set_seed(SEED)"
   ]
  },
  {
   "cell_type": "code",
   "execution_count": 6,
   "id": "c4e42b5a-7e3f-4ccf-b223-d9653d17c7dc",
   "metadata": {
    "tags": []
   },
   "outputs": [
    {
     "name": "stderr",
     "output_type": "stream",
     "text": [
      "/var/folders/vh/cyypqg455_140k6tlx631_th0000gq/T/ipykernel_24106/1149567382.py:8: SettingWithCopyWarning: \n",
      "A value is trying to be set on a copy of a slice from a DataFrame.\n",
      "Try using .loc[row_indexer,col_indexer] = value instead\n",
      "\n",
      "See the caveats in the documentation: https://pandas.pydata.org/pandas-docs/stable/user_guide/indexing.html#returning-a-view-versus-a-copy\n",
      "  df1['CovidLabel'] = 0\n",
      "/var/folders/vh/cyypqg455_140k6tlx631_th0000gq/T/ipykernel_24106/1149567382.py:9: SettingWithCopyWarning: \n",
      "A value is trying to be set on a copy of a slice from a DataFrame.\n",
      "Try using .loc[row_indexer,col_indexer] = value instead\n",
      "\n",
      "See the caveats in the documentation: https://pandas.pydata.org/pandas-docs/stable/user_guide/indexing.html#returning-a-view-versus-a-copy\n",
      "  df2['CovidLabel'] = 1\n"
     ]
    }
   ],
   "source": [
    "df = pd.read_csv('data/baby/order_relative_abundance_otu_drop_baby.csv')\n",
    "df.patientID = df.patientID.astype('category').cat.codes\n",
    "metadata_list = ['sampleID', 'EverCovid', 'CovidStatus', 'CovidLabel', 'Timepoint']  # keep patientID for later use\n",
    "df0 = df.loc[df['Timepoint'].isin([1, 2, 3])]  # all three time points T1,2,3\n",
    "df1 = df0.loc[df0['CovidLabel'] == 1]  # case-negatives (CN) only exist in T1&2\n",
    "df2 = df0.loc[df0['CovidLabel'] == 2]  # case-positives (CP) only exist in T3\n",
    "# reformat y values from [1, 2] to [0, 1], to work with XGB\n",
    "df1['CovidLabel'] = 0\n",
    "df2['CovidLabel'] = 1\n",
    "df_CN_CP = pd.concat([df1, df2], ignore_index=True)  # reset the index after concat\n",
    "df_CN_CP_otu = df_CN_CP.drop(columns=metadata_list)\n",
    "X = df_CN_CP_otu.to_numpy()\n",
    "y = df_CN_CP['CovidLabel'].to_numpy()\n",
    "groups = df_CN_CP.patientID.to_list()  # for outer_cv use\n",
    "\n",
    "# log transform\n",
    "addons = np.min(X[:, :-3][np.nonzero(X[:, :-3])]) / 2  # find the min non-zero value, based on RF - Gut bowel disease paper\n",
    "X[:, :-3] += addons  # only add values & log transform on OTU data\n",
    "X[:, :-3] = np.log2(X[:, :-3])  # based on \"A Fair Comparison\" paper, they used log2\n",
    "\n",
    "groups = [int(x) for x in groups]  # groups must be integers\n",
    "cv = StratifiedGroupKFold(n_splits=2, random_state=SEED, shuffle=True)\n",
    "# pca = PCA(n_components=5)\n",
    "cross_valid_scores = {}\n",
    "categorical_columns = ['HIVstatus']"
   ]
  },
  {
   "cell_type": "code",
   "execution_count": null,
   "id": "0294ef41-b355-496c-b82f-016706c23bb8",
   "metadata": {
    "tags": []
   },
   "outputs": [],
   "source": [
    "for fold, (train_index, test_index) in enumerate(cv.split(X, y, groups)):\n",
    "    # set up train set from each fold\n",
    "    X_train = X[train_index]\n",
    "    y_train = y[train_index]\n",
    "    X_test = X[test_index]\n",
    "    y_test = y[test_index]\n",
    "    X_train, y_train = ADASYN(random_state=SEED, n_neighbors=2).fit_resample(X_train, y_train)"
   ]
  },
  {
   "cell_type": "code",
   "execution_count": 5,
   "id": "86050a95-eb24-40ae-89fb-9b68eb20d216",
   "metadata": {
    "tags": []
   },
   "outputs": [
    {
     "ename": "IndentationError",
     "evalue": "unexpected indent (1848366407.py, line 2)",
     "output_type": "error",
     "traceback": [
      "\u001b[0;36m  Cell \u001b[0;32mIn[5], line 2\u001b[0;36m\u001b[0m\n\u001b[0;31m    parameters = {\"max_depth\": [3, 5, 7, 9, 11, 13]}\u001b[0m\n\u001b[0m    ^\u001b[0m\n\u001b[0;31mIndentationError\u001b[0m\u001b[0;31m:\u001b[0m unexpected indent\n"
     ]
    }
   ],
   "source": [
    "# Decision Tree\n",
    "    parameters = {\"max_depth\": [3, 5, 7, 9, 11, 13]}\n",
    "    model_desicion_tree = DecisionTreeClassifier(random_state=SEED, class_weight='balanced')\n",
    "    model_desicion_tree = GridSearchCV(\n",
    "        model_desicion_tree, \n",
    "        parameters, \n",
    "        cv=cv,\n",
    "        scoring='roc_auc',\n",
    "        n_jobs=-1)\n",
    "    model_desicion_tree.fit(X_train[:, :-1], y_train)\n",
    "    print('-----')\n",
    "    print(f'Best parameters {model_desicion_tree.best_params_}')\n",
    "    print(\n",
    "        f'Mean cross-validated score of the best_estimator: ' + \\\n",
    "        f'{model_desicion_tree.best_score_:.3f}')\n",
    "    cross_valid_scores['desicion_tree'] = model_desicion_tree.best_score_\n",
    "    print('-----')"
   ]
  },
  {
   "cell_type": "code",
   "execution_count": null,
   "id": "6da20e59-4ce0-4d14-82e9-ac70ee546cab",
   "metadata": {},
   "outputs": [],
   "source": [
    "# Random Forest\n",
    "    parameters = {\n",
    "        'n_estimators': [3, 5, 10, 50],\n",
    "        'max_features': [0.05, 0.1, 0.5, 0.8],\n",
    "        'max_depth': [3, 4, 5],\n",
    "        'max_samples': [0.3, 0.5, 0.8]}\n",
    "    model_random_forest = RandomForestClassifier(random_state=SEED, class_weight='balanced')\n",
    "    model_random_forest = GridSearchCV(\n",
    "        model_random_forest, \n",
    "        parameters, \n",
    "        cv=cv,\n",
    "        scoring='roc_auc',\n",
    "        n_jobs=-1)\n",
    "    model_random_forest.fit(X_train[:, :-1], y_train)\n",
    "    print('-----')\n",
    "    print(f'Best parameters {model_random_forest.best_params_}')\n",
    "    print(\n",
    "        f'Mean cross-validated score of the best_estimator: '+ \\\n",
    "        f'{model_random_forest.best_score_:.3f}')\n",
    "    cross_valid_scores['random_forest'] = model_random_forest.best_score_\n",
    "    print('-----')"
   ]
  },
  {
   "cell_type": "code",
   "execution_count": null,
   "id": "e84e98d7-d119-4ab6-932a-6524446c55d5",
   "metadata": {},
   "outputs": [],
   "source": [
    "# AdaBoost\n",
    "    parameters = {\n",
    "        \"n_estimators\": [5, 10, 15, 20, 25, 50, 75, 100], \n",
    "        \"learning_rate\": [0.001, 0.01, 0.1, 1.]}\n",
    "    model_adaboost = AdaBoostClassifier(random_state=SEED)\n",
    "    model_adaboost = GridSearchCV(\n",
    "        model_adaboost, \n",
    "        parameters, \n",
    "        cv=cv,\n",
    "        scoring='roc_auc',\n",
    "        n_jobs=-1)\n",
    "    model_adaboost.fit(X_train[:, :-1], y_train)\n",
    "    print('-----')\n",
    "    print(f'Best parameters {model_adaboost.best_params_}')\n",
    "    print(\n",
    "        f'Mean cross-validated score of the best_estimator: '+ \\\n",
    "        f'{model_adaboost.best_score_:.3f}')\n",
    "    cross_valid_scores['ada_boost'] = model_adaboost.best_score_\n",
    "    print('-----')"
   ]
  },
  {
   "cell_type": "code",
   "execution_count": null,
   "id": "a58eceb2-0edc-4e48-85bc-2a2808b8b3f2",
   "metadata": {},
   "outputs": [],
   "source": [
    "# XGBoost\n",
    "    parameters = {\n",
    "        'max_depth': [3, 5, 7, 9], \n",
    "        'n_estimators': [5, 10, 15, 20, 25, 50, 100],\n",
    "        'learning_rate': [0.01, 0.05, 0.1]}\n",
    "    model_xgb = xgb.XGBClassifier(random_state=SEED)\n",
    "    model_xgb = GridSearchCV(\n",
    "        model_xgb, \n",
    "        parameters, \n",
    "        cv=5,\n",
    "        scoring='roc_auc',\n",
    "        n_jobs=-1)\n",
    "    model_xgb.fit(X_train[:, :-1], y_train)\n",
    "    print('-----')\n",
    "    print(f'Best parameters {model_xgb.best_params_}')\n",
    "    print(\n",
    "        f'Mean cross-validated score of the best_estimator: ' + \n",
    "        f'{model_xgb.best_score_:.3f}')\n",
    "    cross_valid_scores['xgboost'] = model_xgb.best_score_\n",
    "    print('-----')"
   ]
  },
  {
   "cell_type": "code",
   "execution_count": null,
   "id": "0767aeed-9758-4747-a0f2-4ff50c4e89bd",
   "metadata": {},
   "outputs": [],
   "source": [
    "# LightGBM\n",
    "    parameters = {\n",
    "        'n_estimators': [5, 10, 15, 20, 25, 50, 100],\n",
    "        'learning_rate': [0.01, 0.05, 0.1],\n",
    "        'num_leaves': [7, 15, 31]}\n",
    "    model_lgbm = lgbm.LGBMClassifier(random_state=SEED, class_weight='balanced')\n",
    "    model_lgbm = GridSearchCV(\n",
    "        model_lgbm, \n",
    "        parameters, \n",
    "        cv=cv,\n",
    "        scoring='roc_auc',\n",
    "        n_jobs=-1)\n",
    "    model_lgbm.fit(X_train[:, :-1], y_train, categorical_feature=categorical_columns)\n",
    "    print('-----')\n",
    "    print(f'Best parameters {model_lgbm.best_params_}')\n",
    "    print(\n",
    "        f'Mean cross-validated accuracy score of the best_estimator: ' + \n",
    "        f'{model_lgbm.best_score_:.3f}')\n",
    "    cross_valid_scores['lightgbm'] = model_lgbm.best_score_\n",
    "    print('-----')"
   ]
  },
  {
   "cell_type": "code",
   "execution_count": null,
   "id": "14c60c09-e7ed-4397-ad33-2920a99076da",
   "metadata": {
    "tags": []
   },
   "outputs": [],
   "source": [
    "# CatBoost\n",
    "    parameters = {\n",
    "        'iterations': [5, 10, 15, 20, 25, 50, 100],\n",
    "        'learning_rate': [0.01, 0.05, 0.1],\n",
    "        'depth': [3, 5, 7, 9, 11, 13]}\n",
    "    model_catboost = cb.CatBoostClassifier(verbose=False)\n",
    "    model_catboost = GridSearchCV(\n",
    "        model_catboost, \n",
    "        parameters, \n",
    "        cv=cv,\n",
    "        scoring='roc_auc',\n",
    "        n_jobs=-1)\n",
    "    model_catboost.fit(X_train[:, :-1], y_train)\n",
    "    print('-----')\n",
    "    print(f'Best parameters {model_catboost.best_params_}')\n",
    "    print(\n",
    "        f'Mean cross-validated accuracy score of the best_estimator: ' + \n",
    "        f'{model_catboost.best_score_:.3f}')\n",
    "    cross_valid_scores['catboost'] = model_catboost.best_score_\n",
    "    print('-----')"
   ]
  },
  {
   "cell_type": "code",
   "execution_count": null,
   "id": "af26eaef-59d0-4173-b316-060c53cab803",
   "metadata": {},
   "outputs": [],
   "source": [
    "pd.DataFrame(cross_valid_scores, index=['cross_valid_score']).T"
   ]
  },
  {
   "cell_type": "code",
   "execution_count": null,
   "id": "3c3741b0-bbfc-44f8-9b43-e91a6b2eb1c0",
   "metadata": {},
   "outputs": [],
   "source": [
    "def create_submission(model, X_test, test_passenger_id, model_name):\n",
    "    y_pred_test = model.predict_proba(X_test)[:, 1]\n",
    "    submission = pd.DataFrame(\n",
    "        {\n",
    "            'PassengerId': test_passenger_id, \n",
    "            'Survived': (y_pred_test >= 0.5).astype(int),\n",
    "        }\n",
    "    )\n",
    "    submission.to_csv(f\"submission_{model_name}.csv\", index=False)\n",
    "    \n",
    "    return y_pred_test"
   ]
  }
 ],
 "metadata": {
  "kernelspec": {
   "display_name": "Python 3 (ipykernel)",
   "language": "python",
   "name": "python3"
  },
  "language_info": {
   "codemirror_mode": {
    "name": "ipython",
    "version": 3
   },
   "file_extension": ".py",
   "mimetype": "text/x-python",
   "name": "python",
   "nbconvert_exporter": "python",
   "pygments_lexer": "ipython3",
   "version": "3.10.11"
  }
 },
 "nbformat": 4,
 "nbformat_minor": 5
}
